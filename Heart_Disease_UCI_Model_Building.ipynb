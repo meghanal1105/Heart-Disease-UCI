{
  "nbformat": 4,
  "nbformat_minor": 0,
  "metadata": {
    "colab": {
      "name": "Heart Disease UCI Model Building",
      "provenance": [],
      "collapsed_sections": []
    },
    "kernelspec": {
      "name": "python3",
      "display_name": "Python 3"
    },
    "language_info": {
      "name": "python"
    }
  },
  "cells": [
    {
      "cell_type": "code",
      "metadata": {
        "id": "PY4e67PLMf8r"
      },
      "source": [
        "import numpy as np\n",
        "import pandas as pd\n",
        "import scipy.stats\n",
        "import matplotlib.pyplot as plt\n",
        "import seaborn as sns\n",
        "import statsmodels.api as sm\n",
        "from statsmodels.formula.api import ols\n",
        "from statsmodels.stats.multicomp import pairwise_tukeyhsd\n",
        "from scipy.stats import chi2_contingency"
      ],
      "execution_count": null,
      "outputs": []
    },
    {
      "cell_type": "code",
      "metadata": {
        "colab": {
          "resources": {
            "http://localhost:8080/nbextensions/google.colab/files.js": {
              "data": "Ly8gQ29weXJpZ2h0IDIwMTcgR29vZ2xlIExMQwovLwovLyBMaWNlbnNlZCB1bmRlciB0aGUgQXBhY2hlIExpY2Vuc2UsIFZlcnNpb24gMi4wICh0aGUgIkxpY2Vuc2UiKTsKLy8geW91IG1heSBub3QgdXNlIHRoaXMgZmlsZSBleGNlcHQgaW4gY29tcGxpYW5jZSB3aXRoIHRoZSBMaWNlbnNlLgovLyBZb3UgbWF5IG9idGFpbiBhIGNvcHkgb2YgdGhlIExpY2Vuc2UgYXQKLy8KLy8gICAgICBodHRwOi8vd3d3LmFwYWNoZS5vcmcvbGljZW5zZXMvTElDRU5TRS0yLjAKLy8KLy8gVW5sZXNzIHJlcXVpcmVkIGJ5IGFwcGxpY2FibGUgbGF3IG9yIGFncmVlZCB0byBpbiB3cml0aW5nLCBzb2Z0d2FyZQovLyBkaXN0cmlidXRlZCB1bmRlciB0aGUgTGljZW5zZSBpcyBkaXN0cmlidXRlZCBvbiBhbiAiQVMgSVMiIEJBU0lTLAovLyBXSVRIT1VUIFdBUlJBTlRJRVMgT1IgQ09ORElUSU9OUyBPRiBBTlkgS0lORCwgZWl0aGVyIGV4cHJlc3Mgb3IgaW1wbGllZC4KLy8gU2VlIHRoZSBMaWNlbnNlIGZvciB0aGUgc3BlY2lmaWMgbGFuZ3VhZ2UgZ292ZXJuaW5nIHBlcm1pc3Npb25zIGFuZAovLyBsaW1pdGF0aW9ucyB1bmRlciB0aGUgTGljZW5zZS4KCi8qKgogKiBAZmlsZW92ZXJ2aWV3IEhlbHBlcnMgZm9yIGdvb2dsZS5jb2xhYiBQeXRob24gbW9kdWxlLgogKi8KKGZ1bmN0aW9uKHNjb3BlKSB7CmZ1bmN0aW9uIHNwYW4odGV4dCwgc3R5bGVBdHRyaWJ1dGVzID0ge30pIHsKICBjb25zdCBlbGVtZW50ID0gZG9jdW1lbnQuY3JlYXRlRWxlbWVudCgnc3BhbicpOwogIGVsZW1lbnQudGV4dENvbnRlbnQgPSB0ZXh0OwogIGZvciAoY29uc3Qga2V5IG9mIE9iamVjdC5rZXlzKHN0eWxlQXR0cmlidXRlcykpIHsKICAgIGVsZW1lbnQuc3R5bGVba2V5XSA9IHN0eWxlQXR0cmlidXRlc1trZXldOwogIH0KICByZXR1cm4gZWxlbWVudDsKfQoKLy8gTWF4IG51bWJlciBvZiBieXRlcyB3aGljaCB3aWxsIGJlIHVwbG9hZGVkIGF0IGEgdGltZS4KY29uc3QgTUFYX1BBWUxPQURfU0laRSA9IDEwMCAqIDEwMjQ7CgpmdW5jdGlvbiBfdXBsb2FkRmlsZXMoaW5wdXRJZCwgb3V0cHV0SWQpIHsKICBjb25zdCBzdGVwcyA9IHVwbG9hZEZpbGVzU3RlcChpbnB1dElkLCBvdXRwdXRJZCk7CiAgY29uc3Qgb3V0cHV0RWxlbWVudCA9IGRvY3VtZW50LmdldEVsZW1lbnRCeUlkKG91dHB1dElkKTsKICAvLyBDYWNoZSBzdGVwcyBvbiB0aGUgb3V0cHV0RWxlbWVudCB0byBtYWtlIGl0IGF2YWlsYWJsZSBmb3IgdGhlIG5leHQgY2FsbAogIC8vIHRvIHVwbG9hZEZpbGVzQ29udGludWUgZnJvbSBQeXRob24uCiAgb3V0cHV0RWxlbWVudC5zdGVwcyA9IHN0ZXBzOwoKICByZXR1cm4gX3VwbG9hZEZpbGVzQ29udGludWUob3V0cHV0SWQpOwp9CgovLyBUaGlzIGlzIHJvdWdobHkgYW4gYXN5bmMgZ2VuZXJhdG9yIChub3Qgc3VwcG9ydGVkIGluIHRoZSBicm93c2VyIHlldCksCi8vIHdoZXJlIHRoZXJlIGFyZSBtdWx0aXBsZSBhc3luY2hyb25vdXMgc3RlcHMgYW5kIHRoZSBQeXRob24gc2lkZSBpcyBnb2luZwovLyB0byBwb2xsIGZvciBjb21wbGV0aW9uIG9mIGVhY2ggc3RlcC4KLy8gVGhpcyB1c2VzIGEgUHJvbWlzZSB0byBibG9jayB0aGUgcHl0aG9uIHNpZGUgb24gY29tcGxldGlvbiBvZiBlYWNoIHN0ZXAsCi8vIHRoZW4gcGFzc2VzIHRoZSByZXN1bHQgb2YgdGhlIHByZXZpb3VzIHN0ZXAgYXMgdGhlIGlucHV0IHRvIHRoZSBuZXh0IHN0ZXAuCmZ1bmN0aW9uIF91cGxvYWRGaWxlc0NvbnRpbnVlKG91dHB1dElkKSB7CiAgY29uc3Qgb3V0cHV0RWxlbWVudCA9IGRvY3VtZW50LmdldEVsZW1lbnRCeUlkKG91dHB1dElkKTsKICBjb25zdCBzdGVwcyA9IG91dHB1dEVsZW1lbnQuc3RlcHM7CgogIGNvbnN0IG5leHQgPSBzdGVwcy5uZXh0KG91dHB1dEVsZW1lbnQubGFzdFByb21pc2VWYWx1ZSk7CiAgcmV0dXJuIFByb21pc2UucmVzb2x2ZShuZXh0LnZhbHVlLnByb21pc2UpLnRoZW4oKHZhbHVlKSA9PiB7CiAgICAvLyBDYWNoZSB0aGUgbGFzdCBwcm9taXNlIHZhbHVlIHRvIG1ha2UgaXQgYXZhaWxhYmxlIHRvIHRoZSBuZXh0CiAgICAvLyBzdGVwIG9mIHRoZSBnZW5lcmF0b3IuCiAgICBvdXRwdXRFbGVtZW50Lmxhc3RQcm9taXNlVmFsdWUgPSB2YWx1ZTsKICAgIHJldHVybiBuZXh0LnZhbHVlLnJlc3BvbnNlOwogIH0pOwp9CgovKioKICogR2VuZXJhdG9yIGZ1bmN0aW9uIHdoaWNoIGlzIGNhbGxlZCBiZXR3ZWVuIGVhY2ggYXN5bmMgc3RlcCBvZiB0aGUgdXBsb2FkCiAqIHByb2Nlc3MuCiAqIEBwYXJhbSB7c3RyaW5nfSBpbnB1dElkIEVsZW1lbnQgSUQgb2YgdGhlIGlucHV0IGZpbGUgcGlja2VyIGVsZW1lbnQuCiAqIEBwYXJhbSB7c3RyaW5nfSBvdXRwdXRJZCBFbGVtZW50IElEIG9mIHRoZSBvdXRwdXQgZGlzcGxheS4KICogQHJldHVybiB7IUl0ZXJhYmxlPCFPYmplY3Q+fSBJdGVyYWJsZSBvZiBuZXh0IHN0ZXBzLgogKi8KZnVuY3Rpb24qIHVwbG9hZEZpbGVzU3RlcChpbnB1dElkLCBvdXRwdXRJZCkgewogIGNvbnN0IGlucHV0RWxlbWVudCA9IGRvY3VtZW50LmdldEVsZW1lbnRCeUlkKGlucHV0SWQpOwogIGlucHV0RWxlbWVudC5kaXNhYmxlZCA9IGZhbHNlOwoKICBjb25zdCBvdXRwdXRFbGVtZW50ID0gZG9jdW1lbnQuZ2V0RWxlbWVudEJ5SWQob3V0cHV0SWQpOwogIG91dHB1dEVsZW1lbnQuaW5uZXJIVE1MID0gJyc7CgogIGNvbnN0IHBpY2tlZFByb21pc2UgPSBuZXcgUHJvbWlzZSgocmVzb2x2ZSkgPT4gewogICAgaW5wdXRFbGVtZW50LmFkZEV2ZW50TGlzdGVuZXIoJ2NoYW5nZScsIChlKSA9PiB7CiAgICAgIHJlc29sdmUoZS50YXJnZXQuZmlsZXMpOwogICAgfSk7CiAgfSk7CgogIGNvbnN0IGNhbmNlbCA9IGRvY3VtZW50LmNyZWF0ZUVsZW1lbnQoJ2J1dHRvbicpOwogIGlucHV0RWxlbWVudC5wYXJlbnRFbGVtZW50LmFwcGVuZENoaWxkKGNhbmNlbCk7CiAgY2FuY2VsLnRleHRDb250ZW50ID0gJ0NhbmNlbCB1cGxvYWQnOwogIGNvbnN0IGNhbmNlbFByb21pc2UgPSBuZXcgUHJvbWlzZSgocmVzb2x2ZSkgPT4gewogICAgY2FuY2VsLm9uY2xpY2sgPSAoKSA9PiB7CiAgICAgIHJlc29sdmUobnVsbCk7CiAgICB9OwogIH0pOwoKICAvLyBXYWl0IGZvciB0aGUgdXNlciB0byBwaWNrIHRoZSBmaWxlcy4KICBjb25zdCBmaWxlcyA9IHlpZWxkIHsKICAgIHByb21pc2U6IFByb21pc2UucmFjZShbcGlja2VkUHJvbWlzZSwgY2FuY2VsUHJvbWlzZV0pLAogICAgcmVzcG9uc2U6IHsKICAgICAgYWN0aW9uOiAnc3RhcnRpbmcnLAogICAgfQogIH07CgogIGNhbmNlbC5yZW1vdmUoKTsKCiAgLy8gRGlzYWJsZSB0aGUgaW5wdXQgZWxlbWVudCBzaW5jZSBmdXJ0aGVyIHBpY2tzIGFyZSBub3QgYWxsb3dlZC4KICBpbnB1dEVsZW1lbnQuZGlzYWJsZWQgPSB0cnVlOwoKICBpZiAoIWZpbGVzKSB7CiAgICByZXR1cm4gewogICAgICByZXNwb25zZTogewogICAgICAgIGFjdGlvbjogJ2NvbXBsZXRlJywKICAgICAgfQogICAgfTsKICB9CgogIGZvciAoY29uc3QgZmlsZSBvZiBmaWxlcykgewogICAgY29uc3QgbGkgPSBkb2N1bWVudC5jcmVhdGVFbGVtZW50KCdsaScpOwogICAgbGkuYXBwZW5kKHNwYW4oZmlsZS5uYW1lLCB7Zm9udFdlaWdodDogJ2JvbGQnfSkpOwogICAgbGkuYXBwZW5kKHNwYW4oCiAgICAgICAgYCgke2ZpbGUudHlwZSB8fCAnbi9hJ30pIC0gJHtmaWxlLnNpemV9IGJ5dGVzLCBgICsKICAgICAgICBgbGFzdCBtb2RpZmllZDogJHsKICAgICAgICAgICAgZmlsZS5sYXN0TW9kaWZpZWREYXRlID8gZmlsZS5sYXN0TW9kaWZpZWREYXRlLnRvTG9jYWxlRGF0ZVN0cmluZygpIDoKICAgICAgICAgICAgICAgICAgICAgICAgICAgICAgICAgICAgJ24vYSd9IC0gYCkpOwogICAgY29uc3QgcGVyY2VudCA9IHNwYW4oJzAlIGRvbmUnKTsKICAgIGxpLmFwcGVuZENoaWxkKHBlcmNlbnQpOwoKICAgIG91dHB1dEVsZW1lbnQuYXBwZW5kQ2hpbGQobGkpOwoKICAgIGNvbnN0IGZpbGVEYXRhUHJvbWlzZSA9IG5ldyBQcm9taXNlKChyZXNvbHZlKSA9PiB7CiAgICAgIGNvbnN0IHJlYWRlciA9IG5ldyBGaWxlUmVhZGVyKCk7CiAgICAgIHJlYWRlci5vbmxvYWQgPSAoZSkgPT4gewogICAgICAgIHJlc29sdmUoZS50YXJnZXQucmVzdWx0KTsKICAgICAgfTsKICAgICAgcmVhZGVyLnJlYWRBc0FycmF5QnVmZmVyKGZpbGUpOwogICAgfSk7CiAgICAvLyBXYWl0IGZvciB0aGUgZGF0YSB0byBiZSByZWFkeS4KICAgIGxldCBmaWxlRGF0YSA9IHlpZWxkIHsKICAgICAgcHJvbWlzZTogZmlsZURhdGFQcm9taXNlLAogICAgICByZXNwb25zZTogewogICAgICAgIGFjdGlvbjogJ2NvbnRpbnVlJywKICAgICAgfQogICAgfTsKCiAgICAvLyBVc2UgYSBjaHVua2VkIHNlbmRpbmcgdG8gYXZvaWQgbWVzc2FnZSBzaXplIGxpbWl0cy4gU2VlIGIvNjIxMTU2NjAuCiAgICBsZXQgcG9zaXRpb24gPSAwOwogICAgZG8gewogICAgICBjb25zdCBsZW5ndGggPSBNYXRoLm1pbihmaWxlRGF0YS5ieXRlTGVuZ3RoIC0gcG9zaXRpb24sIE1BWF9QQVlMT0FEX1NJWkUpOwogICAgICBjb25zdCBjaHVuayA9IG5ldyBVaW50OEFycmF5KGZpbGVEYXRhLCBwb3NpdGlvbiwgbGVuZ3RoKTsKICAgICAgcG9zaXRpb24gKz0gbGVuZ3RoOwoKICAgICAgY29uc3QgYmFzZTY0ID0gYnRvYShTdHJpbmcuZnJvbUNoYXJDb2RlLmFwcGx5KG51bGwsIGNodW5rKSk7CiAgICAgIHlpZWxkIHsKICAgICAgICByZXNwb25zZTogewogICAgICAgICAgYWN0aW9uOiAnYXBwZW5kJywKICAgICAgICAgIGZpbGU6IGZpbGUubmFtZSwKICAgICAgICAgIGRhdGE6IGJhc2U2NCwKICAgICAgICB9LAogICAgICB9OwoKICAgICAgbGV0IHBlcmNlbnREb25lID0gZmlsZURhdGEuYnl0ZUxlbmd0aCA9PT0gMCA/CiAgICAgICAgICAxMDAgOgogICAgICAgICAgTWF0aC5yb3VuZCgocG9zaXRpb24gLyBmaWxlRGF0YS5ieXRlTGVuZ3RoKSAqIDEwMCk7CiAgICAgIHBlcmNlbnQudGV4dENvbnRlbnQgPSBgJHtwZXJjZW50RG9uZX0lIGRvbmVgOwoKICAgIH0gd2hpbGUgKHBvc2l0aW9uIDwgZmlsZURhdGEuYnl0ZUxlbmd0aCk7CiAgfQoKICAvLyBBbGwgZG9uZS4KICB5aWVsZCB7CiAgICByZXNwb25zZTogewogICAgICBhY3Rpb246ICdjb21wbGV0ZScsCiAgICB9CiAgfTsKfQoKc2NvcGUuZ29vZ2xlID0gc2NvcGUuZ29vZ2xlIHx8IHt9OwpzY29wZS5nb29nbGUuY29sYWIgPSBzY29wZS5nb29nbGUuY29sYWIgfHwge307CnNjb3BlLmdvb2dsZS5jb2xhYi5fZmlsZXMgPSB7CiAgX3VwbG9hZEZpbGVzLAogIF91cGxvYWRGaWxlc0NvbnRpbnVlLAp9Owp9KShzZWxmKTsK",
              "ok": true,
              "headers": [
                [
                  "content-type",
                  "application/javascript"
                ]
              ],
              "status": 200,
              "status_text": ""
            }
          },
          "base_uri": "https://localhost:8080/",
          "height": 73
        },
        "id": "zGCjdI36MqNT",
        "outputId": "c4116709-0a44-45f7-aa8f-1cdfdaa21722"
      },
      "source": [
        "from google.colab import files\n",
        "uploaded= files.upload()"
      ],
      "execution_count": null,
      "outputs": [
        {
          "output_type": "display_data",
          "data": {
            "text/html": [
              "\n",
              "     <input type=\"file\" id=\"files-8e256edb-7492-4c0f-9826-5978dcac7c0a\" name=\"files[]\" multiple disabled\n",
              "        style=\"border:none\" />\n",
              "     <output id=\"result-8e256edb-7492-4c0f-9826-5978dcac7c0a\">\n",
              "      Upload widget is only available when the cell has been executed in the\n",
              "      current browser session. Please rerun this cell to enable.\n",
              "      </output>\n",
              "      <script src=\"/nbextensions/google.colab/files.js\"></script> "
            ],
            "text/plain": [
              "<IPython.core.display.HTML object>"
            ]
          },
          "metadata": {}
        },
        {
          "output_type": "stream",
          "name": "stdout",
          "text": [
            "Saving Heart_disease_UCI_EDA.csv to Heart_disease_UCI_EDA (1).csv\n"
          ]
        }
      ]
    },
    {
      "cell_type": "code",
      "metadata": {
        "id": "RDCMX92NMsnu"
      },
      "source": [
        "df= pd.read_csv(\"Heart_disease_UCI_EDA.csv\")"
      ],
      "execution_count": null,
      "outputs": []
    },
    {
      "cell_type": "code",
      "metadata": {
        "colab": {
          "base_uri": "https://localhost:8080/"
        },
        "id": "oJztrzLKNK2c",
        "outputId": "070c39e5-af81-4f31-e757-4b5e50319d94"
      },
      "source": [
        "df.info()"
      ],
      "execution_count": null,
      "outputs": [
        {
          "output_type": "stream",
          "name": "stdout",
          "text": [
            "<class 'pandas.core.frame.DataFrame'>\n",
            "RangeIndex: 303 entries, 0 to 302\n",
            "Data columns (total 14 columns):\n",
            " #   Column    Non-Null Count  Dtype  \n",
            "---  ------    --------------  -----  \n",
            " 0   age       303 non-null    int64  \n",
            " 1   sex       303 non-null    int64  \n",
            " 2   cp        303 non-null    int64  \n",
            " 3   trestbps  303 non-null    int64  \n",
            " 4   chol      303 non-null    float64\n",
            " 5   fbs       303 non-null    int64  \n",
            " 6   restecg   303 non-null    int64  \n",
            " 7   thalach   303 non-null    float64\n",
            " 8   exang     303 non-null    int64  \n",
            " 9   oldpeak   303 non-null    float64\n",
            " 10  slope     303 non-null    int64  \n",
            " 11  ca        303 non-null    int64  \n",
            " 12  thal      303 non-null    int64  \n",
            " 13  target    303 non-null    int64  \n",
            "dtypes: float64(3), int64(11)\n",
            "memory usage: 33.3 KB\n"
          ]
        }
      ]
    },
    {
      "cell_type": "code",
      "metadata": {
        "colab": {
          "base_uri": "https://localhost:8080/"
        },
        "id": "xACG_Nk7N1bU",
        "outputId": "d764f187-e9be-48b0-bbf3-dea05c936cd0"
      },
      "source": [
        "df.isna().sum()"
      ],
      "execution_count": null,
      "outputs": [
        {
          "output_type": "execute_result",
          "data": {
            "text/plain": [
              "age         0\n",
              "sex         0\n",
              "cp          0\n",
              "trestbps    0\n",
              "chol        0\n",
              "fbs         0\n",
              "restecg     0\n",
              "thalach     0\n",
              "exang       0\n",
              "oldpeak     0\n",
              "slope       0\n",
              "ca          0\n",
              "thal        0\n",
              "target      0\n",
              "dtype: int64"
            ]
          },
          "metadata": {},
          "execution_count": 17
        }
      ]
    },
    {
      "cell_type": "code",
      "metadata": {
        "colab": {
          "base_uri": "https://localhost:8080/",
          "height": 320
        },
        "id": "sKqYQ80HN4HX",
        "outputId": "570f4ea6-5c3d-4c48-8296-27a552b94a2c"
      },
      "source": [
        "df.describe()"
      ],
      "execution_count": null,
      "outputs": [
        {
          "output_type": "execute_result",
          "data": {
            "text/html": [
              "<div>\n",
              "<style scoped>\n",
              "    .dataframe tbody tr th:only-of-type {\n",
              "        vertical-align: middle;\n",
              "    }\n",
              "\n",
              "    .dataframe tbody tr th {\n",
              "        vertical-align: top;\n",
              "    }\n",
              "\n",
              "    .dataframe thead th {\n",
              "        text-align: right;\n",
              "    }\n",
              "</style>\n",
              "<table border=\"1\" class=\"dataframe\">\n",
              "  <thead>\n",
              "    <tr style=\"text-align: right;\">\n",
              "      <th></th>\n",
              "      <th>age</th>\n",
              "      <th>sex</th>\n",
              "      <th>cp</th>\n",
              "      <th>trestbps</th>\n",
              "      <th>chol</th>\n",
              "      <th>fbs</th>\n",
              "      <th>restecg</th>\n",
              "      <th>thalach</th>\n",
              "      <th>exang</th>\n",
              "      <th>oldpeak</th>\n",
              "      <th>slope</th>\n",
              "      <th>ca</th>\n",
              "      <th>thal</th>\n",
              "      <th>target</th>\n",
              "    </tr>\n",
              "  </thead>\n",
              "  <tbody>\n",
              "    <tr>\n",
              "      <th>count</th>\n",
              "      <td>303.000000</td>\n",
              "      <td>303.000000</td>\n",
              "      <td>303.000000</td>\n",
              "      <td>303.000000</td>\n",
              "      <td>303.000000</td>\n",
              "      <td>303.000000</td>\n",
              "      <td>303.000000</td>\n",
              "      <td>303.000000</td>\n",
              "      <td>303.000000</td>\n",
              "      <td>303.000000</td>\n",
              "      <td>303.000000</td>\n",
              "      <td>303.000000</td>\n",
              "      <td>303.000000</td>\n",
              "      <td>303.000000</td>\n",
              "    </tr>\n",
              "    <tr>\n",
              "      <th>mean</th>\n",
              "      <td>54.366337</td>\n",
              "      <td>0.683168</td>\n",
              "      <td>0.528053</td>\n",
              "      <td>131.280528</td>\n",
              "      <td>245.134488</td>\n",
              "      <td>0.148515</td>\n",
              "      <td>0.514851</td>\n",
              "      <td>149.692244</td>\n",
              "      <td>0.326733</td>\n",
              "      <td>1.024422</td>\n",
              "      <td>1.468647</td>\n",
              "      <td>0.405941</td>\n",
              "      <td>0.445545</td>\n",
              "      <td>0.544554</td>\n",
              "    </tr>\n",
              "    <tr>\n",
              "      <th>std</th>\n",
              "      <td>9.082101</td>\n",
              "      <td>0.466011</td>\n",
              "      <td>0.500038</td>\n",
              "      <td>16.582241</td>\n",
              "      <td>47.552910</td>\n",
              "      <td>0.356198</td>\n",
              "      <td>0.500606</td>\n",
              "      <td>22.762004</td>\n",
              "      <td>0.469794</td>\n",
              "      <td>1.110127</td>\n",
              "      <td>0.499842</td>\n",
              "      <td>0.491886</td>\n",
              "      <td>0.497848</td>\n",
              "      <td>0.498835</td>\n",
              "    </tr>\n",
              "    <tr>\n",
              "      <th>min</th>\n",
              "      <td>29.000000</td>\n",
              "      <td>0.000000</td>\n",
              "      <td>0.000000</td>\n",
              "      <td>94.000000</td>\n",
              "      <td>126.000000</td>\n",
              "      <td>0.000000</td>\n",
              "      <td>0.000000</td>\n",
              "      <td>84.750000</td>\n",
              "      <td>0.000000</td>\n",
              "      <td>0.000000</td>\n",
              "      <td>1.000000</td>\n",
              "      <td>0.000000</td>\n",
              "      <td>0.000000</td>\n",
              "      <td>0.000000</td>\n",
              "    </tr>\n",
              "    <tr>\n",
              "      <th>25%</th>\n",
              "      <td>47.500000</td>\n",
              "      <td>0.000000</td>\n",
              "      <td>0.000000</td>\n",
              "      <td>120.000000</td>\n",
              "      <td>211.000000</td>\n",
              "      <td>0.000000</td>\n",
              "      <td>0.000000</td>\n",
              "      <td>133.500000</td>\n",
              "      <td>0.000000</td>\n",
              "      <td>0.000000</td>\n",
              "      <td>1.000000</td>\n",
              "      <td>0.000000</td>\n",
              "      <td>0.000000</td>\n",
              "      <td>0.000000</td>\n",
              "    </tr>\n",
              "    <tr>\n",
              "      <th>50%</th>\n",
              "      <td>55.000000</td>\n",
              "      <td>1.000000</td>\n",
              "      <td>1.000000</td>\n",
              "      <td>130.000000</td>\n",
              "      <td>240.000000</td>\n",
              "      <td>0.000000</td>\n",
              "      <td>1.000000</td>\n",
              "      <td>153.000000</td>\n",
              "      <td>0.000000</td>\n",
              "      <td>0.800000</td>\n",
              "      <td>1.000000</td>\n",
              "      <td>0.000000</td>\n",
              "      <td>0.000000</td>\n",
              "      <td>1.000000</td>\n",
              "    </tr>\n",
              "    <tr>\n",
              "      <th>75%</th>\n",
              "      <td>61.000000</td>\n",
              "      <td>1.000000</td>\n",
              "      <td>1.000000</td>\n",
              "      <td>140.000000</td>\n",
              "      <td>274.500000</td>\n",
              "      <td>0.000000</td>\n",
              "      <td>1.000000</td>\n",
              "      <td>166.000000</td>\n",
              "      <td>1.000000</td>\n",
              "      <td>1.600000</td>\n",
              "      <td>2.000000</td>\n",
              "      <td>1.000000</td>\n",
              "      <td>1.000000</td>\n",
              "      <td>1.000000</td>\n",
              "    </tr>\n",
              "    <tr>\n",
              "      <th>max</th>\n",
              "      <td>77.000000</td>\n",
              "      <td>1.000000</td>\n",
              "      <td>1.000000</td>\n",
              "      <td>170.000000</td>\n",
              "      <td>369.750000</td>\n",
              "      <td>1.000000</td>\n",
              "      <td>1.000000</td>\n",
              "      <td>202.000000</td>\n",
              "      <td>1.000000</td>\n",
              "      <td>4.000000</td>\n",
              "      <td>2.000000</td>\n",
              "      <td>1.000000</td>\n",
              "      <td>1.000000</td>\n",
              "      <td>1.000000</td>\n",
              "    </tr>\n",
              "  </tbody>\n",
              "</table>\n",
              "</div>"
            ],
            "text/plain": [
              "              age         sex          cp  ...          ca        thal      target\n",
              "count  303.000000  303.000000  303.000000  ...  303.000000  303.000000  303.000000\n",
              "mean    54.366337    0.683168    0.528053  ...    0.405941    0.445545    0.544554\n",
              "std      9.082101    0.466011    0.500038  ...    0.491886    0.497848    0.498835\n",
              "min     29.000000    0.000000    0.000000  ...    0.000000    0.000000    0.000000\n",
              "25%     47.500000    0.000000    0.000000  ...    0.000000    0.000000    0.000000\n",
              "50%     55.000000    1.000000    1.000000  ...    0.000000    0.000000    1.000000\n",
              "75%     61.000000    1.000000    1.000000  ...    1.000000    1.000000    1.000000\n",
              "max     77.000000    1.000000    1.000000  ...    1.000000    1.000000    1.000000\n",
              "\n",
              "[8 rows x 14 columns]"
            ]
          },
          "metadata": {},
          "execution_count": 18
        }
      ]
    },
    {
      "cell_type": "code",
      "metadata": {
        "colab": {
          "base_uri": "https://localhost:8080/"
        },
        "id": "t2xgmWLON6fh",
        "outputId": "9dfebe08-4ca7-42c8-e5b9-78e37ba54bf8"
      },
      "source": [
        "df.shape"
      ],
      "execution_count": null,
      "outputs": [
        {
          "output_type": "execute_result",
          "data": {
            "text/plain": [
              "(303, 14)"
            ]
          },
          "metadata": {},
          "execution_count": 21
        }
      ]
    },
    {
      "cell_type": "code",
      "metadata": {
        "id": "i43CZkyzNMy7"
      },
      "source": [
        "df1= df[:]"
      ],
      "execution_count": null,
      "outputs": []
    },
    {
      "cell_type": "code",
      "metadata": {
        "colab": {
          "base_uri": "https://localhost:8080/"
        },
        "id": "YqPUki-UOCm7",
        "outputId": "2eb710d8-e3b8-453a-81dd-f5e58e8e74ab"
      },
      "source": [
        "df1.info()"
      ],
      "execution_count": null,
      "outputs": [
        {
          "output_type": "stream",
          "name": "stdout",
          "text": [
            "<class 'pandas.core.frame.DataFrame'>\n",
            "RangeIndex: 303 entries, 0 to 302\n",
            "Data columns (total 14 columns):\n",
            " #   Column    Non-Null Count  Dtype  \n",
            "---  ------    --------------  -----  \n",
            " 0   age       303 non-null    int64  \n",
            " 1   sex       303 non-null    int64  \n",
            " 2   cp        303 non-null    int64  \n",
            " 3   trestbps  303 non-null    int64  \n",
            " 4   chol      303 non-null    float64\n",
            " 5   fbs       303 non-null    int64  \n",
            " 6   restecg   303 non-null    int64  \n",
            " 7   thalach   303 non-null    float64\n",
            " 8   exang     303 non-null    int64  \n",
            " 9   oldpeak   303 non-null    float64\n",
            " 10  slope     303 non-null    int64  \n",
            " 11  ca        303 non-null    int64  \n",
            " 12  thal      303 non-null    int64  \n",
            " 13  target    303 non-null    int64  \n",
            "dtypes: float64(3), int64(11)\n",
            "memory usage: 33.3 KB\n"
          ]
        }
      ]
    },
    {
      "cell_type": "code",
      "metadata": {
        "id": "9GRY3YHAOE9l"
      },
      "source": [
        "#Creating Dummies of Categorical Variables and dropping 1st dummy variable\n",
        "\n",
        "Catg_vars =['sex', 'cp', 'fbs', 'restecg', 'exang', 'slope', 'ca', 'thal']"
      ],
      "execution_count": null,
      "outputs": []
    },
    {
      "cell_type": "code",
      "metadata": {
        "id": "lfyCndyOOxFS"
      },
      "source": [
        "for i in Catg_vars:\n",
        "    Catg_list = 'var'+'_'+i\n",
        "    Catg_list = pd.get_dummies(df[i], drop_first=True, prefix = i)\n",
        "    df1 = df1.join(Catg_list)\n",
        "    df1 "
      ],
      "execution_count": null,
      "outputs": []
    },
    {
      "cell_type": "code",
      "metadata": {
        "colab": {
          "base_uri": "https://localhost:8080/"
        },
        "id": "MM2W1T3iQMPD",
        "outputId": "d8f7a0f1-0105-424b-f3b7-7e4a1ace3563"
      },
      "source": [
        "df.info()"
      ],
      "execution_count": null,
      "outputs": [
        {
          "output_type": "stream",
          "name": "stdout",
          "text": [
            "<class 'pandas.core.frame.DataFrame'>\n",
            "RangeIndex: 303 entries, 0 to 302\n",
            "Data columns (total 14 columns):\n",
            " #   Column    Non-Null Count  Dtype  \n",
            "---  ------    --------------  -----  \n",
            " 0   age       303 non-null    int64  \n",
            " 1   sex       303 non-null    int64  \n",
            " 2   cp        303 non-null    int64  \n",
            " 3   trestbps  303 non-null    int64  \n",
            " 4   chol      303 non-null    float64\n",
            " 5   fbs       303 non-null    int64  \n",
            " 6   restecg   303 non-null    int64  \n",
            " 7   thalach   303 non-null    float64\n",
            " 8   exang     303 non-null    int64  \n",
            " 9   oldpeak   303 non-null    float64\n",
            " 10  slope     303 non-null    int64  \n",
            " 11  ca        303 non-null    int64  \n",
            " 12  thal      303 non-null    int64  \n",
            " 13  target    303 non-null    int64  \n",
            "dtypes: float64(3), int64(11)\n",
            "memory usage: 33.3 KB\n"
          ]
        }
      ]
    },
    {
      "cell_type": "code",
      "metadata": {
        "colab": {
          "base_uri": "https://localhost:8080/"
        },
        "id": "hi9YM-ImQNoO",
        "outputId": "71fb7633-aae4-43bd-ec85-52e9bd38f065"
      },
      "source": [
        "df1.info()"
      ],
      "execution_count": null,
      "outputs": [
        {
          "output_type": "stream",
          "name": "stdout",
          "text": [
            "<class 'pandas.core.frame.DataFrame'>\n",
            "RangeIndex: 303 entries, 0 to 302\n",
            "Data columns (total 22 columns):\n",
            " #   Column     Non-Null Count  Dtype  \n",
            "---  ------     --------------  -----  \n",
            " 0   age        303 non-null    int64  \n",
            " 1   sex        303 non-null    int64  \n",
            " 2   cp         303 non-null    int64  \n",
            " 3   trestbps   303 non-null    int64  \n",
            " 4   chol       303 non-null    float64\n",
            " 5   fbs        303 non-null    int64  \n",
            " 6   restecg    303 non-null    int64  \n",
            " 7   thalach    303 non-null    float64\n",
            " 8   exang      303 non-null    int64  \n",
            " 9   oldpeak    303 non-null    float64\n",
            " 10  slope      303 non-null    int64  \n",
            " 11  ca         303 non-null    int64  \n",
            " 12  thal       303 non-null    int64  \n",
            " 13  target     303 non-null    int64  \n",
            " 14  sex_1      303 non-null    uint8  \n",
            " 15  cp_1       303 non-null    uint8  \n",
            " 16  fbs_1      303 non-null    uint8  \n",
            " 17  restecg_1  303 non-null    uint8  \n",
            " 18  exang_1    303 non-null    uint8  \n",
            " 19  slope_2    303 non-null    uint8  \n",
            " 20  ca_1       303 non-null    uint8  \n",
            " 21  thal_1     303 non-null    uint8  \n",
            "dtypes: float64(3), int64(11), uint8(8)\n",
            "memory usage: 35.6 KB\n"
          ]
        }
      ]
    },
    {
      "cell_type": "code",
      "metadata": {
        "id": "R2mNmaOhQPhO"
      },
      "source": [
        "#After Creating dummies and dropping 1st dummy now drop original variable\n",
        "Catg_vars = ['sex', 'cp', 'fbs', 'restecg', 'exang', 'slope', 'ca', 'thal']"
      ],
      "execution_count": null,
      "outputs": []
    },
    {
      "cell_type": "code",
      "metadata": {
        "id": "Rx3E0W9KQuAU"
      },
      "source": [
        "df_vars = df1.columns.values.tolist()"
      ],
      "execution_count": null,
      "outputs": []
    },
    {
      "cell_type": "code",
      "metadata": {
        "id": "uK0k4O91RJOt"
      },
      "source": [
        "to_keep = [i for i in df_vars if i not in Catg_vars] \n",
        "# keep only those which are not in the list of data_vars"
      ],
      "execution_count": null,
      "outputs": []
    },
    {
      "cell_type": "code",
      "metadata": {
        "id": "QPZIGK7mRZY6"
      },
      "source": [
        "df_final = df1[to_keep]"
      ],
      "execution_count": null,
      "outputs": []
    },
    {
      "cell_type": "code",
      "metadata": {
        "colab": {
          "base_uri": "https://localhost:8080/"
        },
        "id": "WidGqt38RdSk",
        "outputId": "84db60aa-9643-4d44-b0a5-86cb49ab0815"
      },
      "source": [
        "df_final.columns.values"
      ],
      "execution_count": null,
      "outputs": [
        {
          "output_type": "execute_result",
          "data": {
            "text/plain": [
              "array(['age', 'trestbps', 'chol', 'thalach', 'oldpeak', 'target', 'sex_1',\n",
              "       'cp_1', 'fbs_1', 'restecg_1', 'exang_1', 'slope_2', 'ca_1',\n",
              "       'thal_1'], dtype=object)"
            ]
          },
          "metadata": {},
          "execution_count": 32
        }
      ]
    },
    {
      "cell_type": "code",
      "metadata": {
        "colab": {
          "base_uri": "https://localhost:8080/"
        },
        "id": "sW7giK4lRfOq",
        "outputId": "d533cb9d-225b-4f4a-cc4e-460b9aae90cf"
      },
      "source": [
        "df_final.info()"
      ],
      "execution_count": null,
      "outputs": [
        {
          "output_type": "stream",
          "name": "stdout",
          "text": [
            "<class 'pandas.core.frame.DataFrame'>\n",
            "RangeIndex: 303 entries, 0 to 302\n",
            "Data columns (total 14 columns):\n",
            " #   Column     Non-Null Count  Dtype  \n",
            "---  ------     --------------  -----  \n",
            " 0   age        303 non-null    int64  \n",
            " 1   trestbps   303 non-null    int64  \n",
            " 2   chol       303 non-null    float64\n",
            " 3   thalach    303 non-null    float64\n",
            " 4   oldpeak    303 non-null    float64\n",
            " 5   target     303 non-null    int64  \n",
            " 6   sex_1      303 non-null    uint8  \n",
            " 7   cp_1       303 non-null    uint8  \n",
            " 8   fbs_1      303 non-null    uint8  \n",
            " 9   restecg_1  303 non-null    uint8  \n",
            " 10  exang_1    303 non-null    uint8  \n",
            " 11  slope_2    303 non-null    uint8  \n",
            " 12  ca_1       303 non-null    uint8  \n",
            " 13  thal_1     303 non-null    uint8  \n",
            "dtypes: float64(3), int64(3), uint8(8)\n",
            "memory usage: 16.7 KB\n"
          ]
        }
      ]
    },
    {
      "cell_type": "code",
      "metadata": {
        "id": "anfiCd5TRhqW"
      },
      "source": [
        "X = df_final.loc[:, df_final.columns!= 'target']\n",
        "y = df_final.loc[:, df_final.columns== 'target']"
      ],
      "execution_count": null,
      "outputs": []
    },
    {
      "cell_type": "code",
      "metadata": {
        "colab": {
          "base_uri": "https://localhost:8080/"
        },
        "id": "R5QSiTxaSBKO",
        "outputId": "743468d1-e4ee-4285-b9e7-7510c099b4e5"
      },
      "source": [
        "X.info()"
      ],
      "execution_count": null,
      "outputs": [
        {
          "output_type": "stream",
          "name": "stdout",
          "text": [
            "<class 'pandas.core.frame.DataFrame'>\n",
            "RangeIndex: 303 entries, 0 to 302\n",
            "Data columns (total 13 columns):\n",
            " #   Column     Non-Null Count  Dtype  \n",
            "---  ------     --------------  -----  \n",
            " 0   age        303 non-null    int64  \n",
            " 1   trestbps   303 non-null    int64  \n",
            " 2   chol       303 non-null    float64\n",
            " 3   thalach    303 non-null    float64\n",
            " 4   oldpeak    303 non-null    float64\n",
            " 5   sex_1      303 non-null    uint8  \n",
            " 6   cp_1       303 non-null    uint8  \n",
            " 7   fbs_1      303 non-null    uint8  \n",
            " 8   restecg_1  303 non-null    uint8  \n",
            " 9   exang_1    303 non-null    uint8  \n",
            " 10  slope_2    303 non-null    uint8  \n",
            " 11  ca_1       303 non-null    uint8  \n",
            " 12  thal_1     303 non-null    uint8  \n",
            "dtypes: float64(3), int64(2), uint8(8)\n",
            "memory usage: 14.3 KB\n"
          ]
        }
      ]
    },
    {
      "cell_type": "code",
      "metadata": {
        "colab": {
          "base_uri": "https://localhost:8080/",
          "height": 423
        },
        "id": "5mB0DeCLSELu",
        "outputId": "c8cbc7c2-506a-400a-ae0f-8cb143bdb137"
      },
      "source": [
        "y"
      ],
      "execution_count": null,
      "outputs": [
        {
          "output_type": "execute_result",
          "data": {
            "text/html": [
              "<div>\n",
              "<style scoped>\n",
              "    .dataframe tbody tr th:only-of-type {\n",
              "        vertical-align: middle;\n",
              "    }\n",
              "\n",
              "    .dataframe tbody tr th {\n",
              "        vertical-align: top;\n",
              "    }\n",
              "\n",
              "    .dataframe thead th {\n",
              "        text-align: right;\n",
              "    }\n",
              "</style>\n",
              "<table border=\"1\" class=\"dataframe\">\n",
              "  <thead>\n",
              "    <tr style=\"text-align: right;\">\n",
              "      <th></th>\n",
              "      <th>target</th>\n",
              "    </tr>\n",
              "  </thead>\n",
              "  <tbody>\n",
              "    <tr>\n",
              "      <th>0</th>\n",
              "      <td>1</td>\n",
              "    </tr>\n",
              "    <tr>\n",
              "      <th>1</th>\n",
              "      <td>1</td>\n",
              "    </tr>\n",
              "    <tr>\n",
              "      <th>2</th>\n",
              "      <td>1</td>\n",
              "    </tr>\n",
              "    <tr>\n",
              "      <th>3</th>\n",
              "      <td>1</td>\n",
              "    </tr>\n",
              "    <tr>\n",
              "      <th>4</th>\n",
              "      <td>1</td>\n",
              "    </tr>\n",
              "    <tr>\n",
              "      <th>...</th>\n",
              "      <td>...</td>\n",
              "    </tr>\n",
              "    <tr>\n",
              "      <th>298</th>\n",
              "      <td>0</td>\n",
              "    </tr>\n",
              "    <tr>\n",
              "      <th>299</th>\n",
              "      <td>0</td>\n",
              "    </tr>\n",
              "    <tr>\n",
              "      <th>300</th>\n",
              "      <td>0</td>\n",
              "    </tr>\n",
              "    <tr>\n",
              "      <th>301</th>\n",
              "      <td>0</td>\n",
              "    </tr>\n",
              "    <tr>\n",
              "      <th>302</th>\n",
              "      <td>0</td>\n",
              "    </tr>\n",
              "  </tbody>\n",
              "</table>\n",
              "<p>303 rows × 1 columns</p>\n",
              "</div>"
            ],
            "text/plain": [
              "     target\n",
              "0         1\n",
              "1         1\n",
              "2         1\n",
              "3         1\n",
              "4         1\n",
              "..      ...\n",
              "298       0\n",
              "299       0\n",
              "300       0\n",
              "301       0\n",
              "302       0\n",
              "\n",
              "[303 rows x 1 columns]"
            ]
          },
          "metadata": {},
          "execution_count": 36
        }
      ]
    },
    {
      "cell_type": "code",
      "metadata": {
        "id": "PIW6FiVZSGVy"
      },
      "source": [
        "''' Splitting the data into Train & Test (70-30 respectively) '''\n",
        "\n",
        "from sklearn.linear_model import LogisticRegression\n",
        "from sklearn.model_selection import train_test_split"
      ],
      "execution_count": null,
      "outputs": []
    },
    {
      "cell_type": "code",
      "metadata": {
        "id": "Zs-rO1RhSIw-"
      },
      "source": [
        "X_train, X_test, y_train, y_test = train_test_split(X, y, test_size=0.3, random_state=0)"
      ],
      "execution_count": null,
      "outputs": []
    },
    {
      "cell_type": "code",
      "metadata": {
        "id": "nVTdT8NHSK2V"
      },
      "source": [
        "train = X_train.join(y_train)"
      ],
      "execution_count": null,
      "outputs": []
    },
    {
      "cell_type": "code",
      "metadata": {
        "colab": {
          "base_uri": "https://localhost:8080/"
        },
        "id": "aGWAytpaSWR0",
        "outputId": "492560a0-9e27-442c-f741-3e3f45aa3c52"
      },
      "source": [
        "train.info()"
      ],
      "execution_count": null,
      "outputs": [
        {
          "output_type": "stream",
          "name": "stdout",
          "text": [
            "<class 'pandas.core.frame.DataFrame'>\n",
            "Int64Index: 212 entries, 137 to 172\n",
            "Data columns (total 14 columns):\n",
            " #   Column     Non-Null Count  Dtype  \n",
            "---  ------     --------------  -----  \n",
            " 0   age        212 non-null    int64  \n",
            " 1   trestbps   212 non-null    int64  \n",
            " 2   chol       212 non-null    float64\n",
            " 3   thalach    212 non-null    float64\n",
            " 4   oldpeak    212 non-null    float64\n",
            " 5   sex_1      212 non-null    uint8  \n",
            " 6   cp_1       212 non-null    uint8  \n",
            " 7   fbs_1      212 non-null    uint8  \n",
            " 8   restecg_1  212 non-null    uint8  \n",
            " 9   exang_1    212 non-null    uint8  \n",
            " 10  slope_2    212 non-null    uint8  \n",
            " 11  ca_1       212 non-null    uint8  \n",
            " 12  thal_1     212 non-null    uint8  \n",
            " 13  target     212 non-null    int64  \n",
            "dtypes: float64(3), int64(3), uint8(8)\n",
            "memory usage: 23.2 KB\n"
          ]
        }
      ]
    },
    {
      "cell_type": "code",
      "metadata": {
        "colab": {
          "base_uri": "https://localhost:8080/"
        },
        "id": "_5TJ7dfYV7zq",
        "outputId": "018b03ca-97d4-40fb-e9c4-31e33a164e11"
      },
      "source": [
        "no_disease = train[train.target == 0] \n",
        "len(no_disease)"
      ],
      "execution_count": null,
      "outputs": [
        {
          "output_type": "execute_result",
          "data": {
            "text/plain": [
              "94"
            ]
          },
          "metadata": {},
          "execution_count": 41
        }
      ]
    },
    {
      "cell_type": "code",
      "metadata": {
        "colab": {
          "base_uri": "https://localhost:8080/"
        },
        "id": "127WQT7gWgaA",
        "outputId": "e56ea15b-a211-4f2d-eb8a-ca99d3324e45"
      },
      "source": [
        "yes_disease = train[train.target == 1] \n",
        "len(yes_disease)"
      ],
      "execution_count": null,
      "outputs": [
        {
          "output_type": "execute_result",
          "data": {
            "text/plain": [
              "118"
            ]
          },
          "metadata": {},
          "execution_count": 42
        }
      ]
    },
    {
      "cell_type": "code",
      "metadata": {
        "id": "fxC2NYF5Wo6S"
      },
      "source": [
        "from sklearn.utils import resample"
      ],
      "execution_count": null,
      "outputs": []
    },
    {
      "cell_type": "code",
      "metadata": {
        "id": "VxvQ0wW8WsJr"
      },
      "source": [
        "# Smote is done - over sampling\n",
        "no_disease_os = resample(no_disease,\n",
        "                          replace = True, \n",
        "                          n_samples = len(yes_disease),\n",
        "                          random_state = 14)"
      ],
      "execution_count": null,
      "outputs": []
    },
    {
      "cell_type": "code",
      "metadata": {
        "id": "ngbJssYiXSX9"
      },
      "source": [
        "train_os = pd.concat([yes_disease, no_disease_os])"
      ],
      "execution_count": null,
      "outputs": []
    },
    {
      "cell_type": "code",
      "metadata": {
        "colab": {
          "base_uri": "https://localhost:8080/"
        },
        "id": "pYY8DhSAXeK3",
        "outputId": "73b96a3c-d64d-4f5e-9072-9d705ab8bdc4"
      },
      "source": [
        "train_os.target.value_counts()"
      ],
      "execution_count": null,
      "outputs": [
        {
          "output_type": "execute_result",
          "data": {
            "text/plain": [
              "1    118\n",
              "0    118\n",
              "Name: target, dtype: int64"
            ]
          },
          "metadata": {},
          "execution_count": 46
        }
      ]
    },
    {
      "cell_type": "code",
      "metadata": {
        "id": "8HDxr7ywXh8X"
      },
      "source": [
        "X_train_os = train_os.loc[:, train_os.columns != 'target']\n",
        "y_train_os = train_os.loc[:, train_os.columns == 'target']"
      ],
      "execution_count": null,
      "outputs": []
    },
    {
      "cell_type": "markdown",
      "metadata": {
        "id": "3ggRmwvHXs3c"
      },
      "source": [
        "**#Recurrsive Feature Elimination**"
      ]
    },
    {
      "cell_type": "code",
      "metadata": {
        "id": "hw4CCPqjXpd2"
      },
      "source": [
        "from sklearn import datasets\n",
        "from sklearn.feature_selection import RFE\n",
        "from sklearn.linear_model import LogisticRegression"
      ],
      "execution_count": null,
      "outputs": []
    },
    {
      "cell_type": "code",
      "metadata": {
        "id": "e8i04McWXsK5"
      },
      "source": [
        "logreg = LogisticRegression(max_iter=10000000)"
      ],
      "execution_count": null,
      "outputs": []
    },
    {
      "cell_type": "code",
      "metadata": {
        "id": "g8D2ZY5eX2C3"
      },
      "source": [
        "rfe = RFE(logreg, n_features_to_select=11)"
      ],
      "execution_count": null,
      "outputs": []
    },
    {
      "cell_type": "code",
      "metadata": {
        "colab": {
          "base_uri": "https://localhost:8080/"
        },
        "id": "q4_jfdDWX7M9",
        "outputId": "81098069-fdf8-4a1e-b423-f8a2606791fd"
      },
      "source": [
        "rfe = rfe.fit(X_train_os, y_train_os.values.ravel())"
      ],
      "execution_count": null,
      "outputs": [
        {
          "output_type": "stream",
          "name": "stderr",
          "text": [
            "/usr/local/lib/python3.7/dist-packages/sklearn/linear_model/_sag.py:354: ConvergenceWarning: The max_iter was reached which means the coef_ did not converge\n",
            "  ConvergenceWarning,\n",
            "/usr/local/lib/python3.7/dist-packages/sklearn/linear_model/_sag.py:354: ConvergenceWarning: The max_iter was reached which means the coef_ did not converge\n",
            "  ConvergenceWarning,\n",
            "/usr/local/lib/python3.7/dist-packages/sklearn/linear_model/_sag.py:354: ConvergenceWarning: The max_iter was reached which means the coef_ did not converge\n",
            "  ConvergenceWarning,\n"
          ]
        }
      ]
    },
    {
      "cell_type": "code",
      "metadata": {
        "colab": {
          "base_uri": "https://localhost:8080/"
        },
        "id": "mVQxkDBUX9N0",
        "outputId": "3e99b25f-d226-4e0c-bf4f-0e131515575f"
      },
      "source": [
        "rfe.n_features_to_select"
      ],
      "execution_count": null,
      "outputs": [
        {
          "output_type": "execute_result",
          "data": {
            "text/plain": [
              "11"
            ]
          },
          "metadata": {},
          "execution_count": 144
        }
      ]
    },
    {
      "cell_type": "code",
      "metadata": {
        "colab": {
          "base_uri": "https://localhost:8080/"
        },
        "id": "ZB3bgiY_X_Bq",
        "outputId": "907fb9e3-2cc7-4f43-d2b3-405bce234213"
      },
      "source": [
        "X_train_os.columns[rfe.get_support()]"
      ],
      "execution_count": null,
      "outputs": [
        {
          "output_type": "execute_result",
          "data": {
            "text/plain": [
              "Index(['trestbps', 'thalach', 'oldpeak', 'sex_1', 'cp_1', 'fbs_1', 'restecg_1',\n",
              "       'exang_1', 'slope_2', 'ca_1', 'thal_1'],\n",
              "      dtype='object')"
            ]
          },
          "metadata": {},
          "execution_count": 145
        }
      ]
    },
    {
      "cell_type": "code",
      "metadata": {
        "id": "aUkwYnewYBFm"
      },
      "source": [
        "cols = X_train_os.columns[rfe.get_support()]"
      ],
      "execution_count": null,
      "outputs": []
    },
    {
      "cell_type": "code",
      "metadata": {
        "colab": {
          "base_uri": "https://localhost:8080/"
        },
        "id": "2PKUa4w8YCzw",
        "outputId": "7eabca1d-0b6b-4456-d051-f62315445aa5"
      },
      "source": [
        "cols.to_list()"
      ],
      "execution_count": null,
      "outputs": [
        {
          "output_type": "execute_result",
          "data": {
            "text/plain": [
              "['trestbps',\n",
              " 'thalach',\n",
              " 'oldpeak',\n",
              " 'sex_1',\n",
              " 'cp_1',\n",
              " 'fbs_1',\n",
              " 'restecg_1',\n",
              " 'exang_1',\n",
              " 'slope_2',\n",
              " 'ca_1',\n",
              " 'thal_1']"
            ]
          },
          "metadata": {},
          "execution_count": 147
        }
      ]
    },
    {
      "cell_type": "markdown",
      "metadata": {
        "id": "alUxwtrkYIRa"
      },
      "source": [
        "**#Logistic Model by statistic apporach**"
      ]
    },
    {
      "cell_type": "code",
      "metadata": {
        "id": "ZK4Oykz-YFIw"
      },
      "source": [
        "#________________________________sm model to see p_values \n",
        "x1 = X_train_os[cols] "
      ],
      "execution_count": null,
      "outputs": []
    },
    {
      "cell_type": "code",
      "metadata": {
        "colab": {
          "base_uri": "https://localhost:8080/"
        },
        "id": "WhRWzJflYHp2",
        "outputId": "b2019e57-d1a2-48c1-f7dc-1d5517e60a55"
      },
      "source": [
        "x1.info()"
      ],
      "execution_count": null,
      "outputs": [
        {
          "output_type": "stream",
          "name": "stdout",
          "text": [
            "<class 'pandas.core.frame.DataFrame'>\n",
            "Int64Index: 236 entries, 137 to 186\n",
            "Data columns (total 11 columns):\n",
            " #   Column     Non-Null Count  Dtype  \n",
            "---  ------     --------------  -----  \n",
            " 0   trestbps   236 non-null    int64  \n",
            " 1   thalach    236 non-null    float64\n",
            " 2   oldpeak    236 non-null    float64\n",
            " 3   sex_1      236 non-null    uint8  \n",
            " 4   cp_1       236 non-null    uint8  \n",
            " 5   fbs_1      236 non-null    uint8  \n",
            " 6   restecg_1  236 non-null    uint8  \n",
            " 7   exang_1    236 non-null    uint8  \n",
            " 8   slope_2    236 non-null    uint8  \n",
            " 9   ca_1       236 non-null    uint8  \n",
            " 10  thal_1     236 non-null    uint8  \n",
            "dtypes: float64(2), int64(1), uint8(8)\n",
            "memory usage: 9.2 KB\n"
          ]
        }
      ]
    },
    {
      "cell_type": "code",
      "metadata": {
        "colab": {
          "base_uri": "https://localhost:8080/"
        },
        "id": "dNIqt0xiYXkH",
        "outputId": "975d8ce7-90f4-493c-c46d-524ade779977"
      },
      "source": [
        "y_train_os.info()"
      ],
      "execution_count": null,
      "outputs": [
        {
          "output_type": "stream",
          "name": "stdout",
          "text": [
            "<class 'pandas.core.frame.DataFrame'>\n",
            "Int64Index: 236 entries, 137 to 186\n",
            "Data columns (total 1 columns):\n",
            " #   Column  Non-Null Count  Dtype\n",
            "---  ------  --------------  -----\n",
            " 0   target  236 non-null    int64\n",
            "dtypes: int64(1)\n",
            "memory usage: 3.7 KB\n"
          ]
        }
      ]
    },
    {
      "cell_type": "code",
      "metadata": {
        "colab": {
          "base_uri": "https://localhost:8080/"
        },
        "id": "ObTyharDYZfC",
        "outputId": "ad733600-1dc3-4e99-9950-dfd71c5b3dc0"
      },
      "source": [
        "y_train_os.value_counts()"
      ],
      "execution_count": null,
      "outputs": [
        {
          "output_type": "execute_result",
          "data": {
            "text/plain": [
              "target\n",
              "1         118\n",
              "0         118\n",
              "dtype: int64"
            ]
          },
          "metadata": {},
          "execution_count": 151
        }
      ]
    },
    {
      "cell_type": "code",
      "metadata": {
        "id": "dGZk65KPYcWw"
      },
      "source": [
        "y1 = y_train_os"
      ],
      "execution_count": null,
      "outputs": []
    },
    {
      "cell_type": "code",
      "metadata": {
        "colab": {
          "base_uri": "https://localhost:8080/",
          "height": 423
        },
        "id": "jHxWfHPTYkYi",
        "outputId": "c0eddf38-2adb-4176-d9c0-e8c0198deb9b"
      },
      "source": [
        "y1"
      ],
      "execution_count": null,
      "outputs": [
        {
          "output_type": "execute_result",
          "data": {
            "text/html": [
              "<div>\n",
              "<style scoped>\n",
              "    .dataframe tbody tr th:only-of-type {\n",
              "        vertical-align: middle;\n",
              "    }\n",
              "\n",
              "    .dataframe tbody tr th {\n",
              "        vertical-align: top;\n",
              "    }\n",
              "\n",
              "    .dataframe thead th {\n",
              "        text-align: right;\n",
              "    }\n",
              "</style>\n",
              "<table border=\"1\" class=\"dataframe\">\n",
              "  <thead>\n",
              "    <tr style=\"text-align: right;\">\n",
              "      <th></th>\n",
              "      <th>target</th>\n",
              "    </tr>\n",
              "  </thead>\n",
              "  <tbody>\n",
              "    <tr>\n",
              "      <th>137</th>\n",
              "      <td>1</td>\n",
              "    </tr>\n",
              "    <tr>\n",
              "      <th>106</th>\n",
              "      <td>1</td>\n",
              "    </tr>\n",
              "    <tr>\n",
              "      <th>44</th>\n",
              "      <td>1</td>\n",
              "    </tr>\n",
              "    <tr>\n",
              "      <th>139</th>\n",
              "      <td>1</td>\n",
              "    </tr>\n",
              "    <tr>\n",
              "      <th>156</th>\n",
              "      <td>1</td>\n",
              "    </tr>\n",
              "    <tr>\n",
              "      <th>...</th>\n",
              "      <td>...</td>\n",
              "    </tr>\n",
              "    <tr>\n",
              "      <th>263</th>\n",
              "      <td>0</td>\n",
              "    </tr>\n",
              "    <tr>\n",
              "      <th>257</th>\n",
              "      <td>0</td>\n",
              "    </tr>\n",
              "    <tr>\n",
              "      <th>221</th>\n",
              "      <td>0</td>\n",
              "    </tr>\n",
              "    <tr>\n",
              "      <th>221</th>\n",
              "      <td>0</td>\n",
              "    </tr>\n",
              "    <tr>\n",
              "      <th>186</th>\n",
              "      <td>0</td>\n",
              "    </tr>\n",
              "  </tbody>\n",
              "</table>\n",
              "<p>236 rows × 1 columns</p>\n",
              "</div>"
            ],
            "text/plain": [
              "     target\n",
              "137       1\n",
              "106       1\n",
              "44        1\n",
              "139       1\n",
              "156       1\n",
              "..      ...\n",
              "263       0\n",
              "257       0\n",
              "221       0\n",
              "221       0\n",
              "186       0\n",
              "\n",
              "[236 rows x 1 columns]"
            ]
          },
          "metadata": {},
          "execution_count": 153
        }
      ]
    },
    {
      "cell_type": "code",
      "metadata": {
        "id": "lA8Pu-3xYmVg"
      },
      "source": [
        "#____________Stats model\n",
        "import statsmodels.api as sm"
      ],
      "execution_count": null,
      "outputs": []
    },
    {
      "cell_type": "code",
      "metadata": {
        "colab": {
          "base_uri": "https://localhost:8080/"
        },
        "id": "2_uEbZRiYpNL",
        "outputId": "f8d15a36-a5db-4322-c68d-e39793c442b5"
      },
      "source": [
        "x1.info()"
      ],
      "execution_count": null,
      "outputs": [
        {
          "output_type": "stream",
          "name": "stdout",
          "text": [
            "<class 'pandas.core.frame.DataFrame'>\n",
            "Int64Index: 236 entries, 137 to 186\n",
            "Data columns (total 11 columns):\n",
            " #   Column     Non-Null Count  Dtype  \n",
            "---  ------     --------------  -----  \n",
            " 0   trestbps   236 non-null    int64  \n",
            " 1   thalach    236 non-null    float64\n",
            " 2   oldpeak    236 non-null    float64\n",
            " 3   sex_1      236 non-null    uint8  \n",
            " 4   cp_1       236 non-null    uint8  \n",
            " 5   fbs_1      236 non-null    uint8  \n",
            " 6   restecg_1  236 non-null    uint8  \n",
            " 7   exang_1    236 non-null    uint8  \n",
            " 8   slope_2    236 non-null    uint8  \n",
            " 9   ca_1       236 non-null    uint8  \n",
            " 10  thal_1     236 non-null    uint8  \n",
            "dtypes: float64(2), int64(1), uint8(8)\n",
            "memory usage: 9.2 KB\n"
          ]
        }
      ]
    },
    {
      "cell_type": "code",
      "metadata": {
        "colab": {
          "base_uri": "https://localhost:8080/"
        },
        "id": "e8qg-NkPYrJo",
        "outputId": "300c53fb-9749-42f0-f2d7-719a939fda74"
      },
      "source": [
        "y1.info()"
      ],
      "execution_count": null,
      "outputs": [
        {
          "output_type": "stream",
          "name": "stdout",
          "text": [
            "<class 'pandas.core.frame.DataFrame'>\n",
            "Int64Index: 236 entries, 137 to 186\n",
            "Data columns (total 1 columns):\n",
            " #   Column  Non-Null Count  Dtype\n",
            "---  ------  --------------  -----\n",
            " 0   target  236 non-null    int64\n",
            "dtypes: int64(1)\n",
            "memory usage: 3.7 KB\n"
          ]
        }
      ]
    },
    {
      "cell_type": "code",
      "metadata": {
        "id": "lSY0UX8mYuvn"
      },
      "source": [
        "logit_model = sm.Logit(y1,x1)"
      ],
      "execution_count": null,
      "outputs": []
    },
    {
      "cell_type": "code",
      "metadata": {
        "colab": {
          "base_uri": "https://localhost:8080/"
        },
        "id": "eqhZTU78Yya2",
        "outputId": "cb942a4f-442e-4420-ba3f-9fd4e7165600"
      },
      "source": [
        "result = logit_model.fit(method='bfgs')"
      ],
      "execution_count": null,
      "outputs": [
        {
          "output_type": "stream",
          "name": "stdout",
          "text": [
            "Warning: Maximum number of iterations has been exceeded.\n",
            "         Current function value: 0.290243\n",
            "         Iterations: 35\n",
            "         Function evaluations: 39\n",
            "         Gradient evaluations: 39\n"
          ]
        },
        {
          "output_type": "stream",
          "name": "stderr",
          "text": [
            "/usr/local/lib/python3.7/dist-packages/statsmodels/base/model.py:512: ConvergenceWarning: Maximum Likelihood optimization failed to converge. Check mle_retvals\n",
            "  \"Check mle_retvals\", ConvergenceWarning)\n"
          ]
        }
      ]
    },
    {
      "cell_type": "code",
      "metadata": {
        "colab": {
          "base_uri": "https://localhost:8080/"
        },
        "id": "vY9D0hENY1jR",
        "outputId": "5350b1b1-79a4-430c-ede9-d08d127cbdf1"
      },
      "source": [
        "print(result.summary2())"
      ],
      "execution_count": null,
      "outputs": [
        {
          "output_type": "stream",
          "name": "stdout",
          "text": [
            "                         Results: Logit\n",
            "=================================================================\n",
            "Model:              Logit            Pseudo R-squared: 0.581     \n",
            "Dependent Variable: target           AIC:              158.9947  \n",
            "Date:               2021-11-27 07:59 BIC:              197.0969  \n",
            "No. Observations:   236              Log-Likelihood:   -68.497   \n",
            "Df Model:           10               LL-Null:          -163.58   \n",
            "Df Residuals:       225              LLR p-value:      1.8016e-35\n",
            "Converged:          0.0000           Scale:            1.0000    \n",
            "------------------------------------------------------------------\n",
            "               Coef.   Std.Err.     z     P>|z|    [0.025   0.975]\n",
            "------------------------------------------------------------------\n",
            "trestbps      -0.0040    0.0099  -0.4054  0.6852  -0.0233   0.0153\n",
            "thalach        0.0197    0.0089   2.2180  0.0266   0.0023   0.0371\n",
            "oldpeak       -0.5144    0.2615  -1.9674  0.0491  -1.0269  -0.0020\n",
            "sex_1         -1.2426    0.5543  -2.2419  0.0250  -2.3290  -0.1563\n",
            "cp_1           1.7922    0.5053   3.5467  0.0004   0.8018   2.7825\n",
            "fbs_1         -0.6882    0.6324  -1.0883  0.2765  -1.9277   0.5513\n",
            "restecg_1     -0.5831    0.4842  -1.2043  0.2285  -1.5321   0.3659\n",
            "exang_1       -0.7763    0.4994  -1.5545  0.1201  -1.7551   0.2025\n",
            "slope_2        0.4471    0.5568   0.8030  0.4220  -0.6442   1.5383\n",
            "ca_1          -1.8748    0.4714  -3.9773  0.0001  -2.7987  -0.9509\n",
            "thal_1        -1.1527    0.5104  -2.2587  0.0239  -2.1530  -0.1524\n",
            "=================================================================\n",
            "\n"
          ]
        }
      ]
    },
    {
      "cell_type": "markdown",
      "metadata": {
        "id": "G-Oas0JEZBVO"
      },
      "source": [
        "**#Logistic model by SK learn method**"
      ]
    },
    {
      "cell_type": "code",
      "metadata": {
        "id": "Ij1pBEBrY4UT"
      },
      "source": [
        "from sklearn.linear_model import LogisticRegression\n",
        "from sklearn import metrics"
      ],
      "execution_count": null,
      "outputs": []
    },
    {
      "cell_type": "code",
      "metadata": {
        "colab": {
          "base_uri": "https://localhost:8080/"
        },
        "id": "LACGcaiqZAmp",
        "outputId": "a7326433-4995-4587-d55a-ae7faa1f4a36"
      },
      "source": [
        "logreg= LogisticRegression(solver= 'sag')\n",
        "logreg.fit(x1, y1)"
      ],
      "execution_count": null,
      "outputs": [
        {
          "output_type": "stream",
          "name": "stderr",
          "text": [
            "/usr/local/lib/python3.7/dist-packages/sklearn/utils/validation.py:985: DataConversionWarning: A column-vector y was passed when a 1d array was expected. Please change the shape of y to (n_samples, ), for example using ravel().\n",
            "  y = column_or_1d(y, warn=True)\n",
            "/usr/local/lib/python3.7/dist-packages/sklearn/linear_model/_sag.py:354: ConvergenceWarning: The max_iter was reached which means the coef_ did not converge\n",
            "  ConvergenceWarning,\n"
          ]
        },
        {
          "output_type": "execute_result",
          "data": {
            "text/plain": [
              "LogisticRegression(solver='sag')"
            ]
          },
          "metadata": {},
          "execution_count": 161
        }
      ]
    },
    {
      "cell_type": "code",
      "metadata": {
        "id": "Iolob671ZU8p"
      },
      "source": [
        "## X_test should alsso have only 2 columns\n",
        "X_test2= X_test[cols]"
      ],
      "execution_count": null,
      "outputs": []
    },
    {
      "cell_type": "code",
      "metadata": {
        "colab": {
          "base_uri": "https://localhost:8080/"
        },
        "id": "WYuwHe2GaJue",
        "outputId": "30e04dfd-a84e-493f-822c-ea03301b1aec"
      },
      "source": [
        "X_test2.info()"
      ],
      "execution_count": null,
      "outputs": [
        {
          "output_type": "stream",
          "name": "stdout",
          "text": [
            "<class 'pandas.core.frame.DataFrame'>\n",
            "Int64Index: 91 entries, 225 to 238\n",
            "Data columns (total 11 columns):\n",
            " #   Column     Non-Null Count  Dtype  \n",
            "---  ------     --------------  -----  \n",
            " 0   trestbps   91 non-null     int64  \n",
            " 1   thalach    91 non-null     float64\n",
            " 2   oldpeak    91 non-null     float64\n",
            " 3   sex_1      91 non-null     uint8  \n",
            " 4   cp_1       91 non-null     uint8  \n",
            " 5   fbs_1      91 non-null     uint8  \n",
            " 6   restecg_1  91 non-null     uint8  \n",
            " 7   exang_1    91 non-null     uint8  \n",
            " 8   slope_2    91 non-null     uint8  \n",
            " 9   ca_1       91 non-null     uint8  \n",
            " 10  thal_1     91 non-null     uint8  \n",
            "dtypes: float64(2), int64(1), uint8(8)\n",
            "memory usage: 3.6 KB\n"
          ]
        }
      ]
    },
    {
      "cell_type": "code",
      "metadata": {
        "id": "76QRx2CwaMQV"
      },
      "source": [
        "y_pred= logreg.predict(X_test2)"
      ],
      "execution_count": null,
      "outputs": []
    },
    {
      "cell_type": "code",
      "metadata": {
        "id": "9DhInXs7aPsL"
      },
      "source": [
        "log_score= logreg.score(X_test2, y_test)"
      ],
      "execution_count": null,
      "outputs": []
    },
    {
      "cell_type": "code",
      "metadata": {
        "colab": {
          "base_uri": "https://localhost:8080/"
        },
        "id": "yHaBc4O-aSRX",
        "outputId": "08f594a6-dc0e-43ed-ee41-65cc5acdde67"
      },
      "source": [
        "print(\"Accuracy of logistic regression classifier on test data:{}\".format(log_score))"
      ],
      "execution_count": null,
      "outputs": [
        {
          "output_type": "stream",
          "name": "stdout",
          "text": [
            "Accuracy of logistic regression classifier on test data:0.7032967032967034\n"
          ]
        }
      ]
    },
    {
      "cell_type": "code",
      "metadata": {
        "id": "783PUP0aaVMG"
      },
      "source": [
        "from sklearn.metrics import confusion_matrix"
      ],
      "execution_count": null,
      "outputs": []
    },
    {
      "cell_type": "code",
      "metadata": {
        "colab": {
          "base_uri": "https://localhost:8080/"
        },
        "id": "IFl1A8SuaYtV",
        "outputId": "c24a3960-9966-4e6d-e51d-84341b427cc3"
      },
      "source": [
        "confusion_matrix = confusion_matrix(y_test, y_pred)\n",
        "print(confusion_matrix)"
      ],
      "execution_count": null,
      "outputs": [
        {
          "output_type": "stream",
          "name": "stdout",
          "text": [
            "[[28 16]\n",
            " [11 36]]\n"
          ]
        }
      ]
    },
    {
      "cell_type": "code",
      "metadata": {
        "colab": {
          "base_uri": "https://localhost:8080/"
        },
        "id": "ecmQBgzoaiPH",
        "outputId": "fa674099-2434-45bf-9285-602f688bc927"
      },
      "source": [
        "from sklearn.metrics import classification_report\n",
        "print(classification_report(y_test, y_pred))"
      ],
      "execution_count": null,
      "outputs": [
        {
          "output_type": "stream",
          "name": "stdout",
          "text": [
            "              precision    recall  f1-score   support\n",
            "\n",
            "           0       0.72      0.64      0.67        44\n",
            "           1       0.69      0.77      0.73        47\n",
            "\n",
            "    accuracy                           0.70        91\n",
            "   macro avg       0.71      0.70      0.70        91\n",
            "weighted avg       0.70      0.70      0.70        91\n",
            "\n"
          ]
        }
      ]
    },
    {
      "cell_type": "code",
      "metadata": {
        "id": "a4dKOYQoalHc"
      },
      "source": [
        "from sklearn.metrics import roc_auc_score\n",
        "from sklearn.metrics import roc_curve"
      ],
      "execution_count": null,
      "outputs": []
    },
    {
      "cell_type": "code",
      "metadata": {
        "colab": {
          "base_uri": "https://localhost:8080/"
        },
        "id": "_FS0hm04aoZ_",
        "outputId": "6eb9032e-fdde-419a-d3b9-34b508de18b2"
      },
      "source": [
        "logit_roc_auc = roc_auc_score(y_test, logreg.predict(X_test2))\n",
        "logit_roc_auc"
      ],
      "execution_count": null,
      "outputs": [
        {
          "output_type": "execute_result",
          "data": {
            "text/plain": [
              "0.7011605415860734"
            ]
          },
          "metadata": {},
          "execution_count": 171
        }
      ]
    },
    {
      "cell_type": "code",
      "metadata": {
        "id": "mQqyGtQraqPI"
      },
      "source": [
        "\"\"  Area under curve is 0.701   \"\""
      ],
      "execution_count": null,
      "outputs": []
    },
    {
      "cell_type": "code",
      "metadata": {
        "colab": {
          "base_uri": "https://localhost:8080/",
          "height": 295
        },
        "id": "cIlENqSPbwnF",
        "outputId": "8d2547dd-d058-4d8a-b98a-81e3a18b6ab7"
      },
      "source": [
        "fpr, tpr, thresholds = roc_curve(y_test, logreg.predict_proba(X_test2)[:,1])\n",
        "plt.figure()\n",
        "plt.plot(fpr, tpr, label='Logistic Regression (area = %0.2f)' % logit_roc_auc)\n",
        "plt.plot([0, 1], [0, 1],'r--')\n",
        "plt.xlim([-0.1, 1.0])\n",
        "plt.ylim([0.0, 1.05])\n",
        "plt.xlabel('False Positive Rate (1-specificity)')\n",
        "plt.ylabel('True Positive Rate (Sensitivity)')\n",
        "plt.title('ROC - AUC for Logistic Model')\n",
        "plt.legend(loc=\"lower right\")\n",
        "plt.show()"
      ],
      "execution_count": null,
      "outputs": [
        {
          "output_type": "display_data",
          "data": {
            "image/png": "[encoded data removed]",
            "text/plain": [
              "<Figure size 432x288 with 1 Axes>"
            ]
          },
          "metadata": {
            "needs_background": "light"
          }
        }
      ]
    },
    {
      "cell_type": "markdown",
      "metadata": {
        "id": "-Y52UlDFcE33"
      },
      "source": [
        "**# Decision Tree Model**"
      ]
    },
    {
      "cell_type": "code",
      "metadata": {
        "colab": {
          "base_uri": "https://localhost:8080/"
        },
        "id": "N6zQzaIBb1UR",
        "outputId": "4976bcef-fca2-43c3-9fff-8f87cc2567b9"
      },
      "source": [
        "df.info()"
      ],
      "execution_count": null,
      "outputs": [
        {
          "output_type": "stream",
          "name": "stdout",
          "text": [
            "<class 'pandas.core.frame.DataFrame'>\n",
            "RangeIndex: 303 entries, 0 to 302\n",
            "Data columns (total 14 columns):\n",
            " #   Column    Non-Null Count  Dtype  \n",
            "---  ------    --------------  -----  \n",
            " 0   age       303 non-null    int64  \n",
            " 1   sex       303 non-null    int64  \n",
            " 2   cp        303 non-null    int64  \n",
            " 3   trestbps  303 non-null    int64  \n",
            " 4   chol      303 non-null    float64\n",
            " 5   fbs       303 non-null    int64  \n",
            " 6   restecg   303 non-null    int64  \n",
            " 7   thalach   303 non-null    float64\n",
            " 8   exang     303 non-null    int64  \n",
            " 9   oldpeak   303 non-null    float64\n",
            " 10  slope     303 non-null    int64  \n",
            " 11  ca        303 non-null    int64  \n",
            " 12  thal      303 non-null    int64  \n",
            " 13  target    303 non-null    int64  \n",
            "dtypes: float64(3), int64(11)\n",
            "memory usage: 33.3 KB\n"
          ]
        }
      ]
    },
    {
      "cell_type": "code",
      "metadata": {
        "id": "nxbwx87_cEIC"
      },
      "source": [
        "df2=df[:]"
      ],
      "execution_count": null,
      "outputs": []
    },
    {
      "cell_type": "code",
      "metadata": {
        "colab": {
          "base_uri": "https://localhost:8080/"
        },
        "id": "zYE-8pU_cNXE",
        "outputId": "8006b65c-411a-44a7-8c21-96f3d38d4f5f"
      },
      "source": [
        "df2.info()"
      ],
      "execution_count": null,
      "outputs": [
        {
          "output_type": "stream",
          "name": "stdout",
          "text": [
            "<class 'pandas.core.frame.DataFrame'>\n",
            "RangeIndex: 303 entries, 0 to 302\n",
            "Data columns (total 14 columns):\n",
            " #   Column    Non-Null Count  Dtype  \n",
            "---  ------    --------------  -----  \n",
            " 0   age       303 non-null    int64  \n",
            " 1   sex       303 non-null    int64  \n",
            " 2   cp        303 non-null    int64  \n",
            " 3   trestbps  303 non-null    int64  \n",
            " 4   chol      303 non-null    float64\n",
            " 5   fbs       303 non-null    int64  \n",
            " 6   restecg   303 non-null    int64  \n",
            " 7   thalach   303 non-null    float64\n",
            " 8   exang     303 non-null    int64  \n",
            " 9   oldpeak   303 non-null    float64\n",
            " 10  slope     303 non-null    int64  \n",
            " 11  ca        303 non-null    int64  \n",
            " 12  thal      303 non-null    int64  \n",
            " 13  target    303 non-null    int64  \n",
            "dtypes: float64(3), int64(11)\n",
            "memory usage: 33.3 KB\n"
          ]
        }
      ]
    },
    {
      "cell_type": "code",
      "metadata": {
        "id": "Ebp0z44PcP02"
      },
      "source": [
        "from sklearn.preprocessing import LabelEncoder\n",
        "LE= LabelEncoder()"
      ],
      "execution_count": null,
      "outputs": []
    },
    {
      "cell_type": "code",
      "metadata": {
        "colab": {
          "base_uri": "https://localhost:8080/",
          "height": 423
        },
        "id": "2R4d_saCc2Zu",
        "outputId": "13b13dc2-0c65-48c7-fdc0-fe2dfe733682"
      },
      "source": [
        "df2['sex']= LE.fit_transform(df2['sex'])\n",
        "df2['cp']= LE.fit_transform(df2['cp'])\n",
        "df2['fbs']= LE.fit_transform(df2['fbs'])\n",
        "df2['restecg']= LE.fit_transform(df2['restecg'])\n",
        "df2['exang']= LE.fit_transform(df2['exang'])\n",
        "df2['slope']= LE.fit_transform(df2['slope'])\n",
        "df2['ca']= LE.fit_transform(df2['ca'])\n",
        "df2['thal']= LE.fit_transform(df2['thal'])\n",
        "df2"
      ],
      "execution_count": null,
      "outputs": [
        {
          "output_type": "execute_result",
          "data": {
            "text/html": [
              "<div>\n",
              "<style scoped>\n",
              "    .dataframe tbody tr th:only-of-type {\n",
              "        vertical-align: middle;\n",
              "    }\n",
              "\n",
              "    .dataframe tbody tr th {\n",
              "        vertical-align: top;\n",
              "    }\n",
              "\n",
              "    .dataframe thead th {\n",
              "        text-align: right;\n",
              "    }\n",
              "</style>\n",
              "<table border=\"1\" class=\"dataframe\">\n",
              "  <thead>\n",
              "    <tr style=\"text-align: right;\">\n",
              "      <th></th>\n",
              "      <th>age</th>\n",
              "      <th>sex</th>\n",
              "      <th>cp</th>\n",
              "      <th>trestbps</th>\n",
              "      <th>chol</th>\n",
              "      <th>fbs</th>\n",
              "      <th>restecg</th>\n",
              "      <th>thalach</th>\n",
              "      <th>exang</th>\n",
              "      <th>oldpeak</th>\n",
              "      <th>slope</th>\n",
              "      <th>ca</th>\n",
              "      <th>thal</th>\n",
              "      <th>target</th>\n",
              "    </tr>\n",
              "  </thead>\n",
              "  <tbody>\n",
              "    <tr>\n",
              "      <th>0</th>\n",
              "      <td>63</td>\n",
              "      <td>1</td>\n",
              "      <td>1</td>\n",
              "      <td>145</td>\n",
              "      <td>233.0</td>\n",
              "      <td>1</td>\n",
              "      <td>0</td>\n",
              "      <td>150.0</td>\n",
              "      <td>0</td>\n",
              "      <td>2.3</td>\n",
              "      <td>0</td>\n",
              "      <td>0</td>\n",
              "      <td>1</td>\n",
              "      <td>1</td>\n",
              "    </tr>\n",
              "    <tr>\n",
              "      <th>1</th>\n",
              "      <td>37</td>\n",
              "      <td>1</td>\n",
              "      <td>1</td>\n",
              "      <td>130</td>\n",
              "      <td>250.0</td>\n",
              "      <td>0</td>\n",
              "      <td>1</td>\n",
              "      <td>187.0</td>\n",
              "      <td>0</td>\n",
              "      <td>3.5</td>\n",
              "      <td>0</td>\n",
              "      <td>0</td>\n",
              "      <td>0</td>\n",
              "      <td>1</td>\n",
              "    </tr>\n",
              "    <tr>\n",
              "      <th>2</th>\n",
              "      <td>41</td>\n",
              "      <td>0</td>\n",
              "      <td>1</td>\n",
              "      <td>130</td>\n",
              "      <td>204.0</td>\n",
              "      <td>0</td>\n",
              "      <td>0</td>\n",
              "      <td>172.0</td>\n",
              "      <td>0</td>\n",
              "      <td>1.4</td>\n",
              "      <td>1</td>\n",
              "      <td>0</td>\n",
              "      <td>0</td>\n",
              "      <td>1</td>\n",
              "    </tr>\n",
              "    <tr>\n",
              "      <th>3</th>\n",
              "      <td>56</td>\n",
              "      <td>1</td>\n",
              "      <td>1</td>\n",
              "      <td>120</td>\n",
              "      <td>236.0</td>\n",
              "      <td>0</td>\n",
              "      <td>1</td>\n",
              "      <td>178.0</td>\n",
              "      <td>0</td>\n",
              "      <td>0.8</td>\n",
              "      <td>1</td>\n",
              "      <td>0</td>\n",
              "      <td>0</td>\n",
              "      <td>1</td>\n",
              "    </tr>\n",
              "    <tr>\n",
              "      <th>4</th>\n",
              "      <td>57</td>\n",
              "      <td>0</td>\n",
              "      <td>0</td>\n",
              "      <td>120</td>\n",
              "      <td>354.0</td>\n",
              "      <td>0</td>\n",
              "      <td>1</td>\n",
              "      <td>163.0</td>\n",
              "      <td>1</td>\n",
              "      <td>0.6</td>\n",
              "      <td>1</td>\n",
              "      <td>0</td>\n",
              "      <td>0</td>\n",
              "      <td>1</td>\n",
              "    </tr>\n",
              "    <tr>\n",
              "      <th>...</th>\n",
              "      <td>...</td>\n",
              "      <td>...</td>\n",
              "      <td>...</td>\n",
              "      <td>...</td>\n",
              "      <td>...</td>\n",
              "      <td>...</td>\n",
              "      <td>...</td>\n",
              "      <td>...</td>\n",
              "      <td>...</td>\n",
              "      <td>...</td>\n",
              "      <td>...</td>\n",
              "      <td>...</td>\n",
              "      <td>...</td>\n",
              "      <td>...</td>\n",
              "    </tr>\n",
              "    <tr>\n",
              "      <th>298</th>\n",
              "      <td>57</td>\n",
              "      <td>0</td>\n",
              "      <td>0</td>\n",
              "      <td>140</td>\n",
              "      <td>241.0</td>\n",
              "      <td>0</td>\n",
              "      <td>1</td>\n",
              "      <td>123.0</td>\n",
              "      <td>1</td>\n",
              "      <td>0.2</td>\n",
              "      <td>0</td>\n",
              "      <td>0</td>\n",
              "      <td>1</td>\n",
              "      <td>0</td>\n",
              "    </tr>\n",
              "    <tr>\n",
              "      <th>299</th>\n",
              "      <td>45</td>\n",
              "      <td>1</td>\n",
              "      <td>1</td>\n",
              "      <td>110</td>\n",
              "      <td>264.0</td>\n",
              "      <td>0</td>\n",
              "      <td>1</td>\n",
              "      <td>132.0</td>\n",
              "      <td>0</td>\n",
              "      <td>1.2</td>\n",
              "      <td>0</td>\n",
              "      <td>0</td>\n",
              "      <td>1</td>\n",
              "      <td>0</td>\n",
              "    </tr>\n",
              "    <tr>\n",
              "      <th>300</th>\n",
              "      <td>68</td>\n",
              "      <td>1</td>\n",
              "      <td>0</td>\n",
              "      <td>144</td>\n",
              "      <td>193.0</td>\n",
              "      <td>1</td>\n",
              "      <td>1</td>\n",
              "      <td>141.0</td>\n",
              "      <td>0</td>\n",
              "      <td>3.4</td>\n",
              "      <td>0</td>\n",
              "      <td>1</td>\n",
              "      <td>1</td>\n",
              "      <td>0</td>\n",
              "    </tr>\n",
              "    <tr>\n",
              "      <th>301</th>\n",
              "      <td>57</td>\n",
              "      <td>1</td>\n",
              "      <td>0</td>\n",
              "      <td>130</td>\n",
              "      <td>131.0</td>\n",
              "      <td>0</td>\n",
              "      <td>1</td>\n",
              "      <td>115.0</td>\n",
              "      <td>1</td>\n",
              "      <td>1.2</td>\n",
              "      <td>0</td>\n",
              "      <td>1</td>\n",
              "      <td>1</td>\n",
              "      <td>0</td>\n",
              "    </tr>\n",
              "    <tr>\n",
              "      <th>302</th>\n",
              "      <td>57</td>\n",
              "      <td>0</td>\n",
              "      <td>1</td>\n",
              "      <td>130</td>\n",
              "      <td>236.0</td>\n",
              "      <td>0</td>\n",
              "      <td>0</td>\n",
              "      <td>174.0</td>\n",
              "      <td>0</td>\n",
              "      <td>0.0</td>\n",
              "      <td>0</td>\n",
              "      <td>1</td>\n",
              "      <td>0</td>\n",
              "      <td>0</td>\n",
              "    </tr>\n",
              "  </tbody>\n",
              "</table>\n",
              "<p>303 rows × 14 columns</p>\n",
              "</div>"
            ],
            "text/plain": [
              "     age  sex  cp  trestbps   chol  ...  oldpeak  slope  ca  thal  target\n",
              "0     63    1   1       145  233.0  ...      2.3      0   0     1       1\n",
              "1     37    1   1       130  250.0  ...      3.5      0   0     0       1\n",
              "2     41    0   1       130  204.0  ...      1.4      1   0     0       1\n",
              "3     56    1   1       120  236.0  ...      0.8      1   0     0       1\n",
              "4     57    0   0       120  354.0  ...      0.6      1   0     0       1\n",
              "..   ...  ...  ..       ...    ...  ...      ...    ...  ..   ...     ...\n",
              "298   57    0   0       140  241.0  ...      0.2      0   0     1       0\n",
              "299   45    1   1       110  264.0  ...      1.2      0   0     1       0\n",
              "300   68    1   0       144  193.0  ...      3.4      0   1     1       0\n",
              "301   57    1   0       130  131.0  ...      1.2      0   1     1       0\n",
              "302   57    0   1       130  236.0  ...      0.0      0   1     0       0\n",
              "\n",
              "[303 rows x 14 columns]"
            ]
          },
          "metadata": {},
          "execution_count": 177
        }
      ]
    },
    {
      "cell_type": "code",
      "metadata": {
        "id": "qvvZtAxLeS8W"
      },
      "source": [
        "X = df2.loc[:, df2.columns != 'target']\n",
        "y = df2.loc[:, df2.columns == 'target']"
      ],
      "execution_count": null,
      "outputs": []
    },
    {
      "cell_type": "code",
      "metadata": {
        "colab": {
          "base_uri": "https://localhost:8080/"
        },
        "id": "v42uhMTXeWAS",
        "outputId": "e0cb605d-6b80-4d65-b242-26d5ec91dff3"
      },
      "source": [
        "X.info()"
      ],
      "execution_count": null,
      "outputs": [
        {
          "output_type": "stream",
          "name": "stdout",
          "text": [
            "<class 'pandas.core.frame.DataFrame'>\n",
            "RangeIndex: 303 entries, 0 to 302\n",
            "Data columns (total 13 columns):\n",
            " #   Column    Non-Null Count  Dtype  \n",
            "---  ------    --------------  -----  \n",
            " 0   age       303 non-null    int64  \n",
            " 1   sex       303 non-null    int64  \n",
            " 2   cp        303 non-null    int64  \n",
            " 3   trestbps  303 non-null    int64  \n",
            " 4   chol      303 non-null    float64\n",
            " 5   fbs       303 non-null    int64  \n",
            " 6   restecg   303 non-null    int64  \n",
            " 7   thalach   303 non-null    float64\n",
            " 8   exang     303 non-null    int64  \n",
            " 9   oldpeak   303 non-null    float64\n",
            " 10  slope     303 non-null    int64  \n",
            " 11  ca        303 non-null    int64  \n",
            " 12  thal      303 non-null    int64  \n",
            "dtypes: float64(3), int64(10)\n",
            "memory usage: 30.9 KB\n"
          ]
        }
      ]
    },
    {
      "cell_type": "code",
      "metadata": {
        "colab": {
          "base_uri": "https://localhost:8080/",
          "height": 423
        },
        "id": "Uc3KqhE1ebjc",
        "outputId": "01154a46-94a4-437d-b8bc-ae371be163d9"
      },
      "source": [
        "y"
      ],
      "execution_count": null,
      "outputs": [
        {
          "output_type": "execute_result",
          "data": {
            "text/html": [
              "<div>\n",
              "<style scoped>\n",
              "    .dataframe tbody tr th:only-of-type {\n",
              "        vertical-align: middle;\n",
              "    }\n",
              "\n",
              "    .dataframe tbody tr th {\n",
              "        vertical-align: top;\n",
              "    }\n",
              "\n",
              "    .dataframe thead th {\n",
              "        text-align: right;\n",
              "    }\n",
              "</style>\n",
              "<table border=\"1\" class=\"dataframe\">\n",
              "  <thead>\n",
              "    <tr style=\"text-align: right;\">\n",
              "      <th></th>\n",
              "      <th>target</th>\n",
              "    </tr>\n",
              "  </thead>\n",
              "  <tbody>\n",
              "    <tr>\n",
              "      <th>0</th>\n",
              "      <td>1</td>\n",
              "    </tr>\n",
              "    <tr>\n",
              "      <th>1</th>\n",
              "      <td>1</td>\n",
              "    </tr>\n",
              "    <tr>\n",
              "      <th>2</th>\n",
              "      <td>1</td>\n",
              "    </tr>\n",
              "    <tr>\n",
              "      <th>3</th>\n",
              "      <td>1</td>\n",
              "    </tr>\n",
              "    <tr>\n",
              "      <th>4</th>\n",
              "      <td>1</td>\n",
              "    </tr>\n",
              "    <tr>\n",
              "      <th>...</th>\n",
              "      <td>...</td>\n",
              "    </tr>\n",
              "    <tr>\n",
              "      <th>298</th>\n",
              "      <td>0</td>\n",
              "    </tr>\n",
              "    <tr>\n",
              "      <th>299</th>\n",
              "      <td>0</td>\n",
              "    </tr>\n",
              "    <tr>\n",
              "      <th>300</th>\n",
              "      <td>0</td>\n",
              "    </tr>\n",
              "    <tr>\n",
              "      <th>301</th>\n",
              "      <td>0</td>\n",
              "    </tr>\n",
              "    <tr>\n",
              "      <th>302</th>\n",
              "      <td>0</td>\n",
              "    </tr>\n",
              "  </tbody>\n",
              "</table>\n",
              "<p>303 rows × 1 columns</p>\n",
              "</div>"
            ],
            "text/plain": [
              "     target\n",
              "0         1\n",
              "1         1\n",
              "2         1\n",
              "3         1\n",
              "4         1\n",
              "..      ...\n",
              "298       0\n",
              "299       0\n",
              "300       0\n",
              "301       0\n",
              "302       0\n",
              "\n",
              "[303 rows x 1 columns]"
            ]
          },
          "metadata": {},
          "execution_count": 181
        }
      ]
    },
    {
      "cell_type": "code",
      "metadata": {
        "id": "Y8jij3BJeeGJ"
      },
      "source": [
        "'''Fit Tree'''\n",
        "#train test - split \n",
        "\n",
        "from sklearn.model_selection import train_test_split"
      ],
      "execution_count": null,
      "outputs": []
    },
    {
      "cell_type": "code",
      "metadata": {
        "id": "7PT5vDnDehEQ"
      },
      "source": [
        "X_train, X_test, y_train, y_test = train_test_split(X, y, test_size=0.3, random_state=0)"
      ],
      "execution_count": null,
      "outputs": []
    },
    {
      "cell_type": "code",
      "metadata": {
        "id": "wNa6rU21enQJ"
      },
      "source": [
        "from sklearn.tree import DecisionTreeClassifier"
      ],
      "execution_count": null,
      "outputs": []
    },
    {
      "cell_type": "code",
      "metadata": {
        "id": "kbuM8kvSeph_"
      },
      "source": [
        "#fit tree on train data\n",
        "#model\n",
        "clf = DecisionTreeClassifier()"
      ],
      "execution_count": null,
      "outputs": []
    },
    {
      "cell_type": "code",
      "metadata": {
        "colab": {
          "base_uri": "https://localhost:8080/"
        },
        "id": "lkgC949xerZv",
        "outputId": "9bfb6b13-9068-41df-b433-563921f56569"
      },
      "source": [
        "#Fit Classifier model on train set \n",
        "clf.fit(X_train, y_train)"
      ],
      "execution_count": null,
      "outputs": [
        {
          "output_type": "execute_result",
          "data": {
            "text/plain": [
              "DecisionTreeClassifier()"
            ]
          },
          "metadata": {},
          "execution_count": 186
        }
      ]
    },
    {
      "cell_type": "code",
      "metadata": {
        "id": "QSZ4dW5weto6"
      },
      "source": [
        "#Predict/estimate_train  X_train\n",
        "y_pred_train = clf.predict(X_train)"
      ],
      "execution_count": null,
      "outputs": []
    },
    {
      "cell_type": "code",
      "metadata": {
        "colab": {
          "base_uri": "https://localhost:8080/"
        },
        "id": "jjgGDKKYevzp",
        "outputId": "02d93728-80c6-4648-a0e9-877ec7d8eb83"
      },
      "source": [
        "y_pred_train"
      ],
      "execution_count": null,
      "outputs": [
        {
          "output_type": "execute_result",
          "data": {
            "text/plain": [
              "array([1, 1, 0, 1, 1, 0, 0, 1, 0, 0, 1, 0, 1, 0, 0, 0, 1, 1, 1, 0, 0, 0,\n",
              "       0, 1, 0, 1, 1, 1, 0, 1, 1, 1, 0, 1, 1, 1, 1, 1, 1, 1, 0, 0, 1, 1,\n",
              "       0, 1, 1, 0, 0, 0, 0, 1, 0, 1, 1, 0, 1, 1, 1, 1, 1, 1, 0, 0, 1, 0,\n",
              "       0, 0, 1, 1, 1, 0, 1, 0, 1, 1, 0, 1, 1, 1, 1, 1, 0, 0, 1, 0, 1, 0,\n",
              "       0, 1, 0, 0, 1, 1, 1, 0, 0, 1, 1, 0, 1, 0, 1, 0, 1, 1, 0, 1, 1, 1,\n",
              "       0, 1, 0, 0, 0, 1, 1, 1, 1, 0, 1, 0, 1, 0, 1, 1, 1, 0, 1, 0, 1, 0,\n",
              "       0, 0, 1, 1, 0, 1, 0, 1, 1, 0, 0, 1, 0, 1, 1, 0, 1, 1, 1, 1, 1, 0,\n",
              "       0, 1, 1, 1, 0, 0, 1, 1, 1, 1, 1, 0, 1, 1, 0, 1, 1, 0, 1, 1, 0, 0,\n",
              "       1, 1, 1, 0, 0, 0, 1, 0, 0, 1, 0, 0, 1, 0, 1, 1, 0, 0, 0, 0, 1, 0,\n",
              "       1, 1, 1, 0, 0, 0, 0, 1, 0, 0, 0, 1, 1, 0])"
            ]
          },
          "metadata": {},
          "execution_count": 188
        }
      ]
    },
    {
      "cell_type": "code",
      "metadata": {
        "id": "prazv7AdfB2S"
      },
      "source": [
        "#Predict/estimate_test  X_test\n",
        "y_pred_test = clf.predict(X_test)"
      ],
      "execution_count": null,
      "outputs": []
    },
    {
      "cell_type": "code",
      "metadata": {
        "colab": {
          "base_uri": "https://localhost:8080/"
        },
        "id": "iRgkRF8jfEV5",
        "outputId": "b5829c6f-e74c-4465-8777-6b72168b3be3"
      },
      "source": [
        "y_pred_test"
      ],
      "execution_count": null,
      "outputs": [
        {
          "output_type": "execute_result",
          "data": {
            "text/plain": [
              "array([0, 1, 1, 0, 0, 0, 1, 0, 0, 0, 0, 1, 0, 1, 1, 0, 0, 1, 0, 0, 1, 0,\n",
              "       0, 0, 0, 0, 0, 0, 1, 1, 0, 0, 1, 1, 1, 1, 0, 1, 0, 0, 0, 0, 1, 0,\n",
              "       0, 1, 1, 1, 0, 0, 1, 0, 1, 0, 1, 0, 1, 1, 1, 1, 1, 1, 1, 1, 1, 1,\n",
              "       1, 0, 0, 1, 0, 1, 1, 0, 0, 0, 0, 1, 1, 0, 1, 1, 0, 1, 0, 1, 0, 1,\n",
              "       0, 1, 0])"
            ]
          },
          "metadata": {},
          "execution_count": 190
        }
      ]
    },
    {
      "cell_type": "code",
      "metadata": {
        "id": "UEEn85_7fHZN"
      },
      "source": [
        "#See the train \n",
        "from sklearn import tree"
      ],
      "execution_count": null,
      "outputs": []
    },
    {
      "cell_type": "code",
      "metadata": {
        "colab": {
          "base_uri": "https://localhost:8080/",
          "height": 1000
        },
        "id": "OXmtizcwfKDd",
        "outputId": "288d0520-46a7-49d5-9e98-1307c1eb309a"
      },
      "source": [
        "tree.plot_tree(clf.fit(X_train, y_train))"
      ],
      "execution_count": null,
      "outputs": [
        {
          "output_type": "execute_result",
          "data": {
            "text/plain": [
              "[Text(180.20117647058825, 206.56799999999998, 'X[12] <= 0.5\\ngini = 0.494\\nsamples = 212\\nvalue = [94, 118]'),\n",
              " Text(110.28705882352942, 184.824, 'X[9] <= 1.7\\ngini = 0.303\\nsamples = 118\\nvalue = [22, 96]'),\n",
              " Text(78.7764705882353, 163.07999999999998, 'X[11] <= 0.5\\ngini = 0.222\\nsamples = 102\\nvalue = [13, 89]'),\n",
              " Text(47.265882352941176, 141.336, 'X[0] <= 58.5\\ngini = 0.139\\nsamples = 80\\nvalue = [6, 74]'),\n",
              " Text(31.51058823529412, 119.592, 'X[7] <= 156.5\\ngini = 0.064\\nsamples = 60\\nvalue = [2, 58]'),\n",
              " Text(23.632941176470588, 97.848, 'X[3] <= 129.0\\ngini = 0.219\\nsamples = 16\\nvalue = [2, 14]'),\n",
              " Text(15.75529411764706, 76.10399999999998, 'X[1] <= 0.5\\ngini = 0.48\\nsamples = 5\\nvalue = [2, 3]'),\n",
              " Text(7.87764705882353, 54.360000000000014, 'gini = 0.0\\nsamples = 3\\nvalue = [0, 3]'),\n",
              " Text(23.632941176470588, 54.360000000000014, 'gini = 0.0\\nsamples = 2\\nvalue = [2, 0]'),\n",
              " Text(31.51058823529412, 76.10399999999998, 'gini = 0.0\\nsamples = 11\\nvalue = [0, 11]'),\n",
              " Text(39.38823529411765, 97.848, 'gini = 0.0\\nsamples = 44\\nvalue = [0, 44]'),\n",
              " Text(63.02117647058824, 119.592, 'X[4] <= 243.5\\ngini = 0.32\\nsamples = 20\\nvalue = [4, 16]'),\n",
              " Text(55.14352941176471, 97.848, 'gini = 0.0\\nsamples = 9\\nvalue = [0, 9]'),\n",
              " Text(70.89882352941177, 97.848, 'X[0] <= 64.5\\ngini = 0.463\\nsamples = 11\\nvalue = [4, 7]'),\n",
              " Text(63.02117647058824, 76.10399999999998, 'X[7] <= 170.5\\ngini = 0.5\\nsamples = 8\\nvalue = [4, 4]'),\n",
              " Text(55.14352941176471, 54.360000000000014, 'X[3] <= 165.0\\ngini = 0.444\\nsamples = 6\\nvalue = [4, 2]'),\n",
              " Text(47.265882352941176, 32.615999999999985, 'X[4] <= 352.375\\ngini = 0.32\\nsamples = 5\\nvalue = [4, 1]'),\n",
              " Text(39.38823529411765, 10.872000000000014, 'gini = 0.0\\nsamples = 4\\nvalue = [4, 0]'),\n",
              " Text(55.14352941176471, 10.872000000000014, 'gini = 0.0\\nsamples = 1\\nvalue = [0, 1]'),\n",
              " Text(63.02117647058824, 32.615999999999985, 'gini = 0.0\\nsamples = 1\\nvalue = [0, 1]'),\n",
              " Text(70.89882352941177, 54.360000000000014, 'gini = 0.0\\nsamples = 2\\nvalue = [0, 2]'),\n",
              " Text(78.7764705882353, 76.10399999999998, 'gini = 0.0\\nsamples = 3\\nvalue = [0, 3]'),\n",
              " Text(110.28705882352942, 141.336, 'X[2] <= 0.5\\ngini = 0.434\\nsamples = 22\\nvalue = [7, 15]'),\n",
              " Text(94.53176470588235, 119.592, 'X[1] <= 0.5\\ngini = 0.32\\nsamples = 5\\nvalue = [4, 1]'),\n",
              " Text(86.65411764705883, 97.848, 'gini = 0.0\\nsamples = 1\\nvalue = [0, 1]'),\n",
              " Text(102.40941176470588, 97.848, 'gini = 0.0\\nsamples = 4\\nvalue = [4, 0]'),\n",
              " Text(126.04235294117647, 119.592, 'X[4] <= 172.0\\ngini = 0.291\\nsamples = 17\\nvalue = [3, 14]'),\n",
              " Text(118.16470588235295, 97.848, 'gini = 0.0\\nsamples = 1\\nvalue = [1, 0]'),\n",
              " Text(133.92000000000002, 97.848, 'X[4] <= 279.5\\ngini = 0.219\\nsamples = 16\\nvalue = [2, 14]'),\n",
              " Text(126.04235294117647, 76.10399999999998, 'gini = 0.0\\nsamples = 9\\nvalue = [0, 9]'),\n",
              " Text(141.79764705882354, 76.10399999999998, 'X[4] <= 285.0\\ngini = 0.408\\nsamples = 7\\nvalue = [2, 5]'),\n",
              " Text(133.92000000000002, 54.360000000000014, 'gini = 0.0\\nsamples = 1\\nvalue = [1, 0]'),\n",
              " Text(149.67529411764707, 54.360000000000014, 'X[7] <= 154.5\\ngini = 0.278\\nsamples = 6\\nvalue = [1, 5]'),\n",
              " Text(141.79764705882354, 32.615999999999985, 'X[0] <= 54.5\\ngini = 0.5\\nsamples = 2\\nvalue = [1, 1]'),\n",
              " Text(133.92000000000002, 10.872000000000014, 'gini = 0.0\\nsamples = 1\\nvalue = [0, 1]'),\n",
              " Text(149.67529411764707, 10.872000000000014, 'gini = 0.0\\nsamples = 1\\nvalue = [1, 0]'),\n",
              " Text(157.5529411764706, 32.615999999999985, 'gini = 0.0\\nsamples = 4\\nvalue = [0, 4]'),\n",
              " Text(141.79764705882354, 163.07999999999998, 'X[0] <= 45.5\\ngini = 0.492\\nsamples = 16\\nvalue = [9, 7]'),\n",
              " Text(133.92000000000002, 141.336, 'gini = 0.0\\nsamples = 3\\nvalue = [0, 3]'),\n",
              " Text(149.67529411764707, 141.336, 'X[0] <= 63.5\\ngini = 0.426\\nsamples = 13\\nvalue = [9, 4]'),\n",
              " Text(141.79764705882354, 119.592, 'gini = 0.0\\nsamples = 8\\nvalue = [8, 0]'),\n",
              " Text(157.5529411764706, 119.592, 'X[7] <= 111.5\\ngini = 0.32\\nsamples = 5\\nvalue = [1, 4]'),\n",
              " Text(149.67529411764707, 97.848, 'gini = 0.0\\nsamples = 1\\nvalue = [1, 0]'),\n",
              " Text(165.43058823529412, 97.848, 'gini = 0.0\\nsamples = 4\\nvalue = [0, 4]'),\n",
              " Text(250.11529411764707, 184.824, 'X[2] <= 0.5\\ngini = 0.359\\nsamples = 94\\nvalue = [72, 22]'),\n",
              " Text(208.75764705882352, 163.07999999999998, 'X[9] <= 0.5\\ngini = 0.19\\nsamples = 66\\nvalue = [59, 7]'),\n",
              " Text(181.18588235294118, 141.336, 'X[7] <= 117.0\\ngini = 0.43\\nsamples = 16\\nvalue = [11, 5]'),\n",
              " Text(173.30823529411765, 119.592, 'gini = 0.0\\nsamples = 2\\nvalue = [0, 2]'),\n",
              " Text(189.0635294117647, 119.592, 'X[4] <= 217.0\\ngini = 0.337\\nsamples = 14\\nvalue = [11, 3]'),\n",
              " Text(181.18588235294118, 97.848, 'X[11] <= 0.5\\ngini = 0.5\\nsamples = 6\\nvalue = [3, 3]'),\n",
              " Text(173.30823529411765, 76.10399999999998, 'X[6] <= 0.5\\ngini = 0.375\\nsamples = 4\\nvalue = [1, 3]'),\n",
              " Text(165.43058823529412, 54.360000000000014, 'gini = 0.0\\nsamples = 1\\nvalue = [1, 0]'),\n",
              " Text(181.18588235294118, 54.360000000000014, 'gini = 0.0\\nsamples = 3\\nvalue = [0, 3]'),\n",
              " Text(189.0635294117647, 76.10399999999998, 'gini = 0.0\\nsamples = 2\\nvalue = [2, 0]'),\n",
              " Text(196.94117647058823, 97.848, 'gini = 0.0\\nsamples = 8\\nvalue = [8, 0]'),\n",
              " Text(236.3294117647059, 141.336, 'X[0] <= 65.5\\ngini = 0.077\\nsamples = 50\\nvalue = [48, 2]'),\n",
              " Text(220.57411764705884, 119.592, 'X[3] <= 112.0\\ngini = 0.042\\nsamples = 47\\nvalue = [46, 1]'),\n",
              " Text(212.69647058823531, 97.848, 'X[4] <= 220.0\\ngini = 0.375\\nsamples = 4\\nvalue = [3, 1]'),\n",
              " Text(204.81882352941176, 76.10399999999998, 'gini = 0.0\\nsamples = 1\\nvalue = [0, 1]'),\n",
              " Text(220.57411764705884, 76.10399999999998, 'gini = 0.0\\nsamples = 3\\nvalue = [3, 0]'),\n",
              " Text(228.45176470588237, 97.848, 'gini = 0.0\\nsamples = 43\\nvalue = [43, 0]'),\n",
              " Text(252.08470588235295, 119.592, 'X[5] <= 0.5\\ngini = 0.444\\nsamples = 3\\nvalue = [2, 1]'),\n",
              " Text(244.20705882352942, 97.848, 'gini = 0.0\\nsamples = 1\\nvalue = [0, 1]'),\n",
              " Text(259.9623529411765, 97.848, 'gini = 0.0\\nsamples = 2\\nvalue = [2, 0]'),\n",
              " Text(291.4729411764706, 163.07999999999998, 'X[7] <= 143.0\\ngini = 0.497\\nsamples = 28\\nvalue = [13, 15]'),\n",
              " Text(275.71764705882356, 141.336, 'X[1] <= 0.5\\ngini = 0.219\\nsamples = 8\\nvalue = [7, 1]'),\n",
              " Text(267.84000000000003, 119.592, 'gini = 0.0\\nsamples = 1\\nvalue = [0, 1]'),\n",
              " Text(283.5952941176471, 119.592, 'gini = 0.0\\nsamples = 7\\nvalue = [7, 0]'),\n",
              " Text(307.22823529411767, 141.336, 'X[9] <= 2.4\\ngini = 0.42\\nsamples = 20\\nvalue = [6, 14]'),\n",
              " Text(299.35058823529414, 119.592, 'X[0] <= 67.5\\ngini = 0.346\\nsamples = 18\\nvalue = [4, 14]'),\n",
              " Text(279.6564705882353, 97.848, 'X[11] <= 0.5\\ngini = 0.231\\nsamples = 15\\nvalue = [2, 13]'),\n",
              " Text(263.90117647058827, 76.10399999999998, 'X[0] <= 50.0\\ngini = 0.142\\nsamples = 13\\nvalue = [1, 12]'),\n",
              " Text(256.02352941176474, 54.360000000000014, 'X[4] <= 214.0\\ngini = 0.444\\nsamples = 3\\nvalue = [1, 2]'),\n",
              " Text(248.1458823529412, 32.615999999999985, 'gini = 0.0\\nsamples = 2\\nvalue = [0, 2]'),\n",
              " Text(263.90117647058827, 32.615999999999985, 'gini = 0.0\\nsamples = 1\\nvalue = [1, 0]'),\n",
              " Text(271.7788235294118, 54.360000000000014, 'gini = 0.0\\nsamples = 10\\nvalue = [0, 10]'),\n",
              " Text(295.4117647058824, 76.10399999999998, 'X[9] <= 0.2\\ngini = 0.5\\nsamples = 2\\nvalue = [1, 1]'),\n",
              " Text(287.53411764705885, 54.360000000000014, 'gini = 0.0\\nsamples = 1\\nvalue = [0, 1]'),\n",
              " Text(303.2894117647059, 54.360000000000014, 'gini = 0.0\\nsamples = 1\\nvalue = [1, 0]'),\n",
              " Text(319.04470588235296, 97.848, 'X[9] <= 1.3\\ngini = 0.444\\nsamples = 3\\nvalue = [2, 1]'),\n",
              " Text(311.16705882352943, 76.10399999999998, 'gini = 0.0\\nsamples = 1\\nvalue = [0, 1]'),\n",
              " Text(326.9223529411765, 76.10399999999998, 'gini = 0.0\\nsamples = 2\\nvalue = [2, 0]'),\n",
              " Text(315.1058823529412, 119.592, 'gini = 0.0\\nsamples = 2\\nvalue = [2, 0]')]"
            ]
          },
          "metadata": {},
          "execution_count": 192
        },
        {
          "output_type": "display_data",
          "data": {
            "image/png": "[encoded data removed]",
            "text/plain": [
              "<Figure size 432x288 with 1 Axes>"
            ]
          },
          "metadata": {
            "needs_background": "light"
          }
        }
      ]
    },
    {
      "cell_type": "code",
      "metadata": {
        "id": "R_0AcfnBfZlK"
      },
      "source": [
        "#Model has learnt unneccesaary things \n",
        "#Need to optimize\n",
        "\n",
        "from sklearn.metrics import accuracy_score"
      ],
      "execution_count": null,
      "outputs": []
    },
    {
      "cell_type": "code",
      "metadata": {
        "colab": {
          "base_uri": "https://localhost:8080/"
        },
        "id": "1WEllUwgfcc6",
        "outputId": "cde61cb4-9d20-4c6f-9ee5-ce0a4f1883d7"
      },
      "source": [
        "print(round(accuracy_score(y_train,y_pred_train), 2))"
      ],
      "execution_count": null,
      "outputs": [
        {
          "output_type": "stream",
          "name": "stdout",
          "text": [
            "1.0\n"
          ]
        }
      ]
    },
    {
      "cell_type": "code",
      "metadata": {
        "colab": {
          "base_uri": "https://localhost:8080/"
        },
        "id": "j3DlFK6kfedI",
        "outputId": "2af5e22b-3a9b-45fb-e9d5-7cd1017794b8"
      },
      "source": [
        "print(round(accuracy_score(y_test,y_pred_test), 2))"
      ],
      "execution_count": null,
      "outputs": [
        {
          "output_type": "stream",
          "name": "stdout",
          "text": [
            "0.66\n"
          ]
        }
      ]
    },
    {
      "cell_type": "code",
      "metadata": {
        "id": "yNud25s_fg17"
      },
      "source": [
        "# Accuracy of train data is 1\n",
        "# Accuracy of test data is 0.66"
      ],
      "execution_count": null,
      "outputs": []
    },
    {
      "cell_type": "code",
      "metadata": {
        "id": "yrwxR6Gvfli-"
      },
      "source": [
        "from sklearn import tree"
      ],
      "execution_count": null,
      "outputs": []
    },
    {
      "cell_type": "code",
      "metadata": {
        "id": "y0agdtMtfnPp"
      },
      "source": [
        "path = clf.cost_complexity_pruning_path(X_train, y_train)"
      ],
      "execution_count": null,
      "outputs": []
    },
    {
      "cell_type": "code",
      "metadata": {
        "colab": {
          "base_uri": "https://localhost:8080/"
        },
        "id": "pz0WlXk1fpMN",
        "outputId": "de3dfebb-8ba7-412b-b105-2d2343c1b2ee"
      },
      "source": [
        "path"
      ],
      "execution_count": null,
      "outputs": [
        {
          "output_type": "execute_result",
          "data": {
            "text/plain": [
              "{'ccp_alphas': array([0.        , 0.00393082, 0.00408805, 0.0043239 , 0.0045283 ,\n",
              "        0.00581761, 0.00628931, 0.0067086 , 0.006798  , 0.00707547,\n",
              "        0.00754717, 0.00754717, 0.00808625, 0.00825472, 0.00934166,\n",
              "        0.01027254, 0.01189882, 0.01479953, 0.01782345, 0.02469498,\n",
              "        0.03423776, 0.16576779]),\n",
              " 'impurities': array([0.        , 0.00786164, 0.02421384, 0.03286164, 0.05097484,\n",
              "        0.10333333, 0.10962264, 0.11633124, 0.12312924, 0.13728018,\n",
              "        0.14482735, 0.15237452, 0.16046078, 0.16871549, 0.18739882,\n",
              "        0.19767136, 0.22146899, 0.25106805, 0.2688915 , 0.29358648,\n",
              "        0.32782424, 0.49359203])}"
            ]
          },
          "metadata": {},
          "execution_count": 198
        }
      ]
    },
    {
      "cell_type": "code",
      "metadata": {
        "id": "Ng2tk1pjfrfj"
      },
      "source": [
        "alphas = path['ccp_alphas']"
      ],
      "execution_count": null,
      "outputs": []
    },
    {
      "cell_type": "code",
      "metadata": {
        "colab": {
          "base_uri": "https://localhost:8080/"
        },
        "id": "KFjUMAJhf0ED",
        "outputId": "799a0341-2761-4037-ccbe-64b5dc87ec56"
      },
      "source": [
        "alphas"
      ],
      "execution_count": null,
      "outputs": [
        {
          "output_type": "execute_result",
          "data": {
            "text/plain": [
              "array([0.        , 0.00393082, 0.00408805, 0.0043239 , 0.0045283 ,\n",
              "       0.00581761, 0.00628931, 0.0067086 , 0.006798  , 0.00707547,\n",
              "       0.00754717, 0.00754717, 0.00808625, 0.00825472, 0.00934166,\n",
              "       0.01027254, 0.01189882, 0.01479953, 0.01782345, 0.02469498,\n",
              "       0.03423776, 0.16576779])"
            ]
          },
          "metadata": {},
          "execution_count": 200
        }
      ]
    },
    {
      "cell_type": "code",
      "metadata": {
        "id": "lq8arP3Rf14a"
      },
      "source": [
        "acrcy_train, acrcy_test = [],[]\n",
        "\n",
        "for i in alphas:\n",
        "    clf = DecisionTreeClassifier(ccp_alpha=i)    \n",
        "    \n",
        "    clf.fit(X_train, y_train)\n",
        "    y_pred_train = clf.predict(X_train)\n",
        "    y_pred_test = clf.predict(X_test)\n",
        "    \n",
        "    acrcy_train.append(accuracy_score(y_train, y_pred_train))\n",
        "    acrcy_test.append(accuracy_score(y_test,y_pred_test))"
      ],
      "execution_count": null,
      "outputs": []
    },
    {
      "cell_type": "code",
      "metadata": {
        "colab": {
          "base_uri": "https://localhost:8080/"
        },
        "id": "RrMA9uE2f5il",
        "outputId": "effac928-f14f-4928-c734-7166e956a709"
      },
      "source": [
        "acrcy_train"
      ],
      "execution_count": null,
      "outputs": [
        {
          "output_type": "execute_result",
          "data": {
            "text/plain": [
              "[1.0,\n",
              " 0.9952830188679245,\n",
              " 0.9858490566037735,\n",
              " 0.9811320754716981,\n",
              " 0.9716981132075472,\n",
              " 0.9433962264150944,\n",
              " 0.9386792452830188,\n",
              " 0.9339622641509434,\n",
              " 0.9292452830188679,\n",
              " 0.9150943396226415,\n",
              " 0.9056603773584906,\n",
              " 0.9056603773584906,\n",
              " 0.9056603773584906,\n",
              " 0.9009433962264151,\n",
              " 0.8915094339622641,\n",
              " 0.8820754716981132,\n",
              " 0.8679245283018868,\n",
              " 0.839622641509434,\n",
              " 0.8113207547169812,\n",
              " 0.8018867924528302,\n",
              " 0.7924528301886793,\n",
              " 0.5566037735849056]"
            ]
          },
          "metadata": {},
          "execution_count": 202
        }
      ]
    },
    {
      "cell_type": "code",
      "metadata": {
        "colab": {
          "base_uri": "https://localhost:8080/"
        },
        "id": "rltrVTIif7lh",
        "outputId": "21ee2b8b-8d4d-49da-fd2b-8cf0c79432aa"
      },
      "source": [
        "acrcy_test"
      ],
      "execution_count": null,
      "outputs": [
        {
          "output_type": "execute_result",
          "data": {
            "text/plain": [
              "[0.7252747252747253,\n",
              " 0.6813186813186813,\n",
              " 0.7802197802197802,\n",
              " 0.7582417582417582,\n",
              " 0.8131868131868132,\n",
              " 0.7912087912087912,\n",
              " 0.8021978021978022,\n",
              " 0.8131868131868132,\n",
              " 0.7802197802197802,\n",
              " 0.7802197802197802,\n",
              " 0.7912087912087912,\n",
              " 0.8021978021978022,\n",
              " 0.8021978021978022,\n",
              " 0.8021978021978022,\n",
              " 0.8021978021978022,\n",
              " 0.8021978021978022,\n",
              " 0.7472527472527473,\n",
              " 0.7472527472527473,\n",
              " 0.7252747252747253,\n",
              " 0.7142857142857143,\n",
              " 0.7032967032967034,\n",
              " 0.5164835164835165]"
            ]
          },
          "metadata": {},
          "execution_count": 203
        }
      ]
    },
    {
      "cell_type": "code",
      "metadata": {
        "colab": {
          "base_uri": "https://localhost:8080/",
          "height": 448
        },
        "id": "yDv3SrIPf9-d",
        "outputId": "9be96a1f-d1a0-469d-ca89-c819626b9f56"
      },
      "source": [
        "# now we have scores\n",
        "# lets, plot\n",
        "\n",
        "sns.set()\n",
        "plt.figure(figsize = (14,7))\n",
        "sns.lineplot(y =acrcy_train, x = alphas, label = 'Train_Accuracy')\n",
        "sns.lineplot(y =acrcy_test, x = alphas, label = 'Test_Accuracy')\n",
        "plt.xticks(ticks=np.arange(0.00,0.2,0.01))\n",
        "plt.xlabel('alphas')\n",
        "plt.ylabel('accuracy')\n",
        "plt.show()"
      ],
      "execution_count": null,
      "outputs": [
        {
          "output_type": "display_data",
          "data": {
            "image/png": "[encoded data removed]",
            "text/plain": [
              "<Figure size 1008x504 with 1 Axes>"
            ]
          },
          "metadata": {}
        }
      ]
    },
    {
      "cell_type": "code",
      "metadata": {
        "id": "Cf8CxUHcgBmW"
      },
      "source": [
        "#_________with ccp = 0.015\n",
        "clf = DecisionTreeClassifier(ccp_alpha=0.015, random_state = 14)"
      ],
      "execution_count": null,
      "outputs": []
    },
    {
      "cell_type": "code",
      "metadata": {
        "colab": {
          "base_uri": "https://localhost:8080/"
        },
        "id": "mrq4XbKcgbpO",
        "outputId": "21585fc8-263a-4934-8a15-177363a53e6c"
      },
      "source": [
        "clf.fit(X_train,y_train)"
      ],
      "execution_count": null,
      "outputs": [
        {
          "output_type": "execute_result",
          "data": {
            "text/plain": [
              "DecisionTreeClassifier(ccp_alpha=0.015, random_state=14)"
            ]
          },
          "metadata": {},
          "execution_count": 220
        }
      ]
    },
    {
      "cell_type": "code",
      "metadata": {
        "id": "MFcEDwj5guVS"
      },
      "source": [
        "y_pred_train = clf.predict(X_train)"
      ],
      "execution_count": null,
      "outputs": []
    },
    {
      "cell_type": "code",
      "metadata": {
        "id": "Oeg4V4khgx5P"
      },
      "source": [
        "y_pred_test = clf.predict(X_test)"
      ],
      "execution_count": null,
      "outputs": []
    },
    {
      "cell_type": "code",
      "metadata": {
        "colab": {
          "base_uri": "https://localhost:8080/"
        },
        "id": "ECZoxvo_gzuH",
        "outputId": "43e6d814-dc6c-4a1d-a5d2-5a5f09f80261"
      },
      "source": [
        "from sklearn.metrics import accuracy_score\n",
        "print(round(accuracy_score(y_train,y_pred_train), 2))"
      ],
      "execution_count": null,
      "outputs": [
        {
          "output_type": "stream",
          "name": "stdout",
          "text": [
            "0.84\n"
          ]
        }
      ]
    },
    {
      "cell_type": "code",
      "metadata": {
        "colab": {
          "base_uri": "https://localhost:8080/"
        },
        "id": "oOlL0II6g15h",
        "outputId": "bb340f90-17eb-456e-b881-93914ae62792"
      },
      "source": [
        "print(round(accuracy_score(y_test,y_pred_test), 2))"
      ],
      "execution_count": null,
      "outputs": [
        {
          "output_type": "stream",
          "name": "stdout",
          "text": [
            "0.75\n"
          ]
        }
      ]
    },
    {
      "cell_type": "code",
      "metadata": {
        "id": "dI-fIVWSg39f"
      },
      "source": [
        "### Confusion Matrix\n",
        "from sklearn.metrics import confusion_matrix\n",
        "from sklearn.metrics import classification_report"
      ],
      "execution_count": null,
      "outputs": []
    },
    {
      "cell_type": "code",
      "metadata": {
        "colab": {
          "base_uri": "https://localhost:8080/"
        },
        "id": "2gAyxcvBhS0P",
        "outputId": "c8e92ab7-d98b-45f9-aa96-ab5d47e121e0"
      },
      "source": [
        "confusion_matrix = confusion_matrix(y_test, y_pred_test)\n",
        "print(confusion_matrix)"
      ],
      "execution_count": null,
      "outputs": [
        {
          "output_type": "stream",
          "name": "stdout",
          "text": [
            "[[27 17]\n",
            " [ 6 41]]\n"
          ]
        }
      ]
    },
    {
      "cell_type": "code",
      "metadata": {
        "id": "hP-G56LYhkTH"
      },
      "source": [
        "### Classification Report\n",
        "from sklearn.metrics import classification_report"
      ],
      "execution_count": null,
      "outputs": []
    },
    {
      "cell_type": "code",
      "metadata": {
        "colab": {
          "base_uri": "https://localhost:8080/"
        },
        "id": "wOnfgamehnsM",
        "outputId": "26137e8f-aa34-4847-85a3-b04f6d286a61"
      },
      "source": [
        "print(classification_report(y_test, y_pred_test))"
      ],
      "execution_count": null,
      "outputs": [
        {
          "output_type": "stream",
          "name": "stdout",
          "text": [
            "              precision    recall  f1-score   support\n",
            "\n",
            "           0       0.82      0.61      0.70        44\n",
            "           1       0.71      0.87      0.78        47\n",
            "\n",
            "    accuracy                           0.75        91\n",
            "   macro avg       0.76      0.74      0.74        91\n",
            "weighted avg       0.76      0.75      0.74        91\n",
            "\n"
          ]
        }
      ]
    },
    {
      "cell_type": "code",
      "metadata": {
        "id": "Uz67Gb-7hqpc"
      },
      "source": [
        "###########################  ROC AUC Curve \n",
        "\n",
        "from sklearn.metrics import roc_auc_score\n",
        "from sklearn.metrics import roc_curve\n",
        "from sklearn.metrics import roc_curve, auc, roc_auc_score"
      ],
      "execution_count": null,
      "outputs": []
    },
    {
      "cell_type": "code",
      "metadata": {
        "id": "yEZTY5ythuO_"
      },
      "source": [
        "predictedProbability = clf.predict_proba(X_test)[:, 1]\n",
        "fpr,tpr, thresholds = metrics.roc_curve(y_test, predictedProbability)"
      ],
      "execution_count": null,
      "outputs": []
    },
    {
      "cell_type": "code",
      "metadata": {
        "colab": {
          "base_uri": "https://localhost:8080/"
        },
        "id": "_1ry7pxWiD_H",
        "outputId": "f4cbe277-eb40-4be0-8577-ba7331371dc7"
      },
      "source": [
        "fpr"
      ],
      "execution_count": null,
      "outputs": [
        {
          "output_type": "execute_result",
          "data": {
            "text/plain": [
              "array([0.        , 0.27272727, 0.38636364, 0.45454545, 0.52272727,\n",
              "       1.        ])"
            ]
          },
          "metadata": {},
          "execution_count": 232
        }
      ]
    },
    {
      "cell_type": "code",
      "metadata": {
        "colab": {
          "base_uri": "https://localhost:8080/"
        },
        "id": "1fDQfSp7iJ8X",
        "outputId": "f656a0c9-94b9-4bca-935c-e1571ff0a218"
      },
      "source": [
        "tpr"
      ],
      "execution_count": null,
      "outputs": [
        {
          "output_type": "execute_result",
          "data": {
            "text/plain": [
              "array([0.        , 0.70212766, 0.87234043, 0.91489362, 0.93617021,\n",
              "       1.        ])"
            ]
          },
          "metadata": {},
          "execution_count": 233
        }
      ]
    },
    {
      "cell_type": "code",
      "metadata": {
        "colab": {
          "base_uri": "https://localhost:8080/"
        },
        "id": "DYI336CciK2A",
        "outputId": "1c3f338a-e602-4aeb-c722-0c451600e2d6"
      },
      "source": [
        "thresholds"
      ],
      "execution_count": null,
      "outputs": [
        {
          "output_type": "execute_result",
          "data": {
            "text/plain": [
              "array([1.87254902, 0.87254902, 0.7       , 0.4375    , 0.125     ,\n",
              "       0.10606061])"
            ]
          },
          "metadata": {},
          "execution_count": 234
        }
      ]
    },
    {
      "cell_type": "code",
      "metadata": {
        "colab": {
          "base_uri": "https://localhost:8080/"
        },
        "id": "nj_omQ7OiOAs",
        "outputId": "7bb2d66d-cdcf-4ed6-ea82-1bbeac7f5380"
      },
      "source": [
        "dff = pd.DataFrame(dict(fpr = fpr,tpr = tpr))\n",
        "auc = auc(fpr,tpr)\n",
        "auc"
      ],
      "execution_count": null,
      "outputs": [
        {
          "output_type": "execute_result",
          "data": {
            "text/plain": [
              "0.7712765957446808"
            ]
          },
          "metadata": {},
          "execution_count": 235
        }
      ]
    },
    {
      "cell_type": "code",
      "metadata": {
        "colab": {
          "base_uri": "https://localhost:8080/",
          "height": 301
        },
        "id": "E51JbA9eiQbx",
        "outputId": "35fdb6b0-f5e5-47f3-9105-98fc91e1246d"
      },
      "source": [
        "plt.figure()\n",
        "lw = 2\n",
        "plt.plot(fpr, tpr, color = 'darkorange',\n",
        "         lw =lw, label = 'ROC Curve (area = %0.2f)' %auc)\n",
        "plt.plot([0,1],[0,1], color='navy', lw = lw, linestyle = '--')\n",
        "plt.xlim([-0.1, 1.0])\n",
        "plt.ylim([0.0, 1.1])\n",
        "plt.xlabel('1-Specificity(False Positive Rate)')\n",
        "plt.ylabel('Sensitivity(True Positive Rate)')\n",
        "plt.title(\"ROC - AUC for Decision Tree Model\")\n",
        "plt.legend(loc = \"lower right\")\n",
        "plt.show()"
      ],
      "execution_count": null,
      "outputs": [
        {
          "output_type": "display_data",
          "data": {
            "image/png": "[encoded data removed]",
            "text/plain": [
              "<Figure size 432x288 with 1 Axes>"
            ]
          },
          "metadata": {}
        }
      ]
    },
    {
      "cell_type": "markdown",
      "metadata": {
        "id": "fznAn3fyib1y"
      },
      "source": [
        "**# Random Forest**"
      ]
    },
    {
      "cell_type": "code",
      "metadata": {
        "colab": {
          "base_uri": "https://localhost:8080/"
        },
        "id": "_AwysRd0iVmq",
        "outputId": "87956d9c-a798-4902-8f35-f242cb147f9a"
      },
      "source": [
        "df.info()"
      ],
      "execution_count": null,
      "outputs": [
        {
          "output_type": "stream",
          "name": "stdout",
          "text": [
            "<class 'pandas.core.frame.DataFrame'>\n",
            "RangeIndex: 303 entries, 0 to 302\n",
            "Data columns (total 14 columns):\n",
            " #   Column    Non-Null Count  Dtype  \n",
            "---  ------    --------------  -----  \n",
            " 0   age       303 non-null    int64  \n",
            " 1   sex       303 non-null    int64  \n",
            " 2   cp        303 non-null    int64  \n",
            " 3   trestbps  303 non-null    int64  \n",
            " 4   chol      303 non-null    float64\n",
            " 5   fbs       303 non-null    int64  \n",
            " 6   restecg   303 non-null    int64  \n",
            " 7   thalach   303 non-null    float64\n",
            " 8   exang     303 non-null    int64  \n",
            " 9   oldpeak   303 non-null    float64\n",
            " 10  slope     303 non-null    int64  \n",
            " 11  ca        303 non-null    int64  \n",
            " 12  thal      303 non-null    int64  \n",
            " 13  target    303 non-null    int64  \n",
            "dtypes: float64(3), int64(11)\n",
            "memory usage: 33.3 KB\n"
          ]
        }
      ]
    },
    {
      "cell_type": "code",
      "metadata": {
        "id": "k_tiqJI9ijYb"
      },
      "source": [
        "df2=df[:]"
      ],
      "execution_count": null,
      "outputs": []
    },
    {
      "cell_type": "code",
      "metadata": {
        "colab": {
          "base_uri": "https://localhost:8080/"
        },
        "id": "6hbJAojlioUE",
        "outputId": "79197507-95f2-40fd-d34a-fc7ea133e87e"
      },
      "source": [
        "df2.info()"
      ],
      "execution_count": null,
      "outputs": [
        {
          "output_type": "stream",
          "name": "stdout",
          "text": [
            "<class 'pandas.core.frame.DataFrame'>\n",
            "RangeIndex: 303 entries, 0 to 302\n",
            "Data columns (total 14 columns):\n",
            " #   Column    Non-Null Count  Dtype  \n",
            "---  ------    --------------  -----  \n",
            " 0   age       303 non-null    int64  \n",
            " 1   sex       303 non-null    int64  \n",
            " 2   cp        303 non-null    int64  \n",
            " 3   trestbps  303 non-null    int64  \n",
            " 4   chol      303 non-null    float64\n",
            " 5   fbs       303 non-null    int64  \n",
            " 6   restecg   303 non-null    int64  \n",
            " 7   thalach   303 non-null    float64\n",
            " 8   exang     303 non-null    int64  \n",
            " 9   oldpeak   303 non-null    float64\n",
            " 10  slope     303 non-null    int64  \n",
            " 11  ca        303 non-null    int64  \n",
            " 12  thal      303 non-null    int64  \n",
            " 13  target    303 non-null    int64  \n",
            "dtypes: float64(3), int64(11)\n",
            "memory usage: 33.3 KB\n"
          ]
        }
      ]
    },
    {
      "cell_type": "code",
      "metadata": {
        "id": "VL3RQlFBir54"
      },
      "source": [
        "from sklearn.preprocessing import LabelEncoder\n",
        "LE= LabelEncoder()"
      ],
      "execution_count": null,
      "outputs": []
    },
    {
      "cell_type": "code",
      "metadata": {
        "colab": {
          "base_uri": "https://localhost:8080/",
          "height": 423
        },
        "id": "_cTfbFLciyZr",
        "outputId": "d7dcef11-fdee-4971-d496-12933596c330"
      },
      "source": [
        "df2['sex']= LE.fit_transform(df2['sex'])\n",
        "df2['cp']= LE.fit_transform(df2['cp'])\n",
        "df2['fbs']= LE.fit_transform(df2['fbs'])\n",
        "df2['restecg']= LE.fit_transform(df2['restecg'])\n",
        "df2['exang']= LE.fit_transform(df2['exang'])\n",
        "df2['slope']= LE.fit_transform(df2['slope'])\n",
        "df2['ca']= LE.fit_transform(df2['ca'])\n",
        "df2['thal']= LE.fit_transform(df2['thal'])\n",
        "df2"
      ],
      "execution_count": null,
      "outputs": [
        {
          "output_type": "execute_result",
          "data": {
            "text/html": [
              "<div>\n",
              "<style scoped>\n",
              "    .dataframe tbody tr th:only-of-type {\n",
              "        vertical-align: middle;\n",
              "    }\n",
              "\n",
              "    .dataframe tbody tr th {\n",
              "        vertical-align: top;\n",
              "    }\n",
              "\n",
              "    .dataframe thead th {\n",
              "        text-align: right;\n",
              "    }\n",
              "</style>\n",
              "<table border=\"1\" class=\"dataframe\">\n",
              "  <thead>\n",
              "    <tr style=\"text-align: right;\">\n",
              "      <th></th>\n",
              "      <th>age</th>\n",
              "      <th>sex</th>\n",
              "      <th>cp</th>\n",
              "      <th>trestbps</th>\n",
              "      <th>chol</th>\n",
              "      <th>fbs</th>\n",
              "      <th>restecg</th>\n",
              "      <th>thalach</th>\n",
              "      <th>exang</th>\n",
              "      <th>oldpeak</th>\n",
              "      <th>slope</th>\n",
              "      <th>ca</th>\n",
              "      <th>thal</th>\n",
              "      <th>target</th>\n",
              "    </tr>\n",
              "  </thead>\n",
              "  <tbody>\n",
              "    <tr>\n",
              "      <th>0</th>\n",
              "      <td>63</td>\n",
              "      <td>1</td>\n",
              "      <td>1</td>\n",
              "      <td>145</td>\n",
              "      <td>233.0</td>\n",
              "      <td>1</td>\n",
              "      <td>0</td>\n",
              "      <td>150.0</td>\n",
              "      <td>0</td>\n",
              "      <td>2.3</td>\n",
              "      <td>0</td>\n",
              "      <td>0</td>\n",
              "      <td>1</td>\n",
              "      <td>1</td>\n",
              "    </tr>\n",
              "    <tr>\n",
              "      <th>1</th>\n",
              "      <td>37</td>\n",
              "      <td>1</td>\n",
              "      <td>1</td>\n",
              "      <td>130</td>\n",
              "      <td>250.0</td>\n",
              "      <td>0</td>\n",
              "      <td>1</td>\n",
              "      <td>187.0</td>\n",
              "      <td>0</td>\n",
              "      <td>3.5</td>\n",
              "      <td>0</td>\n",
              "      <td>0</td>\n",
              "      <td>0</td>\n",
              "      <td>1</td>\n",
              "    </tr>\n",
              "    <tr>\n",
              "      <th>2</th>\n",
              "      <td>41</td>\n",
              "      <td>0</td>\n",
              "      <td>1</td>\n",
              "      <td>130</td>\n",
              "      <td>204.0</td>\n",
              "      <td>0</td>\n",
              "      <td>0</td>\n",
              "      <td>172.0</td>\n",
              "      <td>0</td>\n",
              "      <td>1.4</td>\n",
              "      <td>1</td>\n",
              "      <td>0</td>\n",
              "      <td>0</td>\n",
              "      <td>1</td>\n",
              "    </tr>\n",
              "    <tr>\n",
              "      <th>3</th>\n",
              "      <td>56</td>\n",
              "      <td>1</td>\n",
              "      <td>1</td>\n",
              "      <td>120</td>\n",
              "      <td>236.0</td>\n",
              "      <td>0</td>\n",
              "      <td>1</td>\n",
              "      <td>178.0</td>\n",
              "      <td>0</td>\n",
              "      <td>0.8</td>\n",
              "      <td>1</td>\n",
              "      <td>0</td>\n",
              "      <td>0</td>\n",
              "      <td>1</td>\n",
              "    </tr>\n",
              "    <tr>\n",
              "      <th>4</th>\n",
              "      <td>57</td>\n",
              "      <td>0</td>\n",
              "      <td>0</td>\n",
              "      <td>120</td>\n",
              "      <td>354.0</td>\n",
              "      <td>0</td>\n",
              "      <td>1</td>\n",
              "      <td>163.0</td>\n",
              "      <td>1</td>\n",
              "      <td>0.6</td>\n",
              "      <td>1</td>\n",
              "      <td>0</td>\n",
              "      <td>0</td>\n",
              "      <td>1</td>\n",
              "    </tr>\n",
              "    <tr>\n",
              "      <th>...</th>\n",
              "      <td>...</td>\n",
              "      <td>...</td>\n",
              "      <td>...</td>\n",
              "      <td>...</td>\n",
              "      <td>...</td>\n",
              "      <td>...</td>\n",
              "      <td>...</td>\n",
              "      <td>...</td>\n",
              "      <td>...</td>\n",
              "      <td>...</td>\n",
              "      <td>...</td>\n",
              "      <td>...</td>\n",
              "      <td>...</td>\n",
              "      <td>...</td>\n",
              "    </tr>\n",
              "    <tr>\n",
              "      <th>298</th>\n",
              "      <td>57</td>\n",
              "      <td>0</td>\n",
              "      <td>0</td>\n",
              "      <td>140</td>\n",
              "      <td>241.0</td>\n",
              "      <td>0</td>\n",
              "      <td>1</td>\n",
              "      <td>123.0</td>\n",
              "      <td>1</td>\n",
              "      <td>0.2</td>\n",
              "      <td>0</td>\n",
              "      <td>0</td>\n",
              "      <td>1</td>\n",
              "      <td>0</td>\n",
              "    </tr>\n",
              "    <tr>\n",
              "      <th>299</th>\n",
              "      <td>45</td>\n",
              "      <td>1</td>\n",
              "      <td>1</td>\n",
              "      <td>110</td>\n",
              "      <td>264.0</td>\n",
              "      <td>0</td>\n",
              "      <td>1</td>\n",
              "      <td>132.0</td>\n",
              "      <td>0</td>\n",
              "      <td>1.2</td>\n",
              "      <td>0</td>\n",
              "      <td>0</td>\n",
              "      <td>1</td>\n",
              "      <td>0</td>\n",
              "    </tr>\n",
              "    <tr>\n",
              "      <th>300</th>\n",
              "      <td>68</td>\n",
              "      <td>1</td>\n",
              "      <td>0</td>\n",
              "      <td>144</td>\n",
              "      <td>193.0</td>\n",
              "      <td>1</td>\n",
              "      <td>1</td>\n",
              "      <td>141.0</td>\n",
              "      <td>0</td>\n",
              "      <td>3.4</td>\n",
              "      <td>0</td>\n",
              "      <td>1</td>\n",
              "      <td>1</td>\n",
              "      <td>0</td>\n",
              "    </tr>\n",
              "    <tr>\n",
              "      <th>301</th>\n",
              "      <td>57</td>\n",
              "      <td>1</td>\n",
              "      <td>0</td>\n",
              "      <td>130</td>\n",
              "      <td>131.0</td>\n",
              "      <td>0</td>\n",
              "      <td>1</td>\n",
              "      <td>115.0</td>\n",
              "      <td>1</td>\n",
              "      <td>1.2</td>\n",
              "      <td>0</td>\n",
              "      <td>1</td>\n",
              "      <td>1</td>\n",
              "      <td>0</td>\n",
              "    </tr>\n",
              "    <tr>\n",
              "      <th>302</th>\n",
              "      <td>57</td>\n",
              "      <td>0</td>\n",
              "      <td>1</td>\n",
              "      <td>130</td>\n",
              "      <td>236.0</td>\n",
              "      <td>0</td>\n",
              "      <td>0</td>\n",
              "      <td>174.0</td>\n",
              "      <td>0</td>\n",
              "      <td>0.0</td>\n",
              "      <td>0</td>\n",
              "      <td>1</td>\n",
              "      <td>0</td>\n",
              "      <td>0</td>\n",
              "    </tr>\n",
              "  </tbody>\n",
              "</table>\n",
              "<p>303 rows × 14 columns</p>\n",
              "</div>"
            ],
            "text/plain": [
              "     age  sex  cp  trestbps   chol  ...  oldpeak  slope  ca  thal  target\n",
              "0     63    1   1       145  233.0  ...      2.3      0   0     1       1\n",
              "1     37    1   1       130  250.0  ...      3.5      0   0     0       1\n",
              "2     41    0   1       130  204.0  ...      1.4      1   0     0       1\n",
              "3     56    1   1       120  236.0  ...      0.8      1   0     0       1\n",
              "4     57    0   0       120  354.0  ...      0.6      1   0     0       1\n",
              "..   ...  ...  ..       ...    ...  ...      ...    ...  ..   ...     ...\n",
              "298   57    0   0       140  241.0  ...      0.2      0   0     1       0\n",
              "299   45    1   1       110  264.0  ...      1.2      0   0     1       0\n",
              "300   68    1   0       144  193.0  ...      3.4      0   1     1       0\n",
              "301   57    1   0       130  131.0  ...      1.2      0   1     1       0\n",
              "302   57    0   1       130  236.0  ...      0.0      0   1     0       0\n",
              "\n",
              "[303 rows x 14 columns]"
            ]
          },
          "metadata": {},
          "execution_count": 241
        }
      ]
    },
    {
      "cell_type": "code",
      "metadata": {
        "id": "2k5oVleFi5JM"
      },
      "source": [
        "X = df2.loc[:, df2.columns != 'target']\n",
        "y = df2.loc[:, df2.columns == 'target']"
      ],
      "execution_count": null,
      "outputs": []
    },
    {
      "cell_type": "code",
      "metadata": {
        "colab": {
          "base_uri": "https://localhost:8080/"
        },
        "id": "FS7C1v3si-K8",
        "outputId": "e4eb2fc9-7955-44fd-dadf-76b7923693d8"
      },
      "source": [
        "X.info()"
      ],
      "execution_count": null,
      "outputs": [
        {
          "output_type": "stream",
          "name": "stdout",
          "text": [
            "<class 'pandas.core.frame.DataFrame'>\n",
            "RangeIndex: 303 entries, 0 to 302\n",
            "Data columns (total 13 columns):\n",
            " #   Column    Non-Null Count  Dtype  \n",
            "---  ------    --------------  -----  \n",
            " 0   age       303 non-null    int64  \n",
            " 1   sex       303 non-null    int64  \n",
            " 2   cp        303 non-null    int64  \n",
            " 3   trestbps  303 non-null    int64  \n",
            " 4   chol      303 non-null    float64\n",
            " 5   fbs       303 non-null    int64  \n",
            " 6   restecg   303 non-null    int64  \n",
            " 7   thalach   303 non-null    float64\n",
            " 8   exang     303 non-null    int64  \n",
            " 9   oldpeak   303 non-null    float64\n",
            " 10  slope     303 non-null    int64  \n",
            " 11  ca        303 non-null    int64  \n",
            " 12  thal      303 non-null    int64  \n",
            "dtypes: float64(3), int64(10)\n",
            "memory usage: 30.9 KB\n"
          ]
        }
      ]
    },
    {
      "cell_type": "code",
      "metadata": {
        "colab": {
          "base_uri": "https://localhost:8080/",
          "height": 423
        },
        "id": "muy91pUbjPgV",
        "outputId": "f269cc22-e8e4-4520-bdb4-ad7d7e27259d"
      },
      "source": [
        "y"
      ],
      "execution_count": null,
      "outputs": [
        {
          "output_type": "execute_result",
          "data": {
            "text/html": [
              "<div>\n",
              "<style scoped>\n",
              "    .dataframe tbody tr th:only-of-type {\n",
              "        vertical-align: middle;\n",
              "    }\n",
              "\n",
              "    .dataframe tbody tr th {\n",
              "        vertical-align: top;\n",
              "    }\n",
              "\n",
              "    .dataframe thead th {\n",
              "        text-align: right;\n",
              "    }\n",
              "</style>\n",
              "<table border=\"1\" class=\"dataframe\">\n",
              "  <thead>\n",
              "    <tr style=\"text-align: right;\">\n",
              "      <th></th>\n",
              "      <th>target</th>\n",
              "    </tr>\n",
              "  </thead>\n",
              "  <tbody>\n",
              "    <tr>\n",
              "      <th>0</th>\n",
              "      <td>1</td>\n",
              "    </tr>\n",
              "    <tr>\n",
              "      <th>1</th>\n",
              "      <td>1</td>\n",
              "    </tr>\n",
              "    <tr>\n",
              "      <th>2</th>\n",
              "      <td>1</td>\n",
              "    </tr>\n",
              "    <tr>\n",
              "      <th>3</th>\n",
              "      <td>1</td>\n",
              "    </tr>\n",
              "    <tr>\n",
              "      <th>4</th>\n",
              "      <td>1</td>\n",
              "    </tr>\n",
              "    <tr>\n",
              "      <th>...</th>\n",
              "      <td>...</td>\n",
              "    </tr>\n",
              "    <tr>\n",
              "      <th>298</th>\n",
              "      <td>0</td>\n",
              "    </tr>\n",
              "    <tr>\n",
              "      <th>299</th>\n",
              "      <td>0</td>\n",
              "    </tr>\n",
              "    <tr>\n",
              "      <th>300</th>\n",
              "      <td>0</td>\n",
              "    </tr>\n",
              "    <tr>\n",
              "      <th>301</th>\n",
              "      <td>0</td>\n",
              "    </tr>\n",
              "    <tr>\n",
              "      <th>302</th>\n",
              "      <td>0</td>\n",
              "    </tr>\n",
              "  </tbody>\n",
              "</table>\n",
              "<p>303 rows × 1 columns</p>\n",
              "</div>"
            ],
            "text/plain": [
              "     target\n",
              "0         1\n",
              "1         1\n",
              "2         1\n",
              "3         1\n",
              "4         1\n",
              "..      ...\n",
              "298       0\n",
              "299       0\n",
              "300       0\n",
              "301       0\n",
              "302       0\n",
              "\n",
              "[303 rows x 1 columns]"
            ]
          },
          "metadata": {},
          "execution_count": 244
        }
      ]
    },
    {
      "cell_type": "code",
      "metadata": {
        "id": "bkBMsTXZkEXz"
      },
      "source": [
        "'''Fit Tree'''\n",
        "#train test - split \n",
        "\n",
        "from sklearn.model_selection import train_test_split"
      ],
      "execution_count": null,
      "outputs": []
    },
    {
      "cell_type": "code",
      "metadata": {
        "id": "Qw1SlFkqkH_G"
      },
      "source": [
        "X_train, X_test, y_train, y_test = train_test_split(X, y, test_size=0.3, random_state=0)"
      ],
      "execution_count": null,
      "outputs": []
    },
    {
      "cell_type": "code",
      "metadata": {
        "id": "atkUNTRBkVBb"
      },
      "source": [
        "#import the classifier\n",
        "from sklearn.ensemble import RandomForestClassifier"
      ],
      "execution_count": null,
      "outputs": []
    },
    {
      "cell_type": "code",
      "metadata": {
        "id": "r1pb3KuFkXP2"
      },
      "source": [
        "#Create Classifier object \n",
        "#in our previous experiment, we found ccp_alphas = 0.015 has the best accuarcy \n",
        "clf_rf = RandomForestClassifier(n_estimators =100, ccp_alpha= 0.015, random_state = 14)"
      ],
      "execution_count": null,
      "outputs": []
    },
    {
      "cell_type": "code",
      "metadata": {
        "colab": {
          "base_uri": "https://localhost:8080/"
        },
        "id": "mQ9eiq7xlOYO",
        "outputId": "34067a70-4a02-461c-abf2-3e1492e50102"
      },
      "source": [
        "#fit the classifier with x and y  data = train\n",
        "mod_rf = clf_rf.fit(X_train, y_train)"
      ],
      "execution_count": null,
      "outputs": [
        {
          "output_type": "stream",
          "name": "stderr",
          "text": [
            "/usr/local/lib/python3.7/dist-packages/ipykernel_launcher.py:2: DataConversionWarning: A column-vector y was passed when a 1d array was expected. Please change the shape of y to (n_samples,), for example using ravel().\n",
            "  \n"
          ]
        }
      ]
    },
    {
      "cell_type": "code",
      "metadata": {
        "colab": {
          "base_uri": "https://localhost:8080/"
        },
        "id": "KL2vrwrmlRwX",
        "outputId": "d37e85a8-1921-460e-a180-45c225b46c3e"
      },
      "source": [
        "#Prediction \n",
        "y_train_pred = mod_rf.predict(X_train)\n",
        "y_train_pred"
      ],
      "execution_count": null,
      "outputs": [
        {
          "output_type": "execute_result",
          "data": {
            "text/plain": [
              "array([1, 1, 0, 1, 0, 0, 0, 1, 0, 0, 1, 0, 1, 0, 1, 1, 1, 1, 1, 0, 0, 0,\n",
              "       0, 1, 0, 1, 1, 1, 0, 1, 1, 1, 0, 1, 1, 1, 0, 1, 1, 1, 0, 1, 1, 1,\n",
              "       0, 1, 1, 0, 0, 1, 1, 1, 1, 1, 1, 1, 1, 1, 1, 1, 1, 1, 0, 0, 1, 0,\n",
              "       0, 0, 1, 1, 1, 0, 1, 0, 1, 1, 0, 1, 1, 1, 1, 1, 0, 0, 1, 0, 1, 0,\n",
              "       1, 1, 0, 0, 1, 1, 0, 0, 1, 1, 1, 0, 1, 0, 1, 0, 1, 1, 0, 1, 1, 1,\n",
              "       0, 0, 0, 0, 0, 1, 1, 1, 1, 0, 1, 0, 1, 0, 1, 1, 1, 0, 1, 0, 1, 0,\n",
              "       0, 1, 1, 1, 0, 1, 0, 1, 1, 1, 0, 1, 0, 1, 1, 0, 1, 1, 1, 1, 1, 0,\n",
              "       0, 1, 1, 0, 1, 0, 1, 1, 1, 1, 1, 0, 1, 1, 0, 1, 1, 0, 1, 1, 0, 0,\n",
              "       1, 1, 1, 1, 0, 0, 1, 1, 1, 1, 0, 0, 1, 0, 1, 1, 0, 0, 0, 0, 1, 0,\n",
              "       1, 1, 1, 0, 0, 1, 0, 1, 0, 0, 0, 1, 1, 1])"
            ]
          },
          "metadata": {},
          "execution_count": 250
        }
      ]
    },
    {
      "cell_type": "code",
      "metadata": {
        "colab": {
          "base_uri": "https://localhost:8080/"
        },
        "id": "99BAQcpRlVaV",
        "outputId": "4814552a-7272-4e6a-9242-a59f701d3a3a"
      },
      "source": [
        "#Prediction \n",
        "y_test_pred = mod_rf.predict(X_test)\n",
        "y_test_pred"
      ],
      "execution_count": null,
      "outputs": [
        {
          "output_type": "execute_result",
          "data": {
            "text/plain": [
              "array([0, 1, 1, 0, 0, 1, 0, 0, 0, 0, 0, 1, 0, 1, 1, 1, 0, 1, 0, 1, 1, 0,\n",
              "       0, 0, 1, 0, 0, 1, 1, 1, 1, 0, 1, 1, 1, 1, 0, 1, 0, 0, 1, 1, 1, 0,\n",
              "       1, 1, 1, 0, 0, 1, 1, 1, 1, 1, 1, 0, 1, 1, 1, 1, 1, 1, 1, 1, 1, 1,\n",
              "       1, 0, 1, 1, 1, 1, 1, 0, 0, 1, 0, 1, 1, 0, 0, 0, 0, 1, 0, 1, 0, 1,\n",
              "       1, 1, 0])"
            ]
          },
          "metadata": {},
          "execution_count": 251
        }
      ]
    },
    {
      "cell_type": "code",
      "metadata": {
        "colab": {
          "base_uri": "https://localhost:8080/"
        },
        "id": "QKuPxQ6XlYGt",
        "outputId": "ca1d23a6-b6a0-4f8c-da0f-8ff3693648cc"
      },
      "source": [
        "from sklearn.metrics import accuracy_score\n",
        "\n",
        "print(round(accuracy_score(y_train,y_train_pred), 2))"
      ],
      "execution_count": null,
      "outputs": [
        {
          "output_type": "stream",
          "name": "stdout",
          "text": [
            "0.9\n"
          ]
        }
      ]
    },
    {
      "cell_type": "code",
      "metadata": {
        "colab": {
          "base_uri": "https://localhost:8080/"
        },
        "id": "EN0MrV4_lbC8",
        "outputId": "fd7c5ddf-1d2e-4332-d9f8-5b1cc53cec60"
      },
      "source": [
        "print(round(accuracy_score(y_test,y_test_pred), 2))"
      ],
      "execution_count": null,
      "outputs": [
        {
          "output_type": "stream",
          "name": "stdout",
          "text": [
            "0.81\n"
          ]
        }
      ]
    },
    {
      "cell_type": "code",
      "metadata": {
        "id": "_p3Yz6DZldaZ"
      },
      "source": [
        "#_____________________________ Extract Feature Importance \n",
        "fi = pd.DataFrame({'feature': list(X_train.columns),\n",
        "                   'importance': mod_rf.feature_importances_}).\\\n",
        "    sort_values('importance', ascending = False)"
      ],
      "execution_count": null,
      "outputs": []
    },
    {
      "cell_type": "code",
      "metadata": {
        "colab": {
          "base_uri": "https://localhost:8080/",
          "height": 206
        },
        "id": "UzVrbgH2ljC9",
        "outputId": "93d2d6d8-dc3c-4ad6-a2da-aa6f7f47ece8"
      },
      "source": [
        "fi.head()"
      ],
      "execution_count": null,
      "outputs": [
        {
          "output_type": "execute_result",
          "data": {
            "text/html": [
              "<div>\n",
              "<style scoped>\n",
              "    .dataframe tbody tr th:only-of-type {\n",
              "        vertical-align: middle;\n",
              "    }\n",
              "\n",
              "    .dataframe tbody tr th {\n",
              "        vertical-align: top;\n",
              "    }\n",
              "\n",
              "    .dataframe thead th {\n",
              "        text-align: right;\n",
              "    }\n",
              "</style>\n",
              "<table border=\"1\" class=\"dataframe\">\n",
              "  <thead>\n",
              "    <tr style=\"text-align: right;\">\n",
              "      <th></th>\n",
              "      <th>feature</th>\n",
              "      <th>importance</th>\n",
              "    </tr>\n",
              "  </thead>\n",
              "  <tbody>\n",
              "    <tr>\n",
              "      <th>12</th>\n",
              "      <td>thal</td>\n",
              "      <td>0.203829</td>\n",
              "    </tr>\n",
              "    <tr>\n",
              "      <th>11</th>\n",
              "      <td>ca</td>\n",
              "      <td>0.156076</td>\n",
              "    </tr>\n",
              "    <tr>\n",
              "      <th>9</th>\n",
              "      <td>oldpeak</td>\n",
              "      <td>0.115380</td>\n",
              "    </tr>\n",
              "    <tr>\n",
              "      <th>2</th>\n",
              "      <td>cp</td>\n",
              "      <td>0.113929</td>\n",
              "    </tr>\n",
              "    <tr>\n",
              "      <th>8</th>\n",
              "      <td>exang</td>\n",
              "      <td>0.100628</td>\n",
              "    </tr>\n",
              "  </tbody>\n",
              "</table>\n",
              "</div>"
            ],
            "text/plain": [
              "    feature  importance\n",
              "12     thal    0.203829\n",
              "11       ca    0.156076\n",
              "9   oldpeak    0.115380\n",
              "2        cp    0.113929\n",
              "8     exang    0.100628"
            ]
          },
          "metadata": {},
          "execution_count": 257
        }
      ]
    },
    {
      "cell_type": "code",
      "metadata": {
        "id": "ClOADiFJlrlk"
      },
      "source": [
        "# Accuarcy 2 cells above is 0.9 & 0.81 for Train & test (respectively)\n",
        "# This accuracy is for having all columns as features in our model\n",
        "# Lets build a model keeping 5 best features \n",
        "# that is keeping 'cp', 'exang', 'oldpeak', 'ca', 'thal' only\n",
        "from sklearn.ensemble import RandomForestClassifier"
      ],
      "execution_count": null,
      "outputs": []
    },
    {
      "cell_type": "code",
      "metadata": {
        "id": "oRhPPKqzojMf"
      },
      "source": [
        "#Create Classifier object \n",
        "#in our previous experiment Decision Tree model, \n",
        "#we found ccp_alphas = 0.035 has the best accuarcy \n",
        "clf_rf1 = RandomForestClassifier(n_estimators =100, ccp_alpha= 0.015, random_state = 14)"
      ],
      "execution_count": null,
      "outputs": []
    },
    {
      "cell_type": "code",
      "metadata": {
        "colab": {
          "base_uri": "https://localhost:8080/"
        },
        "id": "1utoJNWlpr2j",
        "outputId": "6789d057-6a1c-4e2e-e0e3-00d3ccfb488d"
      },
      "source": [
        "# fit the classifier with x and y data=TRAIN, \n",
        "#this time with Failure_Type only\n",
        "X_train.info()"
      ],
      "execution_count": null,
      "outputs": [
        {
          "output_type": "stream",
          "name": "stdout",
          "text": [
            "<class 'pandas.core.frame.DataFrame'>\n",
            "Int64Index: 212 entries, 137 to 172\n",
            "Data columns (total 13 columns):\n",
            " #   Column    Non-Null Count  Dtype  \n",
            "---  ------    --------------  -----  \n",
            " 0   age       212 non-null    int64  \n",
            " 1   sex       212 non-null    int64  \n",
            " 2   cp        212 non-null    int64  \n",
            " 3   trestbps  212 non-null    int64  \n",
            " 4   chol      212 non-null    float64\n",
            " 5   fbs       212 non-null    int64  \n",
            " 6   restecg   212 non-null    int64  \n",
            " 7   thalach   212 non-null    float64\n",
            " 8   exang     212 non-null    int64  \n",
            " 9   oldpeak   212 non-null    float64\n",
            " 10  slope     212 non-null    int64  \n",
            " 11  ca        212 non-null    int64  \n",
            " 12  thal      212 non-null    int64  \n",
            "dtypes: float64(3), int64(10)\n",
            "memory usage: 23.2 KB\n"
          ]
        }
      ]
    },
    {
      "cell_type": "code",
      "metadata": {
        "colab": {
          "base_uri": "https://localhost:8080/"
        },
        "id": "pkPgOOwNpuyX",
        "outputId": "d05ce636-cdaa-4799-b7f4-789c316aa689"
      },
      "source": [
        "X_train1 = X_train.iloc[ : ,[2,8,9,11,12]]\n",
        "X_train1.info()"
      ],
      "execution_count": null,
      "outputs": [
        {
          "output_type": "stream",
          "name": "stdout",
          "text": [
            "<class 'pandas.core.frame.DataFrame'>\n",
            "Int64Index: 212 entries, 137 to 172\n",
            "Data columns (total 5 columns):\n",
            " #   Column   Non-Null Count  Dtype  \n",
            "---  ------   --------------  -----  \n",
            " 0   cp       212 non-null    int64  \n",
            " 1   exang    212 non-null    int64  \n",
            " 2   oldpeak  212 non-null    float64\n",
            " 3   ca       212 non-null    int64  \n",
            " 4   thal     212 non-null    int64  \n",
            "dtypes: float64(1), int64(4)\n",
            "memory usage: 9.9 KB\n"
          ]
        }
      ]
    },
    {
      "cell_type": "code",
      "metadata": {
        "colab": {
          "base_uri": "https://localhost:8080/"
        },
        "id": "znfFhLZLqU-B",
        "outputId": "79fd79f7-c1c1-43bf-fa31-2d603199148a"
      },
      "source": [
        "mod_rf1 = clf_rf1.fit(X_train1, y_train)"
      ],
      "execution_count": null,
      "outputs": [
        {
          "output_type": "stream",
          "name": "stderr",
          "text": [
            "/usr/local/lib/python3.7/dist-packages/ipykernel_launcher.py:1: DataConversionWarning: A column-vector y was passed when a 1d array was expected. Please change the shape of y to (n_samples,), for example using ravel().\n",
            "  \"\"\"Entry point for launching an IPython kernel.\n"
          ]
        }
      ]
    },
    {
      "cell_type": "code",
      "metadata": {
        "colab": {
          "base_uri": "https://localhost:8080/"
        },
        "id": "LUVUhf86qZLh",
        "outputId": "ad59a915-56c1-4367-9844-89a68be17cfb"
      },
      "source": [
        "#Prediction \n",
        "y_train_pred1 = mod_rf1.predict(X_train1)\n",
        "y_train_pred1"
      ],
      "execution_count": null,
      "outputs": [
        {
          "output_type": "execute_result",
          "data": {
            "text/plain": [
              "array([1, 1, 0, 1, 0, 0, 0, 1, 0, 0, 1, 0, 1, 0, 1, 1, 1, 0, 1, 0, 0, 0,\n",
              "       0, 1, 0, 1, 1, 1, 0, 1, 1, 1, 0, 1, 1, 1, 0, 1, 1, 1, 0, 1, 1, 1,\n",
              "       0, 1, 1, 0, 0, 1, 1, 1, 1, 1, 1, 1, 1, 1, 1, 0, 1, 1, 0, 0, 1, 0,\n",
              "       0, 0, 1, 1, 1, 0, 1, 0, 0, 1, 0, 1, 1, 1, 1, 1, 0, 0, 1, 0, 1, 0,\n",
              "       1, 1, 0, 0, 1, 1, 0, 0, 1, 1, 1, 0, 1, 0, 1, 0, 1, 1, 0, 1, 1, 1,\n",
              "       0, 0, 1, 0, 0, 1, 1, 1, 1, 0, 1, 0, 1, 0, 1, 1, 1, 0, 1, 0, 1, 0,\n",
              "       0, 1, 1, 1, 0, 1, 0, 1, 1, 1, 0, 1, 0, 0, 1, 0, 1, 1, 1, 1, 1, 0,\n",
              "       0, 1, 1, 0, 1, 0, 0, 1, 1, 1, 1, 0, 1, 1, 0, 1, 1, 0, 1, 1, 0, 0,\n",
              "       1, 1, 1, 1, 0, 0, 1, 1, 1, 1, 0, 0, 1, 1, 1, 1, 0, 0, 0, 0, 1, 0,\n",
              "       1, 1, 1, 0, 0, 1, 0, 1, 0, 0, 0, 1, 1, 1])"
            ]
          },
          "metadata": {},
          "execution_count": 263
        }
      ]
    },
    {
      "cell_type": "code",
      "metadata": {
        "colab": {
          "base_uri": "https://localhost:8080/"
        },
        "id": "JWazEFHbqbXr",
        "outputId": "dd1acf53-81fd-4b8d-e71f-5cdd90e712d4"
      },
      "source": [
        "X_test.info()"
      ],
      "execution_count": null,
      "outputs": [
        {
          "output_type": "stream",
          "name": "stdout",
          "text": [
            "<class 'pandas.core.frame.DataFrame'>\n",
            "Int64Index: 91 entries, 225 to 238\n",
            "Data columns (total 13 columns):\n",
            " #   Column    Non-Null Count  Dtype  \n",
            "---  ------    --------------  -----  \n",
            " 0   age       91 non-null     int64  \n",
            " 1   sex       91 non-null     int64  \n",
            " 2   cp        91 non-null     int64  \n",
            " 3   trestbps  91 non-null     int64  \n",
            " 4   chol      91 non-null     float64\n",
            " 5   fbs       91 non-null     int64  \n",
            " 6   restecg   91 non-null     int64  \n",
            " 7   thalach   91 non-null     float64\n",
            " 8   exang     91 non-null     int64  \n",
            " 9   oldpeak   91 non-null     float64\n",
            " 10  slope     91 non-null     int64  \n",
            " 11  ca        91 non-null     int64  \n",
            " 12  thal      91 non-null     int64  \n",
            "dtypes: float64(3), int64(10)\n",
            "memory usage: 10.0 KB\n"
          ]
        }
      ]
    },
    {
      "cell_type": "code",
      "metadata": {
        "colab": {
          "base_uri": "https://localhost:8080/"
        },
        "id": "d4OrChSiqegd",
        "outputId": "ef209551-c953-496c-f5cf-28d3c72be7e3"
      },
      "source": [
        "X_test1 = X_test.iloc[ : ,[2,8,9,11,12]]\n",
        "X_test1.info()"
      ],
      "execution_count": null,
      "outputs": [
        {
          "output_type": "stream",
          "name": "stdout",
          "text": [
            "<class 'pandas.core.frame.DataFrame'>\n",
            "Int64Index: 91 entries, 225 to 238\n",
            "Data columns (total 5 columns):\n",
            " #   Column   Non-Null Count  Dtype  \n",
            "---  ------   --------------  -----  \n",
            " 0   cp       91 non-null     int64  \n",
            " 1   exang    91 non-null     int64  \n",
            " 2   oldpeak  91 non-null     float64\n",
            " 3   ca       91 non-null     int64  \n",
            " 4   thal     91 non-null     int64  \n",
            "dtypes: float64(1), int64(4)\n",
            "memory usage: 4.3 KB\n"
          ]
        }
      ]
    },
    {
      "cell_type": "code",
      "metadata": {
        "colab": {
          "base_uri": "https://localhost:8080/"
        },
        "id": "JhYWbo-dqkcN",
        "outputId": "c0c181eb-8479-45da-bfde-e1dbb7048b74"
      },
      "source": [
        "#Prediction \n",
        "y_test_pred1 = mod_rf1.predict(X_test1)\n",
        "y_test_pred1"
      ],
      "execution_count": null,
      "outputs": [
        {
          "output_type": "execute_result",
          "data": {
            "text/plain": [
              "array([0, 1, 1, 0, 0, 1, 0, 0, 0, 0, 0, 1, 0, 1, 1, 1, 0, 1, 0, 1, 1, 0,\n",
              "       0, 1, 1, 0, 0, 0, 1, 1, 1, 0, 1, 1, 1, 1, 0, 1, 0, 0, 1, 1, 1, 0,\n",
              "       1, 1, 1, 0, 0, 1, 1, 1, 1, 1, 1, 0, 1, 1, 1, 1, 1, 1, 1, 1, 1, 1,\n",
              "       1, 0, 1, 1, 1, 1, 1, 0, 0, 1, 0, 1, 1, 0, 0, 0, 0, 1, 0, 0, 0, 1,\n",
              "       1, 1, 1])"
            ]
          },
          "metadata": {},
          "execution_count": 266
        }
      ]
    },
    {
      "cell_type": "code",
      "metadata": {
        "id": "blTZPZfFqtN4"
      },
      "source": [
        "from sklearn.metrics import accuracy_score"
      ],
      "execution_count": null,
      "outputs": []
    },
    {
      "cell_type": "code",
      "metadata": {
        "colab": {
          "base_uri": "https://localhost:8080/"
        },
        "id": "BVurNU1Eqvnr",
        "outputId": "264983dd-eb59-4538-aea3-b081ba73658f"
      },
      "source": [
        "print(round(accuracy_score(y_train,y_train_pred1), 2))"
      ],
      "execution_count": null,
      "outputs": [
        {
          "output_type": "stream",
          "name": "stdout",
          "text": [
            "0.86\n"
          ]
        }
      ]
    },
    {
      "cell_type": "code",
      "metadata": {
        "colab": {
          "base_uri": "https://localhost:8080/"
        },
        "id": "BD1FtQ5fqx8q",
        "outputId": "0c9530df-76c0-4a15-f4bf-6f51fc42a635"
      },
      "source": [
        "print(round(accuracy_score(y_test,y_test_pred1), 2))"
      ],
      "execution_count": null,
      "outputs": [
        {
          "output_type": "stream",
          "name": "stdout",
          "text": [
            "0.81\n"
          ]
        }
      ]
    },
    {
      "cell_type": "code",
      "metadata": {
        "id": "cZVaDWWUq0cz"
      },
      "source": [
        "### There is no much difference in accuarcy \n",
        "#Earlier train accuracy = 0.9 now with 4 features its 0.86\n",
        "#Earlier test accuracy = 0.81 now with 4 features its 0.81"
      ],
      "execution_count": null,
      "outputs": []
    },
    {
      "cell_type": "code",
      "metadata": {
        "id": "xqwRp5rVrDmJ"
      },
      "source": [
        "### Confusion Matrix\n",
        "from sklearn.metrics import confusion_matrix"
      ],
      "execution_count": null,
      "outputs": []
    },
    {
      "cell_type": "code",
      "metadata": {
        "colab": {
          "base_uri": "https://localhost:8080/"
        },
        "id": "nJX9VsVSrEHD",
        "outputId": "181150db-3618-4a93-ef69-6be271126904"
      },
      "source": [
        "confusion_matrix = confusion_matrix(y_test, y_test_pred1)\n",
        "print(confusion_matrix)"
      ],
      "execution_count": null,
      "outputs": [
        {
          "output_type": "stream",
          "name": "stdout",
          "text": [
            "[[31 13]\n",
            " [ 4 43]]\n"
          ]
        }
      ]
    },
    {
      "cell_type": "code",
      "metadata": {
        "colab": {
          "base_uri": "https://localhost:8080/"
        },
        "id": "bsF04M3urGho",
        "outputId": "5aec16a4-465f-4a01-9a60-38f8093ea79a"
      },
      "source": [
        "### Classification Report\n",
        "print(classification_report(y_test, y_test_pred1))"
      ],
      "execution_count": null,
      "outputs": [
        {
          "output_type": "stream",
          "name": "stdout",
          "text": [
            "              precision    recall  f1-score   support\n",
            "\n",
            "           0       0.89      0.70      0.78        44\n",
            "           1       0.77      0.91      0.83        47\n",
            "\n",
            "    accuracy                           0.81        91\n",
            "   macro avg       0.83      0.81      0.81        91\n",
            "weighted avg       0.82      0.81      0.81        91\n",
            "\n"
          ]
        }
      ]
    },
    {
      "cell_type": "code",
      "metadata": {
        "id": "CA5CE4sdrP73"
      },
      "source": [
        "###########################  ROC AUC Curve \n",
        "\n",
        "from sklearn.metrics import roc_auc_score\n",
        "from sklearn.metrics import roc_curve\n",
        "from sklearn.metrics import roc_curve, auc, roc_auc_score"
      ],
      "execution_count": null,
      "outputs": []
    },
    {
      "cell_type": "code",
      "metadata": {
        "id": "4doo6CS4rS1L"
      },
      "source": [
        "predictedProbability1 = mod_rf1.predict_proba(X_test1)[:, 1]\n",
        "fpr,tpr, thresholds = metrics.roc_curve(y_test, predictedProbability1)"
      ],
      "execution_count": null,
      "outputs": []
    },
    {
      "cell_type": "code",
      "metadata": {
        "colab": {
          "base_uri": "https://localhost:8080/"
        },
        "id": "iWmKq_FMrtJp",
        "outputId": "c1125cd6-4d85-4bcf-eb8c-c8b915147103"
      },
      "source": [
        "fpr"
      ],
      "execution_count": null,
      "outputs": [
        {
          "output_type": "execute_result",
          "data": {
            "text/plain": [
              "array([0.        , 0.        , 0.        , 0.        , 0.        ,\n",
              "       0.        , 0.02272727, 0.06818182, 0.06818182, 0.09090909,\n",
              "       0.09090909, 0.13636364, 0.13636364, 0.13636364, 0.15909091,\n",
              "       0.15909091, 0.18181818, 0.18181818, 0.20454545, 0.20454545,\n",
              "       0.22727273, 0.25      , 0.29545455, 0.29545455, 0.34090909,\n",
              "       0.36363636, 0.56818182, 0.56818182, 0.63636364, 0.65909091,\n",
              "       0.75      , 0.79545455, 0.84090909, 0.88636364, 0.93181818,\n",
              "       0.97727273, 1.        ])"
            ]
          },
          "metadata": {},
          "execution_count": 275
        }
      ]
    },
    {
      "cell_type": "code",
      "metadata": {
        "colab": {
          "base_uri": "https://localhost:8080/"
        },
        "id": "uuCkVuhtrvqR",
        "outputId": "ef23f110-feaf-49a2-de92-dcc16066ae44"
      },
      "source": [
        "tpr"
      ],
      "execution_count": null,
      "outputs": [
        {
          "output_type": "execute_result",
          "data": {
            "text/plain": [
              "array([0.        , 0.34042553, 0.36170213, 0.40425532, 0.46808511,\n",
              "       0.4893617 , 0.5106383 , 0.55319149, 0.57446809, 0.59574468,\n",
              "       0.61702128, 0.63829787, 0.68085106, 0.72340426, 0.72340426,\n",
              "       0.76595745, 0.76595745, 0.78723404, 0.80851064, 0.85106383,\n",
              "       0.87234043, 0.91489362, 0.91489362, 0.93617021, 0.93617021,\n",
              "       0.95744681, 0.95744681, 0.9787234 , 0.9787234 , 1.        ,\n",
              "       1.        , 1.        , 1.        , 1.        , 1.        ,\n",
              "       1.        , 1.        ])"
            ]
          },
          "metadata": {},
          "execution_count": 276
        }
      ]
    },
    {
      "cell_type": "code",
      "metadata": {
        "colab": {
          "base_uri": "https://localhost:8080/"
        },
        "id": "69TErA2erysa",
        "outputId": "4426f1da-5699-4b2f-ca1a-92ac45c0d509"
      },
      "source": [
        "thresholds"
      ],
      "execution_count": null,
      "outputs": [
        {
          "output_type": "execute_result",
          "data": {
            "text/plain": [
              "array([1.89541299, 0.89541299, 0.87927376, 0.87323944, 0.86817101,\n",
              "       0.85796746, 0.84706323, 0.83106041, 0.82920144, 0.78756654,\n",
              "       0.77792825, 0.76811059, 0.72797353, 0.71908852, 0.71394146,\n",
              "       0.69817409, 0.69024108, 0.67850108, 0.66600645, 0.61190299,\n",
              "       0.60839611, 0.51014379, 0.5002123 , 0.4982503 , 0.45813156,\n",
              "       0.42562654, 0.28671954, 0.27201602, 0.20334771, 0.17894051,\n",
              "       0.11768904, 0.11394835, 0.10070404, 0.09012524, 0.08501373,\n",
              "       0.082074  , 0.081574  ])"
            ]
          },
          "metadata": {},
          "execution_count": 277
        }
      ]
    },
    {
      "cell_type": "code",
      "metadata": {
        "colab": {
          "base_uri": "https://localhost:8080/"
        },
        "id": "7w5oQuEJr3qv",
        "outputId": "89a31333-58e5-4cf9-b5a4-331e6292651d"
      },
      "source": [
        "dff1 = pd.DataFrame(dict(fpr = fpr,tpr = tpr))\n",
        "auc1 = auc(fpr,tpr)\n",
        "auc1"
      ],
      "execution_count": null,
      "outputs": [
        {
          "output_type": "execute_result",
          "data": {
            "text/plain": [
              "0.9008704061895552"
            ]
          },
          "metadata": {},
          "execution_count": 278
        }
      ]
    },
    {
      "cell_type": "code",
      "metadata": {
        "id": "ZTkMazy-r67c"
      },
      "source": [
        "''' Area Under Curve is 0.9 '''"
      ],
      "execution_count": null,
      "outputs": []
    },
    {
      "cell_type": "code",
      "metadata": {
        "colab": {
          "base_uri": "https://localhost:8080/",
          "height": 301
        },
        "id": "SxWxdFrkr-YA",
        "outputId": "c8dbd9a2-8974-44b1-8108-bba47339cf28"
      },
      "source": [
        "plt.figure()\n",
        "lw = 2\n",
        "plt.plot(fpr, tpr, color = 'green',\n",
        "         lw =lw, label = 'ROC Curve (area = %0.2f)' %auc1)\n",
        "plt.plot([0,1],[0,1], color='navy', lw = lw, linestyle = '--')\n",
        "plt.xlim([-0.1, 1.0])\n",
        "plt.ylim([0.0, 1.1])\n",
        "plt.xlabel('1-Specificity(False Positive Rate)')\n",
        "plt.ylabel('Sensitivity(True Positive Rate)')\n",
        "plt.title(\"ROC - AUC for Random forest\")\n",
        "plt.legend(loc = \"lower right\")\n",
        "plt.show()"
      ],
      "execution_count": null,
      "outputs": [
        {
          "output_type": "display_data",
          "data": {
            "image/png": "[encoded data removed]",
            "text/plain": [
              "<Figure size 432x288 with 1 Axes>"
            ]
          },
          "metadata": {}
        }
      ]
    },
    {
      "cell_type": "markdown",
      "metadata": {
        "id": "7TfbcKSWsDsO"
      },
      "source": [
        "**# Gradient Boosting Model**"
      ]
    },
    {
      "cell_type": "code",
      "metadata": {
        "id": "Cs01ICygsAaY"
      },
      "source": [
        "from sklearn.ensemble import GradientBoostingClassifier\n",
        "from sklearn.model_selection import GridSearchCV"
      ],
      "execution_count": null,
      "outputs": []
    },
    {
      "cell_type": "code",
      "metadata": {
        "colab": {
          "base_uri": "https://localhost:8080/"
        },
        "id": "xp0CRU7qsDOs",
        "outputId": "aa557ad7-78d5-490d-f705-09d8b8a984cb"
      },
      "source": [
        "df.info()"
      ],
      "execution_count": null,
      "outputs": [
        {
          "output_type": "stream",
          "name": "stdout",
          "text": [
            "<class 'pandas.core.frame.DataFrame'>\n",
            "RangeIndex: 303 entries, 0 to 302\n",
            "Data columns (total 14 columns):\n",
            " #   Column    Non-Null Count  Dtype  \n",
            "---  ------    --------------  -----  \n",
            " 0   age       303 non-null    int64  \n",
            " 1   sex       303 non-null    int64  \n",
            " 2   cp        303 non-null    int64  \n",
            " 3   trestbps  303 non-null    int64  \n",
            " 4   chol      303 non-null    float64\n",
            " 5   fbs       303 non-null    int64  \n",
            " 6   restecg   303 non-null    int64  \n",
            " 7   thalach   303 non-null    float64\n",
            " 8   exang     303 non-null    int64  \n",
            " 9   oldpeak   303 non-null    float64\n",
            " 10  slope     303 non-null    int64  \n",
            " 11  ca        303 non-null    int64  \n",
            " 12  thal      303 non-null    int64  \n",
            " 13  target    303 non-null    int64  \n",
            "dtypes: float64(3), int64(11)\n",
            "memory usage: 33.3 KB\n"
          ]
        }
      ]
    },
    {
      "cell_type": "code",
      "metadata": {
        "id": "ps7m8mjFsMCK"
      },
      "source": [
        "df2=df[:]"
      ],
      "execution_count": null,
      "outputs": []
    },
    {
      "cell_type": "code",
      "metadata": {
        "colab": {
          "base_uri": "https://localhost:8080/"
        },
        "id": "LlQatNdXs0tO",
        "outputId": "24fa81a4-a4f0-4c8a-b9bc-3cd1b7c6e30d"
      },
      "source": [
        "df2.info()"
      ],
      "execution_count": null,
      "outputs": [
        {
          "output_type": "stream",
          "name": "stdout",
          "text": [
            "<class 'pandas.core.frame.DataFrame'>\n",
            "RangeIndex: 303 entries, 0 to 302\n",
            "Data columns (total 14 columns):\n",
            " #   Column    Non-Null Count  Dtype  \n",
            "---  ------    --------------  -----  \n",
            " 0   age       303 non-null    int64  \n",
            " 1   sex       303 non-null    int64  \n",
            " 2   cp        303 non-null    int64  \n",
            " 3   trestbps  303 non-null    int64  \n",
            " 4   chol      303 non-null    float64\n",
            " 5   fbs       303 non-null    int64  \n",
            " 6   restecg   303 non-null    int64  \n",
            " 7   thalach   303 non-null    float64\n",
            " 8   exang     303 non-null    int64  \n",
            " 9   oldpeak   303 non-null    float64\n",
            " 10  slope     303 non-null    int64  \n",
            " 11  ca        303 non-null    int64  \n",
            " 12  thal      303 non-null    int64  \n",
            " 13  target    303 non-null    int64  \n",
            "dtypes: float64(3), int64(11)\n",
            "memory usage: 33.3 KB\n"
          ]
        }
      ]
    },
    {
      "cell_type": "code",
      "metadata": {
        "id": "c1YQpy3WtG8p"
      },
      "source": [
        "from sklearn.preprocessing import LabelEncoder\n",
        "LE= LabelEncoder()"
      ],
      "execution_count": null,
      "outputs": []
    },
    {
      "cell_type": "code",
      "metadata": {
        "colab": {
          "base_uri": "https://localhost:8080/",
          "height": 423
        },
        "id": "HHZgMTn7s4Cn",
        "outputId": "ed080d67-0609-4d87-cc24-03963abcdd83"
      },
      "source": [
        "df2['sex']= LE.fit_transform(df2['sex'])\n",
        "df2['cp']= LE.fit_transform(df2['cp'])\n",
        "df2['fbs']= LE.fit_transform(df2['fbs'])\n",
        "df2['restecg']= LE.fit_transform(df2['restecg'])\n",
        "df2['exang']= LE.fit_transform(df2['exang'])\n",
        "df2['slope']= LE.fit_transform(df2['slope'])\n",
        "df2['ca']= LE.fit_transform(df2['ca'])\n",
        "df2['thal']= LE.fit_transform(df2['thal'])\n",
        "df2"
      ],
      "execution_count": null,
      "outputs": [
        {
          "output_type": "execute_result",
          "data": {
            "text/html": [
              "<div>\n",
              "<style scoped>\n",
              "    .dataframe tbody tr th:only-of-type {\n",
              "        vertical-align: middle;\n",
              "    }\n",
              "\n",
              "    .dataframe tbody tr th {\n",
              "        vertical-align: top;\n",
              "    }\n",
              "\n",
              "    .dataframe thead th {\n",
              "        text-align: right;\n",
              "    }\n",
              "</style>\n",
              "<table border=\"1\" class=\"dataframe\">\n",
              "  <thead>\n",
              "    <tr style=\"text-align: right;\">\n",
              "      <th></th>\n",
              "      <th>age</th>\n",
              "      <th>sex</th>\n",
              "      <th>cp</th>\n",
              "      <th>trestbps</th>\n",
              "      <th>chol</th>\n",
              "      <th>fbs</th>\n",
              "      <th>restecg</th>\n",
              "      <th>thalach</th>\n",
              "      <th>exang</th>\n",
              "      <th>oldpeak</th>\n",
              "      <th>slope</th>\n",
              "      <th>ca</th>\n",
              "      <th>thal</th>\n",
              "      <th>target</th>\n",
              "    </tr>\n",
              "  </thead>\n",
              "  <tbody>\n",
              "    <tr>\n",
              "      <th>0</th>\n",
              "      <td>63</td>\n",
              "      <td>1</td>\n",
              "      <td>1</td>\n",
              "      <td>145</td>\n",
              "      <td>233.0</td>\n",
              "      <td>1</td>\n",
              "      <td>0</td>\n",
              "      <td>150.0</td>\n",
              "      <td>0</td>\n",
              "      <td>2.3</td>\n",
              "      <td>0</td>\n",
              "      <td>0</td>\n",
              "      <td>1</td>\n",
              "      <td>1</td>\n",
              "    </tr>\n",
              "    <tr>\n",
              "      <th>1</th>\n",
              "      <td>37</td>\n",
              "      <td>1</td>\n",
              "      <td>1</td>\n",
              "      <td>130</td>\n",
              "      <td>250.0</td>\n",
              "      <td>0</td>\n",
              "      <td>1</td>\n",
              "      <td>187.0</td>\n",
              "      <td>0</td>\n",
              "      <td>3.5</td>\n",
              "      <td>0</td>\n",
              "      <td>0</td>\n",
              "      <td>0</td>\n",
              "      <td>1</td>\n",
              "    </tr>\n",
              "    <tr>\n",
              "      <th>2</th>\n",
              "      <td>41</td>\n",
              "      <td>0</td>\n",
              "      <td>1</td>\n",
              "      <td>130</td>\n",
              "      <td>204.0</td>\n",
              "      <td>0</td>\n",
              "      <td>0</td>\n",
              "      <td>172.0</td>\n",
              "      <td>0</td>\n",
              "      <td>1.4</td>\n",
              "      <td>1</td>\n",
              "      <td>0</td>\n",
              "      <td>0</td>\n",
              "      <td>1</td>\n",
              "    </tr>\n",
              "    <tr>\n",
              "      <th>3</th>\n",
              "      <td>56</td>\n",
              "      <td>1</td>\n",
              "      <td>1</td>\n",
              "      <td>120</td>\n",
              "      <td>236.0</td>\n",
              "      <td>0</td>\n",
              "      <td>1</td>\n",
              "      <td>178.0</td>\n",
              "      <td>0</td>\n",
              "      <td>0.8</td>\n",
              "      <td>1</td>\n",
              "      <td>0</td>\n",
              "      <td>0</td>\n",
              "      <td>1</td>\n",
              "    </tr>\n",
              "    <tr>\n",
              "      <th>4</th>\n",
              "      <td>57</td>\n",
              "      <td>0</td>\n",
              "      <td>0</td>\n",
              "      <td>120</td>\n",
              "      <td>354.0</td>\n",
              "      <td>0</td>\n",
              "      <td>1</td>\n",
              "      <td>163.0</td>\n",
              "      <td>1</td>\n",
              "      <td>0.6</td>\n",
              "      <td>1</td>\n",
              "      <td>0</td>\n",
              "      <td>0</td>\n",
              "      <td>1</td>\n",
              "    </tr>\n",
              "    <tr>\n",
              "      <th>...</th>\n",
              "      <td>...</td>\n",
              "      <td>...</td>\n",
              "      <td>...</td>\n",
              "      <td>...</td>\n",
              "      <td>...</td>\n",
              "      <td>...</td>\n",
              "      <td>...</td>\n",
              "      <td>...</td>\n",
              "      <td>...</td>\n",
              "      <td>...</td>\n",
              "      <td>...</td>\n",
              "      <td>...</td>\n",
              "      <td>...</td>\n",
              "      <td>...</td>\n",
              "    </tr>\n",
              "    <tr>\n",
              "      <th>298</th>\n",
              "      <td>57</td>\n",
              "      <td>0</td>\n",
              "      <td>0</td>\n",
              "      <td>140</td>\n",
              "      <td>241.0</td>\n",
              "      <td>0</td>\n",
              "      <td>1</td>\n",
              "      <td>123.0</td>\n",
              "      <td>1</td>\n",
              "      <td>0.2</td>\n",
              "      <td>0</td>\n",
              "      <td>0</td>\n",
              "      <td>1</td>\n",
              "      <td>0</td>\n",
              "    </tr>\n",
              "    <tr>\n",
              "      <th>299</th>\n",
              "      <td>45</td>\n",
              "      <td>1</td>\n",
              "      <td>1</td>\n",
              "      <td>110</td>\n",
              "      <td>264.0</td>\n",
              "      <td>0</td>\n",
              "      <td>1</td>\n",
              "      <td>132.0</td>\n",
              "      <td>0</td>\n",
              "      <td>1.2</td>\n",
              "      <td>0</td>\n",
              "      <td>0</td>\n",
              "      <td>1</td>\n",
              "      <td>0</td>\n",
              "    </tr>\n",
              "    <tr>\n",
              "      <th>300</th>\n",
              "      <td>68</td>\n",
              "      <td>1</td>\n",
              "      <td>0</td>\n",
              "      <td>144</td>\n",
              "      <td>193.0</td>\n",
              "      <td>1</td>\n",
              "      <td>1</td>\n",
              "      <td>141.0</td>\n",
              "      <td>0</td>\n",
              "      <td>3.4</td>\n",
              "      <td>0</td>\n",
              "      <td>1</td>\n",
              "      <td>1</td>\n",
              "      <td>0</td>\n",
              "    </tr>\n",
              "    <tr>\n",
              "      <th>301</th>\n",
              "      <td>57</td>\n",
              "      <td>1</td>\n",
              "      <td>0</td>\n",
              "      <td>130</td>\n",
              "      <td>131.0</td>\n",
              "      <td>0</td>\n",
              "      <td>1</td>\n",
              "      <td>115.0</td>\n",
              "      <td>1</td>\n",
              "      <td>1.2</td>\n",
              "      <td>0</td>\n",
              "      <td>1</td>\n",
              "      <td>1</td>\n",
              "      <td>0</td>\n",
              "    </tr>\n",
              "    <tr>\n",
              "      <th>302</th>\n",
              "      <td>57</td>\n",
              "      <td>0</td>\n",
              "      <td>1</td>\n",
              "      <td>130</td>\n",
              "      <td>236.0</td>\n",
              "      <td>0</td>\n",
              "      <td>0</td>\n",
              "      <td>174.0</td>\n",
              "      <td>0</td>\n",
              "      <td>0.0</td>\n",
              "      <td>0</td>\n",
              "      <td>1</td>\n",
              "      <td>0</td>\n",
              "      <td>0</td>\n",
              "    </tr>\n",
              "  </tbody>\n",
              "</table>\n",
              "<p>303 rows × 14 columns</p>\n",
              "</div>"
            ],
            "text/plain": [
              "     age  sex  cp  trestbps   chol  ...  oldpeak  slope  ca  thal  target\n",
              "0     63    1   1       145  233.0  ...      2.3      0   0     1       1\n",
              "1     37    1   1       130  250.0  ...      3.5      0   0     0       1\n",
              "2     41    0   1       130  204.0  ...      1.4      1   0     0       1\n",
              "3     56    1   1       120  236.0  ...      0.8      1   0     0       1\n",
              "4     57    0   0       120  354.0  ...      0.6      1   0     0       1\n",
              "..   ...  ...  ..       ...    ...  ...      ...    ...  ..   ...     ...\n",
              "298   57    0   0       140  241.0  ...      0.2      0   0     1       0\n",
              "299   45    1   1       110  264.0  ...      1.2      0   0     1       0\n",
              "300   68    1   0       144  193.0  ...      3.4      0   1     1       0\n",
              "301   57    1   0       130  131.0  ...      1.2      0   1     1       0\n",
              "302   57    0   1       130  236.0  ...      0.0      0   1     0       0\n",
              "\n",
              "[303 rows x 14 columns]"
            ]
          },
          "metadata": {},
          "execution_count": 285
        }
      ]
    },
    {
      "cell_type": "code",
      "metadata": {
        "id": "BclDcPaXtJzL"
      },
      "source": [
        "X = df2.loc[:, df2.columns != 'target']\n",
        "y = df2.loc[:, df2.columns == 'target']"
      ],
      "execution_count": null,
      "outputs": []
    },
    {
      "cell_type": "code",
      "metadata": {
        "colab": {
          "base_uri": "https://localhost:8080/"
        },
        "id": "J8pVB-fqtOC3",
        "outputId": "c55b434f-ecd2-422f-8103-a4d0655d93fb"
      },
      "source": [
        "X.info()"
      ],
      "execution_count": null,
      "outputs": [
        {
          "output_type": "stream",
          "name": "stdout",
          "text": [
            "<class 'pandas.core.frame.DataFrame'>\n",
            "RangeIndex: 303 entries, 0 to 302\n",
            "Data columns (total 13 columns):\n",
            " #   Column    Non-Null Count  Dtype  \n",
            "---  ------    --------------  -----  \n",
            " 0   age       303 non-null    int64  \n",
            " 1   sex       303 non-null    int64  \n",
            " 2   cp        303 non-null    int64  \n",
            " 3   trestbps  303 non-null    int64  \n",
            " 4   chol      303 non-null    float64\n",
            " 5   fbs       303 non-null    int64  \n",
            " 6   restecg   303 non-null    int64  \n",
            " 7   thalach   303 non-null    float64\n",
            " 8   exang     303 non-null    int64  \n",
            " 9   oldpeak   303 non-null    float64\n",
            " 10  slope     303 non-null    int64  \n",
            " 11  ca        303 non-null    int64  \n",
            " 12  thal      303 non-null    int64  \n",
            "dtypes: float64(3), int64(10)\n",
            "memory usage: 30.9 KB\n"
          ]
        }
      ]
    },
    {
      "cell_type": "code",
      "metadata": {
        "colab": {
          "base_uri": "https://localhost:8080/",
          "height": 423
        },
        "id": "3-s5uVGHtQOa",
        "outputId": "5caab662-8ee0-46d0-c6ce-7cc384f8ca04"
      },
      "source": [
        "y"
      ],
      "execution_count": null,
      "outputs": [
        {
          "output_type": "execute_result",
          "data": {
            "text/html": [
              "<div>\n",
              "<style scoped>\n",
              "    .dataframe tbody tr th:only-of-type {\n",
              "        vertical-align: middle;\n",
              "    }\n",
              "\n",
              "    .dataframe tbody tr th {\n",
              "        vertical-align: top;\n",
              "    }\n",
              "\n",
              "    .dataframe thead th {\n",
              "        text-align: right;\n",
              "    }\n",
              "</style>\n",
              "<table border=\"1\" class=\"dataframe\">\n",
              "  <thead>\n",
              "    <tr style=\"text-align: right;\">\n",
              "      <th></th>\n",
              "      <th>target</th>\n",
              "    </tr>\n",
              "  </thead>\n",
              "  <tbody>\n",
              "    <tr>\n",
              "      <th>0</th>\n",
              "      <td>1</td>\n",
              "    </tr>\n",
              "    <tr>\n",
              "      <th>1</th>\n",
              "      <td>1</td>\n",
              "    </tr>\n",
              "    <tr>\n",
              "      <th>2</th>\n",
              "      <td>1</td>\n",
              "    </tr>\n",
              "    <tr>\n",
              "      <th>3</th>\n",
              "      <td>1</td>\n",
              "    </tr>\n",
              "    <tr>\n",
              "      <th>4</th>\n",
              "      <td>1</td>\n",
              "    </tr>\n",
              "    <tr>\n",
              "      <th>...</th>\n",
              "      <td>...</td>\n",
              "    </tr>\n",
              "    <tr>\n",
              "      <th>298</th>\n",
              "      <td>0</td>\n",
              "    </tr>\n",
              "    <tr>\n",
              "      <th>299</th>\n",
              "      <td>0</td>\n",
              "    </tr>\n",
              "    <tr>\n",
              "      <th>300</th>\n",
              "      <td>0</td>\n",
              "    </tr>\n",
              "    <tr>\n",
              "      <th>301</th>\n",
              "      <td>0</td>\n",
              "    </tr>\n",
              "    <tr>\n",
              "      <th>302</th>\n",
              "      <td>0</td>\n",
              "    </tr>\n",
              "  </tbody>\n",
              "</table>\n",
              "<p>303 rows × 1 columns</p>\n",
              "</div>"
            ],
            "text/plain": [
              "     target\n",
              "0         1\n",
              "1         1\n",
              "2         1\n",
              "3         1\n",
              "4         1\n",
              "..      ...\n",
              "298       0\n",
              "299       0\n",
              "300       0\n",
              "301       0\n",
              "302       0\n",
              "\n",
              "[303 rows x 1 columns]"
            ]
          },
          "metadata": {},
          "execution_count": 288
        }
      ]
    },
    {
      "cell_type": "code",
      "metadata": {
        "id": "_I8NtBpVtSJb"
      },
      "source": [
        "'''Fit Tree'''\n",
        "#train test - split \n",
        "\n",
        "from sklearn.model_selection import train_test_split"
      ],
      "execution_count": null,
      "outputs": []
    },
    {
      "cell_type": "code",
      "metadata": {
        "id": "3uvIL3FBtU0d"
      },
      "source": [
        "X_train, X_test, y_train, y_test = train_test_split(X, y, test_size=0.3, random_state=0)"
      ],
      "execution_count": null,
      "outputs": []
    },
    {
      "cell_type": "code",
      "metadata": {
        "id": "2K-R5ZuFtXIV"
      },
      "source": [
        "GB = GradientBoostingClassifier()"
      ],
      "execution_count": null,
      "outputs": []
    },
    {
      "cell_type": "code",
      "metadata": {
        "colab": {
          "base_uri": "https://localhost:8080/"
        },
        "id": "Oz-i4cuitZpq",
        "outputId": "a2afbf77-1378-49ba-a20c-ac09d0958da9"
      },
      "source": [
        "GB_mod = GB.fit(X_train, y_train)"
      ],
      "execution_count": null,
      "outputs": [
        {
          "output_type": "stream",
          "name": "stderr",
          "text": [
            "/usr/local/lib/python3.7/dist-packages/sklearn/ensemble/_gb.py:494: DataConversionWarning: A column-vector y was passed when a 1d array was expected. Please change the shape of y to (n_samples, ), for example using ravel().\n",
            "  y = column_or_1d(y, warn=True)\n"
          ]
        }
      ]
    },
    {
      "cell_type": "code",
      "metadata": {
        "colab": {
          "base_uri": "https://localhost:8080/"
        },
        "id": "RDNEHzpdtcAt",
        "outputId": "14482344-64e4-497b-83aa-551f37a2f67d"
      },
      "source": [
        "# Prediction\n",
        "y_train_GB = GB_mod.predict(X_train)\n",
        "y_train_GB"
      ],
      "execution_count": null,
      "outputs": [
        {
          "output_type": "execute_result",
          "data": {
            "text/plain": [
              "array([1, 1, 0, 1, 1, 0, 0, 1, 0, 0, 1, 0, 1, 0, 0, 0, 1, 1, 1, 0, 0, 0,\n",
              "       0, 1, 0, 1, 1, 1, 0, 1, 1, 1, 0, 1, 1, 1, 1, 1, 1, 1, 0, 0, 1, 1,\n",
              "       0, 1, 1, 0, 0, 0, 0, 1, 0, 1, 1, 0, 1, 1, 1, 1, 1, 1, 0, 0, 1, 0,\n",
              "       0, 0, 1, 1, 1, 0, 1, 0, 1, 1, 0, 1, 1, 1, 1, 1, 0, 0, 1, 0, 1, 0,\n",
              "       0, 1, 0, 0, 1, 1, 1, 0, 0, 1, 1, 0, 1, 0, 1, 0, 1, 1, 0, 1, 1, 1,\n",
              "       0, 1, 0, 0, 0, 1, 1, 1, 1, 0, 1, 0, 1, 0, 1, 1, 1, 0, 1, 0, 1, 0,\n",
              "       0, 0, 1, 1, 0, 1, 0, 1, 1, 0, 0, 1, 0, 1, 1, 0, 1, 1, 1, 1, 1, 0,\n",
              "       0, 1, 1, 1, 0, 0, 1, 1, 1, 1, 1, 0, 1, 1, 0, 1, 1, 0, 1, 1, 0, 0,\n",
              "       1, 1, 1, 0, 0, 0, 1, 0, 0, 1, 0, 0, 1, 0, 1, 1, 0, 0, 0, 0, 1, 0,\n",
              "       1, 1, 1, 0, 0, 0, 0, 1, 0, 0, 0, 1, 1, 0])"
            ]
          },
          "metadata": {},
          "execution_count": 293
        }
      ]
    },
    {
      "cell_type": "code",
      "metadata": {
        "colab": {
          "base_uri": "https://localhost:8080/"
        },
        "id": "AqN77M69tfHG",
        "outputId": "8c5b351d-7a0b-4e9b-ed41-3082aadbf4b4"
      },
      "source": [
        "# Prediction\n",
        "y_test_GB = GB_mod.predict(X_test)\n",
        "y_test_GB"
      ],
      "execution_count": null,
      "outputs": [
        {
          "output_type": "execute_result",
          "data": {
            "text/plain": [
              "array([0, 1, 1, 0, 0, 0, 0, 0, 0, 0, 0, 1, 0, 1, 1, 1, 0, 1, 0, 1, 1, 0,\n",
              "       0, 0, 1, 0, 0, 0, 1, 1, 1, 0, 1, 1, 1, 1, 0, 1, 0, 0, 1, 1, 1, 0,\n",
              "       0, 1, 1, 0, 0, 1, 1, 1, 1, 0, 1, 0, 1, 1, 1, 1, 1, 1, 1, 1, 1, 1,\n",
              "       1, 0, 1, 1, 1, 1, 1, 0, 0, 1, 0, 0, 1, 0, 0, 0, 0, 1, 0, 1, 0, 1,\n",
              "       1, 1, 1])"
            ]
          },
          "metadata": {},
          "execution_count": 294
        }
      ]
    },
    {
      "cell_type": "code",
      "metadata": {
        "colab": {
          "base_uri": "https://localhost:8080/"
        },
        "id": "8k18ar1dto0C",
        "outputId": "0bb00599-b482-4d78-d553-14f86ad2c138"
      },
      "source": [
        "print(round(accuracy_score(y_train, y_train_GB), 2))"
      ],
      "execution_count": null,
      "outputs": [
        {
          "output_type": "stream",
          "name": "stdout",
          "text": [
            "1.0\n"
          ]
        }
      ]
    },
    {
      "cell_type": "code",
      "metadata": {
        "colab": {
          "base_uri": "https://localhost:8080/"
        },
        "id": "hfXwHz3RtsEK",
        "outputId": "4e49abf9-e44c-4d16-85ec-c6667cd9f963"
      },
      "source": [
        "print(round(accuracy_score(y_test, y_test_GB), 2))"
      ],
      "execution_count": null,
      "outputs": [
        {
          "output_type": "stream",
          "name": "stdout",
          "text": [
            "0.81\n"
          ]
        }
      ]
    },
    {
      "cell_type": "code",
      "metadata": {
        "id": "YWKtMO7ntxdn"
      },
      "source": [
        "### Confusion Matrix\n",
        "from sklearn.metrics import confusion_matrix"
      ],
      "execution_count": null,
      "outputs": []
    },
    {
      "cell_type": "code",
      "metadata": {
        "colab": {
          "base_uri": "https://localhost:8080/"
        },
        "id": "cwqyK-S3u5qC",
        "outputId": "ae88b18e-2913-44d5-d523-244dbff61cb3"
      },
      "source": [
        "confusion_matrix = confusion_matrix(y_test, y_test_GB)\n",
        "print(confusion_matrix)"
      ],
      "execution_count": null,
      "outputs": [
        {
          "output_type": "stream",
          "name": "stdout",
          "text": [
            "[[33 11]\n",
            " [ 6 41]]\n"
          ]
        }
      ]
    },
    {
      "cell_type": "code",
      "metadata": {
        "id": "sEfslWy1u8KU"
      },
      "source": [
        "### Classification Report\n",
        "from sklearn.metrics import classification_report"
      ],
      "execution_count": null,
      "outputs": []
    },
    {
      "cell_type": "code",
      "metadata": {
        "colab": {
          "base_uri": "https://localhost:8080/"
        },
        "id": "vaCQROGCvGOS",
        "outputId": "c67ddb9e-ba7e-4eb1-9b90-d65bbf389521"
      },
      "source": [
        "print(classification_report(y_test, y_test_GB))"
      ],
      "execution_count": null,
      "outputs": [
        {
          "output_type": "stream",
          "name": "stdout",
          "text": [
            "              precision    recall  f1-score   support\n",
            "\n",
            "           0       0.85      0.75      0.80        44\n",
            "           1       0.79      0.87      0.83        47\n",
            "\n",
            "    accuracy                           0.81        91\n",
            "   macro avg       0.82      0.81      0.81        91\n",
            "weighted avg       0.82      0.81      0.81        91\n",
            "\n"
          ]
        }
      ]
    },
    {
      "cell_type": "markdown",
      "metadata": {
        "id": "KLumy4zFyplV"
      },
      "source": [
        "**# Knowing your Nearest Neighbours(KNN)**"
      ]
    },
    {
      "cell_type": "code",
      "metadata": {
        "colab": {
          "base_uri": "https://localhost:8080/"
        },
        "id": "H3g1Yay7vJGM",
        "outputId": "c90084cd-ddc4-4c5d-99fc-cc4d287d86e9"
      },
      "source": [
        "df.info()"
      ],
      "execution_count": null,
      "outputs": [
        {
          "output_type": "stream",
          "name": "stdout",
          "text": [
            "<class 'pandas.core.frame.DataFrame'>\n",
            "RangeIndex: 303 entries, 0 to 302\n",
            "Data columns (total 14 columns):\n",
            " #   Column    Non-Null Count  Dtype  \n",
            "---  ------    --------------  -----  \n",
            " 0   age       303 non-null    int64  \n",
            " 1   sex       303 non-null    int64  \n",
            " 2   cp        303 non-null    int64  \n",
            " 3   trestbps  303 non-null    int64  \n",
            " 4   chol      303 non-null    float64\n",
            " 5   fbs       303 non-null    int64  \n",
            " 6   restecg   303 non-null    int64  \n",
            " 7   thalach   303 non-null    float64\n",
            " 8   exang     303 non-null    int64  \n",
            " 9   oldpeak   303 non-null    float64\n",
            " 10  slope     303 non-null    int64  \n",
            " 11  ca        303 non-null    int64  \n",
            " 12  thal      303 non-null    int64  \n",
            " 13  target    303 non-null    int64  \n",
            "dtypes: float64(3), int64(11)\n",
            "memory usage: 33.3 KB\n"
          ]
        }
      ]
    },
    {
      "cell_type": "code",
      "metadata": {
        "id": "GxHvvxTG5WKR"
      },
      "source": [
        "df2=df[:]"
      ],
      "execution_count": null,
      "outputs": []
    },
    {
      "cell_type": "code",
      "metadata": {
        "colab": {
          "base_uri": "https://localhost:8080/"
        },
        "id": "JtoRLSau6khx",
        "outputId": "8f56766d-28d3-4fbd-e69b-e6388901361e"
      },
      "source": [
        "df2.info()"
      ],
      "execution_count": null,
      "outputs": [
        {
          "output_type": "stream",
          "name": "stdout",
          "text": [
            "<class 'pandas.core.frame.DataFrame'>\n",
            "RangeIndex: 303 entries, 0 to 302\n",
            "Data columns (total 14 columns):\n",
            " #   Column    Non-Null Count  Dtype  \n",
            "---  ------    --------------  -----  \n",
            " 0   age       303 non-null    int64  \n",
            " 1   sex       303 non-null    int64  \n",
            " 2   cp        303 non-null    int64  \n",
            " 3   trestbps  303 non-null    int64  \n",
            " 4   chol      303 non-null    float64\n",
            " 5   fbs       303 non-null    int64  \n",
            " 6   restecg   303 non-null    int64  \n",
            " 7   thalach   303 non-null    float64\n",
            " 8   exang     303 non-null    int64  \n",
            " 9   oldpeak   303 non-null    float64\n",
            " 10  slope     303 non-null    int64  \n",
            " 11  ca        303 non-null    int64  \n",
            " 12  thal      303 non-null    int64  \n",
            " 13  target    303 non-null    int64  \n",
            "dtypes: float64(3), int64(11)\n",
            "memory usage: 33.3 KB\n"
          ]
        }
      ]
    },
    {
      "cell_type": "code",
      "metadata": {
        "id": "gDb27RJY6mFj"
      },
      "source": [
        "from sklearn.preprocessing import LabelEncoder\n",
        "LE= LabelEncoder()"
      ],
      "execution_count": null,
      "outputs": []
    },
    {
      "cell_type": "code",
      "metadata": {
        "colab": {
          "base_uri": "https://localhost:8080/",
          "height": 423
        },
        "id": "e7ai89E36qQO",
        "outputId": "a4fead96-276c-4f31-b810-7aa61c441596"
      },
      "source": [
        "df2['sex']= LE.fit_transform(df2['sex'])\n",
        "df2['cp']= LE.fit_transform(df2['cp'])\n",
        "df2['fbs']= LE.fit_transform(df2['fbs'])\n",
        "df2['restecg']= LE.fit_transform(df2['restecg'])\n",
        "df2['exang']= LE.fit_transform(df2['exang'])\n",
        "df2['slope']= LE.fit_transform(df2['slope'])\n",
        "df2['ca']= LE.fit_transform(df2['ca'])\n",
        "df2['thal']= LE.fit_transform(df2['thal'])\n",
        "df2"
      ],
      "execution_count": null,
      "outputs": [
        {
          "output_type": "execute_result",
          "data": {
            "text/html": [
              "<div>\n",
              "<style scoped>\n",
              "    .dataframe tbody tr th:only-of-type {\n",
              "        vertical-align: middle;\n",
              "    }\n",
              "\n",
              "    .dataframe tbody tr th {\n",
              "        vertical-align: top;\n",
              "    }\n",
              "\n",
              "    .dataframe thead th {\n",
              "        text-align: right;\n",
              "    }\n",
              "</style>\n",
              "<table border=\"1\" class=\"dataframe\">\n",
              "  <thead>\n",
              "    <tr style=\"text-align: right;\">\n",
              "      <th></th>\n",
              "      <th>age</th>\n",
              "      <th>sex</th>\n",
              "      <th>cp</th>\n",
              "      <th>trestbps</th>\n",
              "      <th>chol</th>\n",
              "      <th>fbs</th>\n",
              "      <th>restecg</th>\n",
              "      <th>thalach</th>\n",
              "      <th>exang</th>\n",
              "      <th>oldpeak</th>\n",
              "      <th>slope</th>\n",
              "      <th>ca</th>\n",
              "      <th>thal</th>\n",
              "      <th>target</th>\n",
              "    </tr>\n",
              "  </thead>\n",
              "  <tbody>\n",
              "    <tr>\n",
              "      <th>0</th>\n",
              "      <td>63</td>\n",
              "      <td>1</td>\n",
              "      <td>1</td>\n",
              "      <td>145</td>\n",
              "      <td>233.0</td>\n",
              "      <td>1</td>\n",
              "      <td>0</td>\n",
              "      <td>150.0</td>\n",
              "      <td>0</td>\n",
              "      <td>2.3</td>\n",
              "      <td>0</td>\n",
              "      <td>0</td>\n",
              "      <td>1</td>\n",
              "      <td>1</td>\n",
              "    </tr>\n",
              "    <tr>\n",
              "      <th>1</th>\n",
              "      <td>37</td>\n",
              "      <td>1</td>\n",
              "      <td>1</td>\n",
              "      <td>130</td>\n",
              "      <td>250.0</td>\n",
              "      <td>0</td>\n",
              "      <td>1</td>\n",
              "      <td>187.0</td>\n",
              "      <td>0</td>\n",
              "      <td>3.5</td>\n",
              "      <td>0</td>\n",
              "      <td>0</td>\n",
              "      <td>0</td>\n",
              "      <td>1</td>\n",
              "    </tr>\n",
              "    <tr>\n",
              "      <th>2</th>\n",
              "      <td>41</td>\n",
              "      <td>0</td>\n",
              "      <td>1</td>\n",
              "      <td>130</td>\n",
              "      <td>204.0</td>\n",
              "      <td>0</td>\n",
              "      <td>0</td>\n",
              "      <td>172.0</td>\n",
              "      <td>0</td>\n",
              "      <td>1.4</td>\n",
              "      <td>1</td>\n",
              "      <td>0</td>\n",
              "      <td>0</td>\n",
              "      <td>1</td>\n",
              "    </tr>\n",
              "    <tr>\n",
              "      <th>3</th>\n",
              "      <td>56</td>\n",
              "      <td>1</td>\n",
              "      <td>1</td>\n",
              "      <td>120</td>\n",
              "      <td>236.0</td>\n",
              "      <td>0</td>\n",
              "      <td>1</td>\n",
              "      <td>178.0</td>\n",
              "      <td>0</td>\n",
              "      <td>0.8</td>\n",
              "      <td>1</td>\n",
              "      <td>0</td>\n",
              "      <td>0</td>\n",
              "      <td>1</td>\n",
              "    </tr>\n",
              "    <tr>\n",
              "      <th>4</th>\n",
              "      <td>57</td>\n",
              "      <td>0</td>\n",
              "      <td>0</td>\n",
              "      <td>120</td>\n",
              "      <td>354.0</td>\n",
              "      <td>0</td>\n",
              "      <td>1</td>\n",
              "      <td>163.0</td>\n",
              "      <td>1</td>\n",
              "      <td>0.6</td>\n",
              "      <td>1</td>\n",
              "      <td>0</td>\n",
              "      <td>0</td>\n",
              "      <td>1</td>\n",
              "    </tr>\n",
              "    <tr>\n",
              "      <th>...</th>\n",
              "      <td>...</td>\n",
              "      <td>...</td>\n",
              "      <td>...</td>\n",
              "      <td>...</td>\n",
              "      <td>...</td>\n",
              "      <td>...</td>\n",
              "      <td>...</td>\n",
              "      <td>...</td>\n",
              "      <td>...</td>\n",
              "      <td>...</td>\n",
              "      <td>...</td>\n",
              "      <td>...</td>\n",
              "      <td>...</td>\n",
              "      <td>...</td>\n",
              "    </tr>\n",
              "    <tr>\n",
              "      <th>298</th>\n",
              "      <td>57</td>\n",
              "      <td>0</td>\n",
              "      <td>0</td>\n",
              "      <td>140</td>\n",
              "      <td>241.0</td>\n",
              "      <td>0</td>\n",
              "      <td>1</td>\n",
              "      <td>123.0</td>\n",
              "      <td>1</td>\n",
              "      <td>0.2</td>\n",
              "      <td>0</td>\n",
              "      <td>0</td>\n",
              "      <td>1</td>\n",
              "      <td>0</td>\n",
              "    </tr>\n",
              "    <tr>\n",
              "      <th>299</th>\n",
              "      <td>45</td>\n",
              "      <td>1</td>\n",
              "      <td>1</td>\n",
              "      <td>110</td>\n",
              "      <td>264.0</td>\n",
              "      <td>0</td>\n",
              "      <td>1</td>\n",
              "      <td>132.0</td>\n",
              "      <td>0</td>\n",
              "      <td>1.2</td>\n",
              "      <td>0</td>\n",
              "      <td>0</td>\n",
              "      <td>1</td>\n",
              "      <td>0</td>\n",
              "    </tr>\n",
              "    <tr>\n",
              "      <th>300</th>\n",
              "      <td>68</td>\n",
              "      <td>1</td>\n",
              "      <td>0</td>\n",
              "      <td>144</td>\n",
              "      <td>193.0</td>\n",
              "      <td>1</td>\n",
              "      <td>1</td>\n",
              "      <td>141.0</td>\n",
              "      <td>0</td>\n",
              "      <td>3.4</td>\n",
              "      <td>0</td>\n",
              "      <td>1</td>\n",
              "      <td>1</td>\n",
              "      <td>0</td>\n",
              "    </tr>\n",
              "    <tr>\n",
              "      <th>301</th>\n",
              "      <td>57</td>\n",
              "      <td>1</td>\n",
              "      <td>0</td>\n",
              "      <td>130</td>\n",
              "      <td>131.0</td>\n",
              "      <td>0</td>\n",
              "      <td>1</td>\n",
              "      <td>115.0</td>\n",
              "      <td>1</td>\n",
              "      <td>1.2</td>\n",
              "      <td>0</td>\n",
              "      <td>1</td>\n",
              "      <td>1</td>\n",
              "      <td>0</td>\n",
              "    </tr>\n",
              "    <tr>\n",
              "      <th>302</th>\n",
              "      <td>57</td>\n",
              "      <td>0</td>\n",
              "      <td>1</td>\n",
              "      <td>130</td>\n",
              "      <td>236.0</td>\n",
              "      <td>0</td>\n",
              "      <td>0</td>\n",
              "      <td>174.0</td>\n",
              "      <td>0</td>\n",
              "      <td>0.0</td>\n",
              "      <td>0</td>\n",
              "      <td>1</td>\n",
              "      <td>0</td>\n",
              "      <td>0</td>\n",
              "    </tr>\n",
              "  </tbody>\n",
              "</table>\n",
              "<p>303 rows × 14 columns</p>\n",
              "</div>"
            ],
            "text/plain": [
              "     age  sex  cp  trestbps   chol  ...  oldpeak  slope  ca  thal  target\n",
              "0     63    1   1       145  233.0  ...      2.3      0   0     1       1\n",
              "1     37    1   1       130  250.0  ...      3.5      0   0     0       1\n",
              "2     41    0   1       130  204.0  ...      1.4      1   0     0       1\n",
              "3     56    1   1       120  236.0  ...      0.8      1   0     0       1\n",
              "4     57    0   0       120  354.0  ...      0.6      1   0     0       1\n",
              "..   ...  ...  ..       ...    ...  ...      ...    ...  ..   ...     ...\n",
              "298   57    0   0       140  241.0  ...      0.2      0   0     1       0\n",
              "299   45    1   1       110  264.0  ...      1.2      0   0     1       0\n",
              "300   68    1   0       144  193.0  ...      3.4      0   1     1       0\n",
              "301   57    1   0       130  131.0  ...      1.2      0   1     1       0\n",
              "302   57    0   1       130  236.0  ...      0.0      0   1     0       0\n",
              "\n",
              "[303 rows x 14 columns]"
            ]
          },
          "metadata": {},
          "execution_count": 305
        }
      ]
    },
    {
      "cell_type": "code",
      "metadata": {
        "colab": {
          "base_uri": "https://localhost:8080/"
        },
        "id": "FfeegYDC6u0C",
        "outputId": "380b7f41-6e44-4431-f994-2f4eb9f2e4c8"
      },
      "source": [
        "df2.info()"
      ],
      "execution_count": null,
      "outputs": [
        {
          "output_type": "stream",
          "name": "stdout",
          "text": [
            "<class 'pandas.core.frame.DataFrame'>\n",
            "RangeIndex: 303 entries, 0 to 302\n",
            "Data columns (total 14 columns):\n",
            " #   Column    Non-Null Count  Dtype  \n",
            "---  ------    --------------  -----  \n",
            " 0   age       303 non-null    int64  \n",
            " 1   sex       303 non-null    int64  \n",
            " 2   cp        303 non-null    int64  \n",
            " 3   trestbps  303 non-null    int64  \n",
            " 4   chol      303 non-null    float64\n",
            " 5   fbs       303 non-null    int64  \n",
            " 6   restecg   303 non-null    int64  \n",
            " 7   thalach   303 non-null    float64\n",
            " 8   exang     303 non-null    int64  \n",
            " 9   oldpeak   303 non-null    float64\n",
            " 10  slope     303 non-null    int64  \n",
            " 11  ca        303 non-null    int64  \n",
            " 12  thal      303 non-null    int64  \n",
            " 13  target    303 non-null    int64  \n",
            "dtypes: float64(3), int64(11)\n",
            "memory usage: 33.3 KB\n"
          ]
        }
      ]
    },
    {
      "cell_type": "code",
      "metadata": {
        "id": "yJaPKFvt6xGy"
      },
      "source": [
        "X = df2.loc[:, df2.columns != 'target']\n",
        "y = df2.loc[:, df2.columns == 'target']"
      ],
      "execution_count": null,
      "outputs": []
    },
    {
      "cell_type": "code",
      "metadata": {
        "colab": {
          "base_uri": "https://localhost:8080/"
        },
        "id": "K662fhvb7A2m",
        "outputId": "3fdd14cc-577a-4559-b998-c8b4c5cd3dba"
      },
      "source": [
        "X.info()"
      ],
      "execution_count": null,
      "outputs": [
        {
          "output_type": "stream",
          "name": "stdout",
          "text": [
            "<class 'pandas.core.frame.DataFrame'>\n",
            "RangeIndex: 303 entries, 0 to 302\n",
            "Data columns (total 13 columns):\n",
            " #   Column    Non-Null Count  Dtype  \n",
            "---  ------    --------------  -----  \n",
            " 0   age       303 non-null    int64  \n",
            " 1   sex       303 non-null    int64  \n",
            " 2   cp        303 non-null    int64  \n",
            " 3   trestbps  303 non-null    int64  \n",
            " 4   chol      303 non-null    float64\n",
            " 5   fbs       303 non-null    int64  \n",
            " 6   restecg   303 non-null    int64  \n",
            " 7   thalach   303 non-null    float64\n",
            " 8   exang     303 non-null    int64  \n",
            " 9   oldpeak   303 non-null    float64\n",
            " 10  slope     303 non-null    int64  \n",
            " 11  ca        303 non-null    int64  \n",
            " 12  thal      303 non-null    int64  \n",
            "dtypes: float64(3), int64(10)\n",
            "memory usage: 30.9 KB\n"
          ]
        }
      ]
    },
    {
      "cell_type": "code",
      "metadata": {
        "colab": {
          "base_uri": "https://localhost:8080/",
          "height": 423
        },
        "id": "lYMXh4j87GRg",
        "outputId": "9a33a789-4392-4865-91ae-d731191a4a8a"
      },
      "source": [
        "y"
      ],
      "execution_count": null,
      "outputs": [
        {
          "output_type": "execute_result",
          "data": {
            "text/html": [
              "<div>\n",
              "<style scoped>\n",
              "    .dataframe tbody tr th:only-of-type {\n",
              "        vertical-align: middle;\n",
              "    }\n",
              "\n",
              "    .dataframe tbody tr th {\n",
              "        vertical-align: top;\n",
              "    }\n",
              "\n",
              "    .dataframe thead th {\n",
              "        text-align: right;\n",
              "    }\n",
              "</style>\n",
              "<table border=\"1\" class=\"dataframe\">\n",
              "  <thead>\n",
              "    <tr style=\"text-align: right;\">\n",
              "      <th></th>\n",
              "      <th>target</th>\n",
              "    </tr>\n",
              "  </thead>\n",
              "  <tbody>\n",
              "    <tr>\n",
              "      <th>0</th>\n",
              "      <td>1</td>\n",
              "    </tr>\n",
              "    <tr>\n",
              "      <th>1</th>\n",
              "      <td>1</td>\n",
              "    </tr>\n",
              "    <tr>\n",
              "      <th>2</th>\n",
              "      <td>1</td>\n",
              "    </tr>\n",
              "    <tr>\n",
              "      <th>3</th>\n",
              "      <td>1</td>\n",
              "    </tr>\n",
              "    <tr>\n",
              "      <th>4</th>\n",
              "      <td>1</td>\n",
              "    </tr>\n",
              "    <tr>\n",
              "      <th>...</th>\n",
              "      <td>...</td>\n",
              "    </tr>\n",
              "    <tr>\n",
              "      <th>298</th>\n",
              "      <td>0</td>\n",
              "    </tr>\n",
              "    <tr>\n",
              "      <th>299</th>\n",
              "      <td>0</td>\n",
              "    </tr>\n",
              "    <tr>\n",
              "      <th>300</th>\n",
              "      <td>0</td>\n",
              "    </tr>\n",
              "    <tr>\n",
              "      <th>301</th>\n",
              "      <td>0</td>\n",
              "    </tr>\n",
              "    <tr>\n",
              "      <th>302</th>\n",
              "      <td>0</td>\n",
              "    </tr>\n",
              "  </tbody>\n",
              "</table>\n",
              "<p>303 rows × 1 columns</p>\n",
              "</div>"
            ],
            "text/plain": [
              "     target\n",
              "0         1\n",
              "1         1\n",
              "2         1\n",
              "3         1\n",
              "4         1\n",
              "..      ...\n",
              "298       0\n",
              "299       0\n",
              "300       0\n",
              "301       0\n",
              "302       0\n",
              "\n",
              "[303 rows x 1 columns]"
            ]
          },
          "metadata": {},
          "execution_count": 309
        }
      ]
    },
    {
      "cell_type": "code",
      "metadata": {
        "id": "hJcrVVDr7HQN"
      },
      "source": [
        "from sklearn.linear_model import LogisticRegression\n",
        "from sklearn.model_selection import train_test_split"
      ],
      "execution_count": null,
      "outputs": []
    },
    {
      "cell_type": "code",
      "metadata": {
        "id": "soQsyqwV7KH3"
      },
      "source": [
        "X_train, X_test, y_train, y_test = train_test_split(X, y, test_size=0.3, random_state=0)"
      ],
      "execution_count": null,
      "outputs": []
    },
    {
      "cell_type": "code",
      "metadata": {
        "id": "ZoQqLuIo7Mrr"
      },
      "source": [
        "from sklearn.neighbors import KNeighborsClassifier"
      ],
      "execution_count": null,
      "outputs": []
    },
    {
      "cell_type": "code",
      "metadata": {
        "colab": {
          "base_uri": "https://localhost:8080/"
        },
        "id": "WtQNMvOz7SAH",
        "outputId": "71693c2a-90cd-4c5e-ed94-4e7952ea9173"
      },
      "source": [
        "#Building Model @ n_neighbors = 9\n",
        "\n",
        "knn = KNeighborsClassifier(n_neighbors = 9)\n",
        "print(knn) \n",
        "mpm_knn = knn.fit(X_train, y_train) \n",
        "print(mpm_knn)"
      ],
      "execution_count": null,
      "outputs": [
        {
          "output_type": "stream",
          "name": "stdout",
          "text": [
            "KNeighborsClassifier(n_neighbors=9)\n",
            "KNeighborsClassifier(n_neighbors=9)\n"
          ]
        },
        {
          "output_type": "stream",
          "name": "stderr",
          "text": [
            "/usr/local/lib/python3.7/dist-packages/sklearn/neighbors/_classification.py:198: DataConversionWarning: A column-vector y was passed when a 1d array was expected. Please change the shape of y to (n_samples,), for example using ravel().\n",
            "  return self._fit(X, y)\n"
          ]
        }
      ]
    },
    {
      "cell_type": "code",
      "metadata": {
        "colab": {
          "base_uri": "https://localhost:8080/"
        },
        "id": "vf5NyFAm7XBr",
        "outputId": "d47096a2-b120-4663-a89a-4ffa89d60259"
      },
      "source": [
        "#Applying on Test data for prediction\n",
        "y_pred_KNN = mpm_knn.predict(X_test)\n",
        "print(y_pred_KNN)"
      ],
      "execution_count": null,
      "outputs": [
        {
          "output_type": "stream",
          "name": "stdout",
          "text": [
            "[0 1 1 0 1 1 0 0 0 0 1 1 0 1 1 1 0 1 0 1 1 0 0 0 0 0 1 0 1 1 0 1 1 1 1 0 0\n",
            " 1 0 1 0 1 1 0 1 1 1 1 1 1 1 0 1 0 1 0 1 1 1 0 0 1 1 1 0 1 1 1 1 1 1 1 1 0\n",
            " 0 0 1 0 1 0 0 0 1 1 0 1 1 0 1 1 1]\n"
          ]
        }
      ]
    },
    {
      "cell_type": "code",
      "metadata": {
        "colab": {
          "base_uri": "https://localhost:8080/"
        },
        "id": "hP9zPNMW7bXY",
        "outputId": "7a261477-448f-4802-8873-82a6180d173c"
      },
      "source": [
        "#Prediction Score\n",
        "mpm_knn.score(X_test, y_test)"
      ],
      "execution_count": null,
      "outputs": [
        {
          "output_type": "execute_result",
          "data": {
            "text/plain": [
              "0.7142857142857143"
            ]
          },
          "metadata": {},
          "execution_count": 346
        }
      ]
    },
    {
      "cell_type": "code",
      "metadata": {
        "colab": {
          "base_uri": "https://localhost:8080/"
        },
        "id": "TiyjjrK-7d84",
        "outputId": "b5b46737-7f9d-4526-de08-ac4f5cb7b09e"
      },
      "source": [
        "#Accuracy Score\n",
        "from sklearn.metrics import accuracy_score\n",
        "accuracy_score(y_test, y_pred_KNN) "
      ],
      "execution_count": null,
      "outputs": [
        {
          "output_type": "execute_result",
          "data": {
            "text/plain": [
              "0.7142857142857143"
            ]
          },
          "metadata": {},
          "execution_count": 347
        }
      ]
    },
    {
      "cell_type": "code",
      "metadata": {
        "colab": {
          "base_uri": "https://localhost:8080/"
        },
        "id": "pHHQr5nb7fvO",
        "outputId": "f0236922-53d4-432c-c70e-a0a66da9225d"
      },
      "source": [
        "# creating a confusion matrix\n",
        "from sklearn.metrics import confusion_matrix\n",
        "knn_predictions = knn.predict(X_test)\n",
        "cm = confusion_matrix(y_test, knn_predictions)\n",
        "cm"
      ],
      "execution_count": null,
      "outputs": [
        {
          "output_type": "execute_result",
          "data": {
            "text/plain": [
              "array([[27, 17],\n",
              "       [ 9, 38]])"
            ]
          },
          "metadata": {},
          "execution_count": 348
        }
      ]
    },
    {
      "cell_type": "code",
      "metadata": {
        "colab": {
          "base_uri": "https://localhost:8080/"
        },
        "id": "h_Dd-0H47iXR",
        "outputId": "eb6a0bf3-52f8-4b70-b4ea-5464d471f50b"
      },
      "source": [
        "### Classification Report\n",
        "from sklearn.metrics import classification_report\n",
        "print(classification_report(y_test, knn_predictions))"
      ],
      "execution_count": null,
      "outputs": [
        {
          "output_type": "stream",
          "name": "stdout",
          "text": [
            "              precision    recall  f1-score   support\n",
            "\n",
            "           0       0.75      0.61      0.67        44\n",
            "           1       0.69      0.81      0.75        47\n",
            "\n",
            "    accuracy                           0.71        91\n",
            "   macro avg       0.72      0.71      0.71        91\n",
            "weighted avg       0.72      0.71      0.71        91\n",
            "\n"
          ]
        }
      ]
    },
    {
      "cell_type": "markdown",
      "metadata": {
        "id": "dDsdjwm18Bpr"
      },
      "source": [
        "**# SVM**"
      ]
    },
    {
      "cell_type": "code",
      "metadata": {
        "colab": {
          "base_uri": "https://localhost:8080/"
        },
        "id": "SkJ5fBkP7lj-",
        "outputId": "527aa7f0-9ed7-405e-cce4-74fd10ff2685"
      },
      "source": [
        "df.info()"
      ],
      "execution_count": null,
      "outputs": [
        {
          "output_type": "stream",
          "name": "stdout",
          "text": [
            "<class 'pandas.core.frame.DataFrame'>\n",
            "RangeIndex: 303 entries, 0 to 302\n",
            "Data columns (total 14 columns):\n",
            " #   Column    Non-Null Count  Dtype  \n",
            "---  ------    --------------  -----  \n",
            " 0   age       303 non-null    int64  \n",
            " 1   sex       303 non-null    int64  \n",
            " 2   cp        303 non-null    int64  \n",
            " 3   trestbps  303 non-null    int64  \n",
            " 4   chol      303 non-null    float64\n",
            " 5   fbs       303 non-null    int64  \n",
            " 6   restecg   303 non-null    int64  \n",
            " 7   thalach   303 non-null    float64\n",
            " 8   exang     303 non-null    int64  \n",
            " 9   oldpeak   303 non-null    float64\n",
            " 10  slope     303 non-null    int64  \n",
            " 11  ca        303 non-null    int64  \n",
            " 12  thal      303 non-null    int64  \n",
            " 13  target    303 non-null    int64  \n",
            "dtypes: float64(3), int64(11)\n",
            "memory usage: 33.3 KB\n"
          ]
        }
      ]
    },
    {
      "cell_type": "code",
      "metadata": {
        "id": "wpZgLJBJ8jeg"
      },
      "source": [
        "df2= df[:]"
      ],
      "execution_count": null,
      "outputs": []
    },
    {
      "cell_type": "code",
      "metadata": {
        "colab": {
          "base_uri": "https://localhost:8080/"
        },
        "id": "zsoEnlai8mNW",
        "outputId": "e1dbbf48-0ce9-4b29-b931-3da6c5d8cb28"
      },
      "source": [
        "df2.info()"
      ],
      "execution_count": null,
      "outputs": [
        {
          "output_type": "stream",
          "name": "stdout",
          "text": [
            "<class 'pandas.core.frame.DataFrame'>\n",
            "RangeIndex: 303 entries, 0 to 302\n",
            "Data columns (total 14 columns):\n",
            " #   Column    Non-Null Count  Dtype  \n",
            "---  ------    --------------  -----  \n",
            " 0   age       303 non-null    int64  \n",
            " 1   sex       303 non-null    int64  \n",
            " 2   cp        303 non-null    int64  \n",
            " 3   trestbps  303 non-null    int64  \n",
            " 4   chol      303 non-null    float64\n",
            " 5   fbs       303 non-null    int64  \n",
            " 6   restecg   303 non-null    int64  \n",
            " 7   thalach   303 non-null    float64\n",
            " 8   exang     303 non-null    int64  \n",
            " 9   oldpeak   303 non-null    float64\n",
            " 10  slope     303 non-null    int64  \n",
            " 11  ca        303 non-null    int64  \n",
            " 12  thal      303 non-null    int64  \n",
            " 13  target    303 non-null    int64  \n",
            "dtypes: float64(3), int64(11)\n",
            "memory usage: 33.3 KB\n"
          ]
        }
      ]
    },
    {
      "cell_type": "code",
      "metadata": {
        "id": "toBsYieA8pYC"
      },
      "source": [
        "from sklearn.preprocessing import LabelEncoder\n",
        "LE= LabelEncoder()"
      ],
      "execution_count": null,
      "outputs": []
    },
    {
      "cell_type": "code",
      "metadata": {
        "colab": {
          "base_uri": "https://localhost:8080/",
          "height": 423
        },
        "id": "0Mupsok38uIz",
        "outputId": "29fdda71-5929-430e-91a4-b5e5dd3e42b5"
      },
      "source": [
        "df2['sex']= LE.fit_transform(df2['sex'])\n",
        "df2['cp']= LE.fit_transform(df2['cp'])\n",
        "df2['fbs']= LE.fit_transform(df2['fbs'])\n",
        "df2['restecg']= LE.fit_transform(df2['restecg'])\n",
        "df2['exang']= LE.fit_transform(df2['exang'])\n",
        "df2['slope']= LE.fit_transform(df2['slope'])\n",
        "df2['ca']= LE.fit_transform(df2['ca'])\n",
        "df2['thal']= LE.fit_transform(df2['thal'])\n",
        "df2"
      ],
      "execution_count": null,
      "outputs": [
        {
          "output_type": "execute_result",
          "data": {
            "text/html": [
              "<div>\n",
              "<style scoped>\n",
              "    .dataframe tbody tr th:only-of-type {\n",
              "        vertical-align: middle;\n",
              "    }\n",
              "\n",
              "    .dataframe tbody tr th {\n",
              "        vertical-align: top;\n",
              "    }\n",
              "\n",
              "    .dataframe thead th {\n",
              "        text-align: right;\n",
              "    }\n",
              "</style>\n",
              "<table border=\"1\" class=\"dataframe\">\n",
              "  <thead>\n",
              "    <tr style=\"text-align: right;\">\n",
              "      <th></th>\n",
              "      <th>age</th>\n",
              "      <th>sex</th>\n",
              "      <th>cp</th>\n",
              "      <th>trestbps</th>\n",
              "      <th>chol</th>\n",
              "      <th>fbs</th>\n",
              "      <th>restecg</th>\n",
              "      <th>thalach</th>\n",
              "      <th>exang</th>\n",
              "      <th>oldpeak</th>\n",
              "      <th>slope</th>\n",
              "      <th>ca</th>\n",
              "      <th>thal</th>\n",
              "      <th>target</th>\n",
              "    </tr>\n",
              "  </thead>\n",
              "  <tbody>\n",
              "    <tr>\n",
              "      <th>0</th>\n",
              "      <td>63</td>\n",
              "      <td>1</td>\n",
              "      <td>1</td>\n",
              "      <td>145</td>\n",
              "      <td>233.0</td>\n",
              "      <td>1</td>\n",
              "      <td>0</td>\n",
              "      <td>150.0</td>\n",
              "      <td>0</td>\n",
              "      <td>2.3</td>\n",
              "      <td>0</td>\n",
              "      <td>0</td>\n",
              "      <td>1</td>\n",
              "      <td>1</td>\n",
              "    </tr>\n",
              "    <tr>\n",
              "      <th>1</th>\n",
              "      <td>37</td>\n",
              "      <td>1</td>\n",
              "      <td>1</td>\n",
              "      <td>130</td>\n",
              "      <td>250.0</td>\n",
              "      <td>0</td>\n",
              "      <td>1</td>\n",
              "      <td>187.0</td>\n",
              "      <td>0</td>\n",
              "      <td>3.5</td>\n",
              "      <td>0</td>\n",
              "      <td>0</td>\n",
              "      <td>0</td>\n",
              "      <td>1</td>\n",
              "    </tr>\n",
              "    <tr>\n",
              "      <th>2</th>\n",
              "      <td>41</td>\n",
              "      <td>0</td>\n",
              "      <td>1</td>\n",
              "      <td>130</td>\n",
              "      <td>204.0</td>\n",
              "      <td>0</td>\n",
              "      <td>0</td>\n",
              "      <td>172.0</td>\n",
              "      <td>0</td>\n",
              "      <td>1.4</td>\n",
              "      <td>1</td>\n",
              "      <td>0</td>\n",
              "      <td>0</td>\n",
              "      <td>1</td>\n",
              "    </tr>\n",
              "    <tr>\n",
              "      <th>3</th>\n",
              "      <td>56</td>\n",
              "      <td>1</td>\n",
              "      <td>1</td>\n",
              "      <td>120</td>\n",
              "      <td>236.0</td>\n",
              "      <td>0</td>\n",
              "      <td>1</td>\n",
              "      <td>178.0</td>\n",
              "      <td>0</td>\n",
              "      <td>0.8</td>\n",
              "      <td>1</td>\n",
              "      <td>0</td>\n",
              "      <td>0</td>\n",
              "      <td>1</td>\n",
              "    </tr>\n",
              "    <tr>\n",
              "      <th>4</th>\n",
              "      <td>57</td>\n",
              "      <td>0</td>\n",
              "      <td>0</td>\n",
              "      <td>120</td>\n",
              "      <td>354.0</td>\n",
              "      <td>0</td>\n",
              "      <td>1</td>\n",
              "      <td>163.0</td>\n",
              "      <td>1</td>\n",
              "      <td>0.6</td>\n",
              "      <td>1</td>\n",
              "      <td>0</td>\n",
              "      <td>0</td>\n",
              "      <td>1</td>\n",
              "    </tr>\n",
              "    <tr>\n",
              "      <th>...</th>\n",
              "      <td>...</td>\n",
              "      <td>...</td>\n",
              "      <td>...</td>\n",
              "      <td>...</td>\n",
              "      <td>...</td>\n",
              "      <td>...</td>\n",
              "      <td>...</td>\n",
              "      <td>...</td>\n",
              "      <td>...</td>\n",
              "      <td>...</td>\n",
              "      <td>...</td>\n",
              "      <td>...</td>\n",
              "      <td>...</td>\n",
              "      <td>...</td>\n",
              "    </tr>\n",
              "    <tr>\n",
              "      <th>298</th>\n",
              "      <td>57</td>\n",
              "      <td>0</td>\n",
              "      <td>0</td>\n",
              "      <td>140</td>\n",
              "      <td>241.0</td>\n",
              "      <td>0</td>\n",
              "      <td>1</td>\n",
              "      <td>123.0</td>\n",
              "      <td>1</td>\n",
              "      <td>0.2</td>\n",
              "      <td>0</td>\n",
              "      <td>0</td>\n",
              "      <td>1</td>\n",
              "      <td>0</td>\n",
              "    </tr>\n",
              "    <tr>\n",
              "      <th>299</th>\n",
              "      <td>45</td>\n",
              "      <td>1</td>\n",
              "      <td>1</td>\n",
              "      <td>110</td>\n",
              "      <td>264.0</td>\n",
              "      <td>0</td>\n",
              "      <td>1</td>\n",
              "      <td>132.0</td>\n",
              "      <td>0</td>\n",
              "      <td>1.2</td>\n",
              "      <td>0</td>\n",
              "      <td>0</td>\n",
              "      <td>1</td>\n",
              "      <td>0</td>\n",
              "    </tr>\n",
              "    <tr>\n",
              "      <th>300</th>\n",
              "      <td>68</td>\n",
              "      <td>1</td>\n",
              "      <td>0</td>\n",
              "      <td>144</td>\n",
              "      <td>193.0</td>\n",
              "      <td>1</td>\n",
              "      <td>1</td>\n",
              "      <td>141.0</td>\n",
              "      <td>0</td>\n",
              "      <td>3.4</td>\n",
              "      <td>0</td>\n",
              "      <td>1</td>\n",
              "      <td>1</td>\n",
              "      <td>0</td>\n",
              "    </tr>\n",
              "    <tr>\n",
              "      <th>301</th>\n",
              "      <td>57</td>\n",
              "      <td>1</td>\n",
              "      <td>0</td>\n",
              "      <td>130</td>\n",
              "      <td>131.0</td>\n",
              "      <td>0</td>\n",
              "      <td>1</td>\n",
              "      <td>115.0</td>\n",
              "      <td>1</td>\n",
              "      <td>1.2</td>\n",
              "      <td>0</td>\n",
              "      <td>1</td>\n",
              "      <td>1</td>\n",
              "      <td>0</td>\n",
              "    </tr>\n",
              "    <tr>\n",
              "      <th>302</th>\n",
              "      <td>57</td>\n",
              "      <td>0</td>\n",
              "      <td>1</td>\n",
              "      <td>130</td>\n",
              "      <td>236.0</td>\n",
              "      <td>0</td>\n",
              "      <td>0</td>\n",
              "      <td>174.0</td>\n",
              "      <td>0</td>\n",
              "      <td>0.0</td>\n",
              "      <td>0</td>\n",
              "      <td>1</td>\n",
              "      <td>0</td>\n",
              "      <td>0</td>\n",
              "    </tr>\n",
              "  </tbody>\n",
              "</table>\n",
              "<p>303 rows × 14 columns</p>\n",
              "</div>"
            ],
            "text/plain": [
              "     age  sex  cp  trestbps   chol  ...  oldpeak  slope  ca  thal  target\n",
              "0     63    1   1       145  233.0  ...      2.3      0   0     1       1\n",
              "1     37    1   1       130  250.0  ...      3.5      0   0     0       1\n",
              "2     41    0   1       130  204.0  ...      1.4      1   0     0       1\n",
              "3     56    1   1       120  236.0  ...      0.8      1   0     0       1\n",
              "4     57    0   0       120  354.0  ...      0.6      1   0     0       1\n",
              "..   ...  ...  ..       ...    ...  ...      ...    ...  ..   ...     ...\n",
              "298   57    0   0       140  241.0  ...      0.2      0   0     1       0\n",
              "299   45    1   1       110  264.0  ...      1.2      0   0     1       0\n",
              "300   68    1   0       144  193.0  ...      3.4      0   1     1       0\n",
              "301   57    1   0       130  131.0  ...      1.2      0   1     1       0\n",
              "302   57    0   1       130  236.0  ...      0.0      0   1     0       0\n",
              "\n",
              "[303 rows x 14 columns]"
            ]
          },
          "metadata": {},
          "execution_count": 354
        }
      ]
    },
    {
      "cell_type": "code",
      "metadata": {
        "colab": {
          "base_uri": "https://localhost:8080/"
        },
        "id": "8Ddjb6_-8yCi",
        "outputId": "ea130f77-7ac0-4daa-b4b7-0fa826e57f5f"
      },
      "source": [
        "df2.info()"
      ],
      "execution_count": null,
      "outputs": [
        {
          "output_type": "stream",
          "name": "stdout",
          "text": [
            "<class 'pandas.core.frame.DataFrame'>\n",
            "RangeIndex: 303 entries, 0 to 302\n",
            "Data columns (total 14 columns):\n",
            " #   Column    Non-Null Count  Dtype  \n",
            "---  ------    --------------  -----  \n",
            " 0   age       303 non-null    int64  \n",
            " 1   sex       303 non-null    int64  \n",
            " 2   cp        303 non-null    int64  \n",
            " 3   trestbps  303 non-null    int64  \n",
            " 4   chol      303 non-null    float64\n",
            " 5   fbs       303 non-null    int64  \n",
            " 6   restecg   303 non-null    int64  \n",
            " 7   thalach   303 non-null    float64\n",
            " 8   exang     303 non-null    int64  \n",
            " 9   oldpeak   303 non-null    float64\n",
            " 10  slope     303 non-null    int64  \n",
            " 11  ca        303 non-null    int64  \n",
            " 12  thal      303 non-null    int64  \n",
            " 13  target    303 non-null    int64  \n",
            "dtypes: float64(3), int64(11)\n",
            "memory usage: 33.3 KB\n"
          ]
        }
      ]
    },
    {
      "cell_type": "code",
      "metadata": {
        "id": "Aq9rz33Z80F2"
      },
      "source": [
        "X = df2.loc[:, df2.columns != 'target']\n",
        "y = df2.loc[:, df2.columns == 'target']"
      ],
      "execution_count": null,
      "outputs": []
    },
    {
      "cell_type": "code",
      "metadata": {
        "colab": {
          "base_uri": "https://localhost:8080/"
        },
        "id": "VQFsMBw99J5w",
        "outputId": "5c9323eb-6077-4a83-f4d1-cf04c779e445"
      },
      "source": [
        "X.info()"
      ],
      "execution_count": null,
      "outputs": [
        {
          "output_type": "stream",
          "name": "stdout",
          "text": [
            "<class 'pandas.core.frame.DataFrame'>\n",
            "RangeIndex: 303 entries, 0 to 302\n",
            "Data columns (total 13 columns):\n",
            " #   Column    Non-Null Count  Dtype  \n",
            "---  ------    --------------  -----  \n",
            " 0   age       303 non-null    int64  \n",
            " 1   sex       303 non-null    int64  \n",
            " 2   cp        303 non-null    int64  \n",
            " 3   trestbps  303 non-null    int64  \n",
            " 4   chol      303 non-null    float64\n",
            " 5   fbs       303 non-null    int64  \n",
            " 6   restecg   303 non-null    int64  \n",
            " 7   thalach   303 non-null    float64\n",
            " 8   exang     303 non-null    int64  \n",
            " 9   oldpeak   303 non-null    float64\n",
            " 10  slope     303 non-null    int64  \n",
            " 11  ca        303 non-null    int64  \n",
            " 12  thal      303 non-null    int64  \n",
            "dtypes: float64(3), int64(10)\n",
            "memory usage: 30.9 KB\n"
          ]
        }
      ]
    },
    {
      "cell_type": "code",
      "metadata": {
        "colab": {
          "base_uri": "https://localhost:8080/",
          "height": 423
        },
        "id": "nWqe8sgK9Qts",
        "outputId": "8149f881-2f80-4af5-b2bb-d9b991ca914f"
      },
      "source": [
        "y"
      ],
      "execution_count": null,
      "outputs": [
        {
          "output_type": "execute_result",
          "data": {
            "text/html": [
              "<div>\n",
              "<style scoped>\n",
              "    .dataframe tbody tr th:only-of-type {\n",
              "        vertical-align: middle;\n",
              "    }\n",
              "\n",
              "    .dataframe tbody tr th {\n",
              "        vertical-align: top;\n",
              "    }\n",
              "\n",
              "    .dataframe thead th {\n",
              "        text-align: right;\n",
              "    }\n",
              "</style>\n",
              "<table border=\"1\" class=\"dataframe\">\n",
              "  <thead>\n",
              "    <tr style=\"text-align: right;\">\n",
              "      <th></th>\n",
              "      <th>target</th>\n",
              "    </tr>\n",
              "  </thead>\n",
              "  <tbody>\n",
              "    <tr>\n",
              "      <th>0</th>\n",
              "      <td>1</td>\n",
              "    </tr>\n",
              "    <tr>\n",
              "      <th>1</th>\n",
              "      <td>1</td>\n",
              "    </tr>\n",
              "    <tr>\n",
              "      <th>2</th>\n",
              "      <td>1</td>\n",
              "    </tr>\n",
              "    <tr>\n",
              "      <th>3</th>\n",
              "      <td>1</td>\n",
              "    </tr>\n",
              "    <tr>\n",
              "      <th>4</th>\n",
              "      <td>1</td>\n",
              "    </tr>\n",
              "    <tr>\n",
              "      <th>...</th>\n",
              "      <td>...</td>\n",
              "    </tr>\n",
              "    <tr>\n",
              "      <th>298</th>\n",
              "      <td>0</td>\n",
              "    </tr>\n",
              "    <tr>\n",
              "      <th>299</th>\n",
              "      <td>0</td>\n",
              "    </tr>\n",
              "    <tr>\n",
              "      <th>300</th>\n",
              "      <td>0</td>\n",
              "    </tr>\n",
              "    <tr>\n",
              "      <th>301</th>\n",
              "      <td>0</td>\n",
              "    </tr>\n",
              "    <tr>\n",
              "      <th>302</th>\n",
              "      <td>0</td>\n",
              "    </tr>\n",
              "  </tbody>\n",
              "</table>\n",
              "<p>303 rows × 1 columns</p>\n",
              "</div>"
            ],
            "text/plain": [
              "     target\n",
              "0         1\n",
              "1         1\n",
              "2         1\n",
              "3         1\n",
              "4         1\n",
              "..      ...\n",
              "298       0\n",
              "299       0\n",
              "300       0\n",
              "301       0\n",
              "302       0\n",
              "\n",
              "[303 rows x 1 columns]"
            ]
          },
          "metadata": {},
          "execution_count": 358
        }
      ]
    },
    {
      "cell_type": "code",
      "metadata": {
        "id": "eCpIXzRm9S8o"
      },
      "source": [
        "# splitting\n",
        "from sklearn.linear_model import LogisticRegression\n",
        "from sklearn.model_selection import train_test_split"
      ],
      "execution_count": null,
      "outputs": []
    },
    {
      "cell_type": "code",
      "metadata": {
        "id": "bCqGA1ep9art"
      },
      "source": [
        "X_train, X_test, y_train, y_test = train_test_split(X, y, test_size=0.3, random_state=0)"
      ],
      "execution_count": null,
      "outputs": []
    },
    {
      "cell_type": "code",
      "metadata": {
        "id": "dKj4PYXq9doM"
      },
      "source": [
        "from sklearn import svm\n",
        "from sklearn.svm import SVC"
      ],
      "execution_count": null,
      "outputs": []
    },
    {
      "cell_type": "code",
      "metadata": {
        "colab": {
          "base_uri": "https://localhost:8080/"
        },
        "id": "U7GVS1Iz9gnj",
        "outputId": "a96e585a-97e7-4ddc-a6b3-d7941db7b950"
      },
      "source": [
        "svm_model= svm.SVC(kernel='linear', C=1, gamma='auto', probability= True).fit(X_train, y_train)\n"
      ],
      "execution_count": null,
      "outputs": [
        {
          "output_type": "stream",
          "name": "stderr",
          "text": [
            "/usr/local/lib/python3.7/dist-packages/sklearn/utils/validation.py:985: DataConversionWarning: A column-vector y was passed when a 1d array was expected. Please change the shape of y to (n_samples, ), for example using ravel().\n",
            "  y = column_or_1d(y, warn=True)\n"
          ]
        }
      ]
    },
    {
      "cell_type": "code",
      "metadata": {
        "id": "yYRlItzv9krd"
      },
      "source": [
        "y_pred_SVM = svm_model.predict(X_test)"
      ],
      "execution_count": null,
      "outputs": []
    },
    {
      "cell_type": "code",
      "metadata": {
        "colab": {
          "base_uri": "https://localhost:8080/"
        },
        "id": "LRauTAjh9pFj",
        "outputId": "8fbab7d3-cc8a-4c39-9478-095877314b46"
      },
      "source": [
        "# model accuracy for X_test \n",
        "accuracy = svm_model.score(X_test, y_test)\n",
        "print(accuracy)"
      ],
      "execution_count": null,
      "outputs": [
        {
          "output_type": "stream",
          "name": "stdout",
          "text": [
            "0.8241758241758241\n"
          ]
        }
      ]
    },
    {
      "cell_type": "code",
      "metadata": {
        "colab": {
          "base_uri": "https://localhost:8080/"
        },
        "id": "UDvKOeoM98-y",
        "outputId": "3456c495-9115-49f2-c659-aaa10eb20501"
      },
      "source": [
        "# creating a confusion matrix\n",
        "from sklearn.metrics import confusion_matrix\n",
        "cm = confusion_matrix(y_test, y_pred_SVM)\n",
        "cm"
      ],
      "execution_count": null,
      "outputs": [
        {
          "output_type": "execute_result",
          "data": {
            "text/plain": [
              "array([[34, 10],\n",
              "       [ 6, 41]])"
            ]
          },
          "metadata": {},
          "execution_count": 365
        }
      ]
    },
    {
      "cell_type": "code",
      "metadata": {
        "colab": {
          "base_uri": "https://localhost:8080/"
        },
        "id": "ienxT_JP-Af8",
        "outputId": "91502968-3bda-421f-9b70-b89142bb86c8"
      },
      "source": [
        "### Classification Report\n",
        "from sklearn.metrics import classification_report\n",
        "print(classification_report(y_test, y_pred_SVM))"
      ],
      "execution_count": null,
      "outputs": [
        {
          "output_type": "stream",
          "name": "stdout",
          "text": [
            "              precision    recall  f1-score   support\n",
            "\n",
            "           0       0.85      0.77      0.81        44\n",
            "           1       0.80      0.87      0.84        47\n",
            "\n",
            "    accuracy                           0.82        91\n",
            "   macro avg       0.83      0.82      0.82        91\n",
            "weighted avg       0.83      0.82      0.82        91\n",
            "\n"
          ]
        }
      ]
    },
    {
      "cell_type": "markdown",
      "metadata": {
        "id": "rCQoHXqj-I0E"
      },
      "source": [
        "**# Naive Bayes**"
      ]
    },
    {
      "cell_type": "code",
      "metadata": {
        "colab": {
          "base_uri": "https://localhost:8080/"
        },
        "id": "Q3g_FxmA-Ffm",
        "outputId": "5c53f92f-b540-4af8-9981-1c066472da13"
      },
      "source": [
        "from sklearn.naive_bayes import GaussianNB\n",
        "gnb = GaussianNB().fit(X_train, y_train)"
      ],
      "execution_count": null,
      "outputs": [
        {
          "output_type": "stream",
          "name": "stderr",
          "text": [
            "/usr/local/lib/python3.7/dist-packages/sklearn/utils/validation.py:985: DataConversionWarning: A column-vector y was passed when a 1d array was expected. Please change the shape of y to (n_samples, ), for example using ravel().\n",
            "  y = column_or_1d(y, warn=True)\n"
          ]
        }
      ]
    },
    {
      "cell_type": "code",
      "metadata": {
        "id": "2itLz2_5-IL6"
      },
      "source": [
        "gnb_predictions = gnb.predict(X_test)"
      ],
      "execution_count": null,
      "outputs": []
    },
    {
      "cell_type": "code",
      "metadata": {
        "colab": {
          "base_uri": "https://localhost:8080/"
        },
        "id": "flhb4l0y-Oxg",
        "outputId": "06165767-7624-4183-d60c-ed545b75e9d6"
      },
      "source": [
        "# accuracy on X_test\n",
        "accuracy = gnb.score(X_test, y_test)\n",
        "print(accuracy)"
      ],
      "execution_count": null,
      "outputs": [
        {
          "output_type": "stream",
          "name": "stdout",
          "text": [
            "0.8131868131868132\n"
          ]
        }
      ]
    },
    {
      "cell_type": "code",
      "metadata": {
        "colab": {
          "base_uri": "https://localhost:8080/"
        },
        "id": "GyRhpYUJ-RoP",
        "outputId": "74eb4428-2b35-4956-d012-872f540edde7"
      },
      "source": [
        "# creating a confusion matrix\n",
        "cm = confusion_matrix(y_test, gnb_predictions)\n",
        "cm"
      ],
      "execution_count": null,
      "outputs": [
        {
          "output_type": "execute_result",
          "data": {
            "text/plain": [
              "array([[35,  9],\n",
              "       [ 8, 39]])"
            ]
          },
          "metadata": {},
          "execution_count": 370
        }
      ]
    },
    {
      "cell_type": "code",
      "metadata": {
        "id": "VAmtEsUO-UyV",
        "colab": {
          "base_uri": "https://localhost:8080/"
        },
        "outputId": "6ad71a38-81ea-45f2-a2b6-fc7840e79022"
      },
      "source": [
        "### Classification Report\n",
        "from sklearn.metrics import classification_report\n",
        "print(classification_report(y_test, gnb_predictions))"
      ],
      "execution_count": null,
      "outputs": [
        {
          "output_type": "stream",
          "name": "stdout",
          "text": [
            "              precision    recall  f1-score   support\n",
            "\n",
            "           0       0.81      0.80      0.80        44\n",
            "           1       0.81      0.83      0.82        47\n",
            "\n",
            "    accuracy                           0.81        91\n",
            "   macro avg       0.81      0.81      0.81        91\n",
            "weighted avg       0.81      0.81      0.81        91\n",
            "\n"
          ]
        }
      ]
    },
    {
      "cell_type": "code",
      "metadata": {
        "id": "W4hUoqVd-XVd"
      },
      "source": [
        ""
      ],
      "execution_count": null,
      "outputs": []
    }
  ]
}